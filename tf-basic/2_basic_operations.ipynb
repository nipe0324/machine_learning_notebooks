{
 "cells": [
  {
   "cell_type": "markdown",
   "metadata": {},
   "source": [
    "# 基本的な演算処理"
   ]
  },
  {
   "cell_type": "code",
   "execution_count": 1,
   "metadata": {
    "collapsed": true
   },
   "outputs": [],
   "source": [
    "import tensorflow as tf"
   ]
  },
  {
   "cell_type": "markdown",
   "metadata": {},
   "source": [
    "## 定数(constant op)"
   ]
  },
  {
   "cell_type": "code",
   "execution_count": 2,
   "metadata": {
    "collapsed": true
   },
   "outputs": [],
   "source": [
    "# constant op (定数) を定義\n",
    "a = tf.constant(2)\n",
    "b = tf.constant(3)"
   ]
  },
  {
   "cell_type": "code",
   "execution_count": 10,
   "metadata": {
    "collapsed": false
   },
   "outputs": [
    {
     "name": "stdout",
     "output_type": "stream",
     "text": [
      "a=2, b=3\n",
      "Addition with constants: 5\n",
      "Multiplication with constnats: 6\n"
     ]
    }
   ],
   "source": [
    "# デフォルトのグラフを立ち上げ、足し算と掛け算を計算\n",
    "with tf.Session() as sess:\n",
    "    print(\"a=2, b=3\")\n",
    "    print(\"Addition with constants: {0}\".format(sess.run(a+b)))\n",
    "    print(\"Multiplication with constnats: {0}\".format(sess.run(a*b)))"
   ]
  },
  {
   "cell_type": "markdown",
   "metadata": {},
   "source": [
    "## 演算(operations)"
   ]
  },
  {
   "cell_type": "code",
   "execution_count": 5,
   "metadata": {
    "collapsed": true
   },
   "outputs": [],
   "source": [
    "# add op (追加), mul op (掛け算)を定義\n",
    "add = tf.add(a, b)\n",
    "mul = tf.mul(a, b)"
   ]
  },
  {
   "cell_type": "code",
   "execution_count": 7,
   "metadata": {
    "collapsed": false
   },
   "outputs": [
    {
     "name": "stdout",
     "output_type": "stream",
     "text": [
      "Addition with variables: 7\n",
      "Multiplication with variables: 12\n"
     ]
    }
   ],
   "source": [
    "# デフォルトのグラフを立ち上げ、add op、mul opを実行\n",
    "with tf.Session() as sess:\n",
    "    # feed_dictで実行時に a, b の値を設定\n",
    "    print(\"Addition with variables: {0}\".format(sess.run(add, feed_dict={ a: 3, b: 4 })))\n",
    "    print(\"Multiplication with variables: {0}\".format(sess.run(mul, feed_dict={ a: 3, b: 4 })))    "
   ]
  },
  {
   "cell_type": "markdown",
   "metadata": {},
   "source": [
    "## 行列演算(matrix multiplication)"
   ]
  },
  {
   "cell_type": "code",
   "execution_count": 12,
   "metadata": {
    "collapsed": true
   },
   "outputs": [],
   "source": [
    "# 行列を定義\n",
    "matrix1 = tf.constant([ [3., 3.] ]) # 1x2 行列\n",
    "matrix2 = tf.constant([ [2.], [2.] ]) # 2x1　行列\n",
    "\n",
    "# 行列演算を定義 (matmul: matrix multiplication)\n",
    "product1 = tf.matmul(matrix1, matrix2) # 1x2, 2x1 => 1x1行列\n",
    "product2 = tf.matmul(matrix2, matrix1) # 2x1, 1x2 => 2x2行列"
   ]
  },
  {
   "cell_type": "code",
   "execution_count": 16,
   "metadata": {
    "collapsed": false
   },
   "outputs": [
    {
     "name": "stdout",
     "output_type": "stream",
     "text": [
      "product1: [[ 12.]]\n",
      "product2: [[ 6.  6.]\n",
      " [ 6.  6.]]\n"
     ]
    }
   ],
   "source": [
    "with tf.Session() as sess:\n",
    "    print(\"product1: {0}\".format(sess.run(product1))) # [ [3 x 2 + 3 x 2] ]\n",
    "    print(\"product2: {0}\".format(sess.run(product2))) # [ [3x2, 3x2], [3x2, 3x2] ]"
   ]
  }
 ],
 "metadata": {
  "kernelspec": {
   "display_name": "Python 3",
   "language": "python",
   "name": "python3"
  },
  "language_info": {
   "codemirror_mode": {
    "name": "ipython",
    "version": 3
   },
   "file_extension": ".py",
   "mimetype": "text/x-python",
   "name": "python",
   "nbconvert_exporter": "python",
   "pygments_lexer": "ipython3",
   "version": "3.5.1"
  }
 },
 "nbformat": 4,
 "nbformat_minor": 1
}
