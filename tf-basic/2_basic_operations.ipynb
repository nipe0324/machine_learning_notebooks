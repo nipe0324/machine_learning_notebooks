{
 "cells": [
  {
   "cell_type": "markdown",
   "metadata": {},
   "source": [
    "# 基本的な演算処理"
   ]
  },
  {
   "cell_type": "code",
   "execution_count": 2,
   "metadata": {
    "collapsed": true
   },
   "outputs": [],
   "source": [
    "import tensorflow as tf\n",
    "sess = tf.InteractiveSession()"
   ]
  },
  {
   "cell_type": "markdown",
   "metadata": {},
   "source": [
    "## 定数(constant op)"
   ]
  },
  {
   "cell_type": "code",
   "execution_count": 3,
   "metadata": {
    "collapsed": true
   },
   "outputs": [],
   "source": [
    "# constant op (定数) を定義\n",
    "a = tf.constant(2)\n",
    "b = tf.constant(3)"
   ]
  },
  {
   "cell_type": "code",
   "execution_count": 4,
   "metadata": {
    "collapsed": false
   },
   "outputs": [
    {
     "name": "stdout",
     "output_type": "stream",
     "text": [
      "a=2, b=3\n",
      "Addition with constants: 5\n",
      "Multiplication with constnats: 6\n"
     ]
    }
   ],
   "source": [
    "# デフォルトのグラフを立ち上げ、足し算と掛け算を計算\n",
    "print(\"a=2, b=3\")\n",
    "print(\"Addition with constants: {0}\".format(sess.run(a+b)))\n",
    "print(\"Multiplication with constnats: {0}\".format(sess.run(a*b)))"
   ]
  },
  {
   "cell_type": "markdown",
   "metadata": {},
   "source": [
    "## 演算(operations)"
   ]
  },
  {
   "cell_type": "code",
   "execution_count": 5,
   "metadata": {
    "collapsed": true
   },
   "outputs": [],
   "source": [
    "# add op (追加), mul op (掛け算)を定義\n",
    "add = tf.add(a, b)\n",
    "mul = tf.mul(a, b)"
   ]
  },
  {
   "cell_type": "code",
   "execution_count": 6,
   "metadata": {
    "collapsed": false
   },
   "outputs": [
    {
     "name": "stdout",
     "output_type": "stream",
     "text": [
      "Addition with variables: 5\n",
      "Multiplication with variables: 6\n"
     ]
    }
   ],
   "source": [
    "print(\"Addition with variables: {0}\".format(sess.run(add)))\n",
    "print(\"Multiplication with variables: {0}\".format(sess.run(mul)))    "
   ]
  },
  {
   "cell_type": "markdown",
   "metadata": {},
   "source": [
    "## 行列演算(matrix multiplication)"
   ]
  },
  {
   "cell_type": "code",
   "execution_count": 7,
   "metadata": {
    "collapsed": true
   },
   "outputs": [],
   "source": [
    "# 行列を定義\n",
    "matrix1 = tf.constant([ [3., 3.] ]) # 1x2 行列\n",
    "matrix2 = tf.constant([ [2.], [2.] ]) # 2x1　行列\n",
    "\n",
    "# 行列演算を定義 (matmul: matrix multiplication)\n",
    "product1 = tf.matmul(matrix1, matrix2) # 1x2, 2x1 => 1x1行列\n",
    "product2 = tf.matmul(matrix2, matrix1) # 2x1, 1x2 => 2x2行列"
   ]
  },
  {
   "cell_type": "code",
   "execution_count": 8,
   "metadata": {
    "collapsed": false
   },
   "outputs": [
    {
     "name": "stdout",
     "output_type": "stream",
     "text": [
      "product1:\n",
      " [[ 12.]]\n",
      "product2:\n",
      " [[ 6.  6.]\n",
      " [ 6.  6.]]\n"
     ]
    }
   ],
   "source": [
    "print(\"product1:\\n {0}\".format(sess.run(product1))) # [ [3 x 2 + 3 x 2] ]\n",
    "print(\"product2:\\n {0}\".format(sess.run(product2))) # [ [3x2, 3x2], [3x2, 3x2] ]"
   ]
  },
  {
   "cell_type": "markdown",
   "metadata": {},
   "source": [
    "# Reduction"
   ]
  },
  {
   "cell_type": "code",
   "execution_count": 9,
   "metadata": {
    "collapsed": false
   },
   "outputs": [
    {
     "name": "stdout",
     "output_type": "stream",
     "text": [
      "6\n",
      "[2 2 2]\n",
      "[3 3]\n",
      "[[3]\n",
      " [3]]\n"
     ]
    }
   ],
   "source": [
    "# 合計を求める\n",
    "x = [[1, 1, 1],\n",
    "        [1, 1, 1]]\n",
    "print( tf.reduce_sum(x).eval() ) # すべての合計\n",
    "print( tf.reduce_sum(x, 0).eval() ) # 0 dimで合計\n",
    "print( tf.reduce_sum(x, 1).eval() ) # 1 dimで合計\n",
    "print( tf.reduce_sum(x, 1, keep_dims=True).eval() ) # 次元をを維持"
   ]
  },
  {
   "cell_type": "code",
   "execution_count": 10,
   "metadata": {
    "collapsed": false
   },
   "outputs": [
    {
     "name": "stdout",
     "output_type": "stream",
     "text": [
      "1.5\n",
      "[ 1.5  1.5]\n",
      "[ 1.  2.]\n"
     ]
    }
   ],
   "source": [
    "# 平均を求める\n",
    "x2 = [[1., 1.],\n",
    "          [2., 2.]]\n",
    "print( tf.reduce_mean(x2).eval() )\n",
    "print( tf.reduce_mean(x2, 0).eval() )\n",
    "print( tf.reduce_mean(x2, 1).eval() )"
   ]
  }
 ],
 "metadata": {
  "kernelspec": {
   "display_name": "Python 3",
   "language": "python",
   "name": "python3"
  },
  "language_info": {
   "codemirror_mode": {
    "name": "ipython",
    "version": 3
   },
   "file_extension": ".py",
   "mimetype": "text/x-python",
   "name": "python",
   "nbconvert_exporter": "python",
   "pygments_lexer": "ipython3",
   "version": "3.5.1"
  }
 },
 "nbformat": 4,
 "nbformat_minor": 1
}
