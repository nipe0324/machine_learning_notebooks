{
 "cells": [
  {
   "cell_type": "markdown",
   "metadata": {},
   "source": [
    "# ニューラルネットワーク (Neural Network)\n",
    "\n",
    "ひらがな判定をする。72種類"
   ]
  },
  {
   "cell_type": "markdown",
   "metadata": {},
   "source": [
    "ライブラリ読み込み"
   ]
  },
  {
   "cell_type": "code",
   "execution_count": 1,
   "metadata": {
    "collapsed": true
   },
   "outputs": [],
   "source": [
    "import numpy as np\n",
    "import scipy\n",
    "from sklearn.model_selection import train_test_split\n",
    "import tensorflow as tf\n",
    "import matplotlib.pyplot as plt\n",
    "%matplotlib inline\n",
    "\n",
    "import warnings\n",
    "warnings.filterwarnings('ignore')"
   ]
  },
  {
   "cell_type": "code",
   "execution_count": 2,
   "metadata": {
    "collapsed": false
   },
   "outputs": [
    {
     "name": "stdout",
     "output_type": "stream",
     "text": [
      "train set: (9216, 1024) (9216, 72)\n",
      "cv set: (2304, 1024) (2304, 72)\n"
     ]
    }
   ],
   "source": [
    "# 分類クラス数\n",
    "nb_classes = 72\n",
    "\n",
    "# データの読み込み\n",
    "ary = np.load(\"./../data/hiragana.npz\")['arr_0'].reshape([-1, 127, 128]).astype(np.float32) / 15\n",
    "ary.shape\n",
    "\n",
    "# 入力データの取得\n",
    "# サイズを変換する (127, 128) => (32, 32)\n",
    "img_height, img_width = 32, 32\n",
    "\n",
    "X_data = np.zeros([nb_classes * 160, img_height, img_width], dtype=np.float32)\n",
    "for i in range(nb_classes * 160):\n",
    "    # 画像をリサイズする\n",
    "    X_data[i] = scipy.misc.imresize(ary[i], (img_height, img_width), mode='F')\n",
    "Y_data = np.repeat(np.arange(nb_classes), 160)\n",
    "\n",
    "del ary\n",
    "\n",
    "# ニューラルネットワークの入力にあわせるため、2次元を1次元にする\n",
    "# (11520, 32, 32) => (11520, 1024) # 1024 = 32*32\n",
    "X_data = X_data.reshape(X_data.shape[0], img_height * img_width)\n",
    "\n",
    "# データセットをトレーニングセットとCVに分ける（8:2)\n",
    "X_train, X_val, Y_train, Y_val = train_test_split(X_data, Y_data, test_size=0.2)\n",
    "\n",
    "# one-hot vectorに変換する\n",
    "def to_categorical(y, nb_classes=None):\n",
    "    y = np.array(y, dtype='int').ravel()\n",
    "    if not nb_classes:\n",
    "        nb_classes = np.max(y) + 1\n",
    "    n = y.shape[0]\n",
    "    categorical = np.zeros((n, nb_classes))\n",
    "    categorical[np.arange(n), y] = 1\n",
    "    return categorical\n",
    "\n",
    "Y_train0_old = Y_train[0]\n",
    "Y_train = to_categorical(Y_train, nb_classes)\n",
    "Y_val = to_categorical(Y_val, nb_classes)\n",
    "\n",
    "# 表示\n",
    "print('train set:', X_train.shape, Y_train.shape)\n",
    "print('cv set:', X_val.shape, Y_val.shape)"
   ]
  },
  {
   "cell_type": "markdown",
   "metadata": {},
   "source": [
    "## モデルの作成\n",
    "\n",
    "```\n",
    "input:      [batch_size, 1024(32x32))]\n",
    "hidden:   weights(1024x1024) + bias(1024) => relu\n",
    "output:   weights(1024x72) + bias(72) => softmax, cross_entropy\n",
    "```"
   ]
  },
  {
   "cell_type": "markdown",
   "metadata": {},
   "source": [
    "グラフの入力を定義"
   ]
  },
  {
   "cell_type": "code",
   "execution_count": 3,
   "metadata": {
    "collapsed": true
   },
   "outputs": [],
   "source": [
    "X = tf.placeholder(tf.float32, [None, 1024]) # 入力数: 32x32 = 1,024\n",
    "y = tf.placeholder(tf.float32, [None, 72]) # 分類するクラス数: 72"
   ]
  },
  {
   "cell_type": "markdown",
   "metadata": {},
   "source": [
    "モデルの重み$W$とバイアス$b$の変数を定義"
   ]
  },
  {
   "cell_type": "code",
   "execution_count": 4,
   "metadata": {
    "collapsed": false
   },
   "outputs": [],
   "source": [
    "# 出力層\n",
    "W_o = tf.Variable(tf.truncated_normal([1024, 72]))\n",
    "b_o = tf.Variable(tf.truncated_normal([72])) "
   ]
  },
  {
   "cell_type": "markdown",
   "metadata": {},
   "source": [
    "出力層の計算"
   ]
  },
  {
   "cell_type": "code",
   "execution_count": 5,
   "metadata": {
    "collapsed": false
   },
   "outputs": [],
   "source": [
    "logits = tf.add(tf.matmul(X, W_o), b_o)"
   ]
  },
  {
   "cell_type": "markdown",
   "metadata": {},
   "source": [
    "損失の計算（softmaxをしてクロスエントロピーでコストを計算する)"
   ]
  },
  {
   "cell_type": "code",
   "execution_count": 6,
   "metadata": {
    "collapsed": true
   },
   "outputs": [],
   "source": [
    "cost = tf.reduce_mean(tf.nn.softmax_cross_entropy_with_logits(logits, y))"
   ]
  },
  {
   "cell_type": "markdown",
   "metadata": {},
   "source": [
    "最適化を勾配降下法で定義学習率: 0.5"
   ]
  },
  {
   "cell_type": "code",
   "execution_count": 7,
   "metadata": {
    "collapsed": false
   },
   "outputs": [],
   "source": [
    "update = tf.train.GradientDescentOptimizer(0.5).minimize(cost)"
   ]
  },
  {
   "cell_type": "markdown",
   "metadata": {},
   "source": [
    "精度測定の定義"
   ]
  },
  {
   "cell_type": "code",
   "execution_count": 8,
   "metadata": {
    "collapsed": false
   },
   "outputs": [],
   "source": [
    "# 正しいかの予測\n",
    "y_pred = tf.nn.softmax(logits)\n",
    "correct_prediction = tf.equal(tf.argmax(y,1), tf.argmax(y_pred,1))\n",
    "accuracy = tf.reduce_mean(tf.cast(correct_prediction, \"float\"))"
   ]
  },
  {
   "cell_type": "markdown",
   "metadata": {},
   "source": [
    "## トレーニング"
   ]
  },
  {
   "cell_type": "code",
   "execution_count": 9,
   "metadata": {
    "collapsed": false
   },
   "outputs": [
    {
     "name": "stdout",
     "output_type": "stream",
     "text": [
      "Epoch: 0100, cost=2.010739449, train acc=0.56250, val acc=0.47135\n",
      "Epoch: 0200, cost=1.541207575, train acc=0.64062, val acc=0.56424\n",
      "Epoch: 0300, cost=1.330731872, train acc=0.68359, val acc=0.59852\n",
      "Epoch: 0400, cost=1.202124602, train acc=0.69531, val acc=0.61762\n",
      "Epoch: 0500, cost=1.112130806, train acc=0.71875, val acc=0.63628\n",
      "Epoch: 0600, cost=1.043984849, train acc=0.72656, val acc=0.64627\n",
      "Epoch: 0700, cost=0.989638183, train acc=0.73047, val acc=0.65321\n",
      "Epoch: 0800, cost=0.944699691, train acc=0.75000, val acc=0.65799\n",
      "Epoch: 0900, cost=0.906546031, train acc=0.75391, val acc=0.66319\n",
      "Epoch: 1000, cost=0.873497503, train acc=0.75781, val acc=0.66233\n",
      "Epoch: 1100, cost=0.844418839, train acc=0.78125, val acc=0.66233\n",
      "Epoch: 1200, cost=0.818509306, train acc=0.78906, val acc=0.66493\n",
      "Epoch: 1300, cost=0.795183930, train acc=0.79688, val acc=0.66536\n",
      "Epoch: 1400, cost=0.774002807, train acc=0.80469, val acc=0.66580\n",
      "Epoch: 1500, cost=0.754627364, train acc=0.81641, val acc=0.66753\n",
      "Epoch: 1600, cost=0.736791223, train acc=0.82031, val acc=0.66667\n",
      "Epoch: 1700, cost=0.720281507, train acc=0.82031, val acc=0.66927\n",
      "Epoch: 1800, cost=0.704925544, train acc=0.82422, val acc=0.66797\n",
      "Epoch: 1900, cost=0.690581558, train acc=0.83203, val acc=0.66623\n",
      "Epoch: 2000, cost=0.677131583, train acc=0.83203, val acc=0.66710\n",
      "Epoch: 2100, cost=0.664476830, train acc=0.83984, val acc=0.66710\n",
      "Epoch: 2200, cost=0.652533662, train acc=0.84375, val acc=0.66710\n",
      "Epoch: 2300, cost=0.641230727, train acc=0.84375, val acc=0.66884\n",
      "Epoch: 2400, cost=0.630506765, train acc=0.84375, val acc=0.66840\n",
      "Epoch: 2500, cost=0.620308844, train acc=0.84766, val acc=0.66797\n",
      "Epoch: 2600, cost=0.610590921, train acc=0.85156, val acc=0.66884\n",
      "Epoch: 2700, cost=0.601312843, train acc=0.85547, val acc=0.66840\n",
      "Epoch: 2800, cost=0.592439267, train acc=0.85547, val acc=0.66884\n",
      "Epoch: 2900, cost=0.583939006, train acc=0.85547, val acc=0.66927\n",
      "Epoch: 3000, cost=0.575784380, train acc=0.85938, val acc=0.66884\n",
      "Complete\n"
     ]
    }
   ],
   "source": [
    "train_hist = []\n",
    "val_hist = []\n",
    "batch_size = 256\n",
    "\n",
    "with tf.Session() as sess:\n",
    "    # Variableの初期化\n",
    "    sess.run(tf.initialize_all_variables())\n",
    "\n",
    "    # 3000回トレーニングする\n",
    "    for epoch in range(3000):\n",
    "        avg_cost = 0.0\n",
    "        nb_batch = int(X_train.shape[0] / batch_size) # バッチループ数: 11520 / 100 = 115.2\n",
    "        for i in range(nb_batch):\n",
    "            start =  i * batch_size\n",
    "            end = start + batch_size\n",
    "            batch_xs, batch_ys = X_train[start:end], Y_train[start:end]\n",
    "            _, cost_v = sess.run([update, cost], feed_dict={X: batch_xs, y: batch_ys})\n",
    "            avg_cost += cost_v / nb_batch\n",
    "        \n",
    "        # 100エポックごとに進捗を表示\n",
    "        if (epoch+1) % 100 == 0:\n",
    "            train_acc = accuracy.eval(feed_dict={X: batch_xs, y: batch_ys})\n",
    "            val_acc = accuracy.eval(feed_dict={X: X_val, y: Y_val})\n",
    "            train_hist.append(train_acc)\n",
    "            val_hist.append(val_acc)\n",
    "            print(\"Epoch: {:04d}, cost={:.9f}, train acc={:.5f}, val acc={:.5f}\".format(\n",
    "                        (epoch+1), avg_cost, train_acc, val_acc))\n",
    "            \n",
    "    print(\"Complete\")"
   ]
  },
  {
   "cell_type": "code",
   "execution_count": 10,
   "metadata": {
    "collapsed": false
   },
   "outputs": [
    {
     "data": {
      "image/png": "[encoded data removed]",
      "text/plain": [
       "<matplotlib.figure.Figure at 0x11fbb0630>"
      ]
     },
     "metadata": {},
     "output_type": "display_data"
    }
   ],
   "source": [
    "# 学習曲線を引く\n",
    "xlin = range(0, len(train_hist))\n",
    "plt.plot(xlin, train_hist, color='blue', label='train accuracy')\n",
    "plt.plot(xlin, val_hist, color='green', label='cv accuracy')\n",
    "plt.title('Learning curve')\n",
    "plt.xlabel('Epochs (x 100)')\n",
    "plt.ylabel('accuracy')\n",
    "plt.legend( ('train accuracy', 'cv accuracy'), loc='lower right')\n",
    "plt.show()"
   ]
  }
 ],
 "metadata": {
  "kernelspec": {
   "display_name": "Python 3",
   "language": "python",
   "name": "python3"
  },
  "language_info": {
   "codemirror_mode": {
    "name": "ipython",
    "version": 3
   },
   "file_extension": ".py",
   "mimetype": "text/x-python",
   "name": "python",
   "nbconvert_exporter": "python",
   "pygments_lexer": "ipython3",
   "version": "3.5.1"
  }
 },
 "nbformat": 4,
 "nbformat_minor": 1
}
