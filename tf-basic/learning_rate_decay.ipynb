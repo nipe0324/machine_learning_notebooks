{
 "cells": [
  {
   "cell_type": "markdown",
   "metadata": {},
   "source": [
    "## learning rate decay\n",
    "\n",
    "http://7rpn.hatenablog.com/entry/2015/11/29/131601\n",
    "\n",
    "```py\n",
    "learning_rate = tf.train.exponential_decay(\n",
    "      0.01,                # 学習率の初期設定\n",
    "      batch * BATCH_SIZE,  # いまdatasetのいくつめか\n",
    "      train_size,          # 学習がどの程度進んだら学習量を減衰させるか\n",
    "      0.95,                #  減衰させる量\n",
    "      staircase=True)\n",
    "```\n",
    "\n",
    "```py\n",
    "global_step = tf.Variable(0)  # count the number of steps taken.\n",
    "learning_rate = tf.train.exponential_decay(0.5, global_step, ...)\n",
    "optimizer = tf.train.GradientDescentOptimizer(learning_rate).minimize(loss, global_step=global_step)\n",
    "```"
   ]
  }
 ],
 "metadata": {
  "kernelspec": {
   "display_name": "Python 3",
   "language": "python",
   "name": "python3"
  },
  "language_info": {
   "codemirror_mode": {
    "name": "ipython",
    "version": 3
   },
   "file_extension": ".py",
   "mimetype": "text/x-python",
   "name": "python",
   "nbconvert_exporter": "python",
   "pygments_lexer": "ipython3",
   "version": "3.5.1"
  }
 },
 "nbformat": 4,
 "nbformat_minor": 1
}
