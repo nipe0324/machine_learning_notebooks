{
 "cells": [
  {
   "cell_type": "markdown",
   "metadata": {},
   "source": [
    "# ロジスティック回帰(logstic regression)\n",
    "\n",
    "MNISTの分類問題を解く"
   ]
  },
  {
   "cell_type": "code",
   "execution_count": 25,
   "metadata": {
    "collapsed": false
   },
   "outputs": [],
   "source": [
    "# ライブラリの読み込み\n",
    "import tensorflow as tf\n",
    "import matplotlib.pyplot as plt\n",
    "%matplotlib inline"
   ]
  },
  {
   "cell_type": "code",
   "execution_count": 3,
   "metadata": {
    "collapsed": false
   },
   "outputs": [
    {
     "name": "stdout",
     "output_type": "stream",
     "text": [
      "Extracting /tmp/data/train-images-idx3-ubyte.gz\n",
      "Extracting /tmp/data/train-labels-idx1-ubyte.gz\n",
      "Extracting /tmp/data/t10k-images-idx3-ubyte.gz\n",
      "Extracting /tmp/data/t10k-labels-idx1-ubyte.gz\n"
     ]
    }
   ],
   "source": [
    "# MNISTデータを読み込む(tensorflowの中に梱包されている)\n",
    "from tensorflow.examples.tutorials.mnist import input_data\n",
    "mnist = input_data.read_data_sets('/tmp/data/', one_hot=True)"
   ]
  },
  {
   "cell_type": "code",
   "execution_count": 32,
   "metadata": {
    "collapsed": true
   },
   "outputs": [],
   "source": [
    "# ハイパーパラメータ\n",
    "learning_rate = 0.01\n",
    "training_epochs = 50\n",
    "batch_size = 100\n",
    "display_step = 1"
   ]
  },
  {
   "cell_type": "code",
   "execution_count": 6,
   "metadata": {
    "collapsed": true
   },
   "outputs": [],
   "source": [
    "# グラフの入力を定義\n",
    "X = tf.placeholder(tf.float32, [None, 784]) # 784=28x28\n",
    "y = tf.placeholder(tf.float32, [None, 10]) # 0-9の数字 = 10クラスに分類"
   ]
  },
  {
   "cell_type": "code",
   "execution_count": 7,
   "metadata": {
    "collapsed": false
   },
   "outputs": [],
   "source": [
    "# モデルの重みとバイアスを定義\n",
    "W = tf.Variable(tf.zeros([784, 10]))\n",
    "b = tf.Variable(tf.zeros([10])) "
   ]
  },
  {
   "cell_type": "code",
   "execution_count": 8,
   "metadata": {
    "collapsed": true
   },
   "outputs": [],
   "source": [
    "# モデルの定義\n",
    "pred = tf.nn.softmax(tf.matmul(X, W))"
   ]
  },
  {
   "cell_type": "code",
   "execution_count": 9,
   "metadata": {
    "collapsed": false
   },
   "outputs": [],
   "source": [
    "# コスト関数を定義（交差エントロピー誤差）\n",
    "cost = tf.reduce_mean(-tf.reduce_sum(y * tf.log(pred), reduction_indices=1))"
   ]
  },
  {
   "cell_type": "markdown",
   "metadata": {},
   "source": [
    "補足: 交差エントロピー誤差\n",
    "\n",
    "$$\n",
    "E = - \\sum_k t_k log y_k\n",
    "$$"
   ]
  },
  {
   "cell_type": "code",
   "execution_count": 11,
   "metadata": {
    "collapsed": false
   },
   "outputs": [],
   "source": [
    "# 勾配降下法の定義（Gradient Descent)\n",
    "optimizer = tf.train.GradientDescentOptimizer(learning_rate).minimize(cost)"
   ]
  },
  {
   "cell_type": "code",
   "execution_count": 12,
   "metadata": {
    "collapsed": true
   },
   "outputs": [],
   "source": [
    "# 変数の初期化（おきまり）\n",
    "init = tf.initialize_all_variables()"
   ]
  },
  {
   "cell_type": "code",
   "execution_count": 35,
   "metadata": {
    "collapsed": true
   },
   "outputs": [],
   "source": [
    "# グラフ表示用の変数を宣言\n",
    "costs = []\n",
    "accuracy = None"
   ]
  },
  {
   "cell_type": "code",
   "execution_count": 36,
   "metadata": {
    "collapsed": false
   },
   "outputs": [
    {
     "name": "stdout",
     "output_type": "stream",
     "text": [
      "Epoch: 0001 cost= 1.185587789\n",
      "Epoch: 0002 cost= 0.667287311\n",
      "Epoch: 0003 cost= 0.554984023\n",
      "Epoch: 0004 cost= 0.501205046\n",
      "Epoch: 0005 cost= 0.468285677\n",
      "Epoch: 0006 cost= 0.445559058\n",
      "Epoch: 0007 cost= 0.428704866\n",
      "Epoch: 0008 cost= 0.415576412\n",
      "Epoch: 0009 cost= 0.404902935\n",
      "Epoch: 0010 cost= 0.396072063\n",
      "Epoch: 0011 cost= 0.388606444\n",
      "Epoch: 0012 cost= 0.382136018\n",
      "Epoch: 0013 cost= 0.376478527\n",
      "Epoch: 0014 cost= 0.371445487\n",
      "Epoch: 0015 cost= 0.367025101\n",
      "Epoch: 0016 cost= 0.362983547\n",
      "Epoch: 0017 cost= 0.359430918\n",
      "Epoch: 0018 cost= 0.356089022\n",
      "Epoch: 0019 cost= 0.353048400\n",
      "Epoch: 0020 cost= 0.350230555\n",
      "Epoch: 0021 cost= 0.347665128\n",
      "Epoch: 0022 cost= 0.345186917\n",
      "Epoch: 0023 cost= 0.342934187\n",
      "Epoch: 0024 cost= 0.340883150\n",
      "Epoch: 0025 cost= 0.338903310\n",
      "Epoch: 0026 cost= 0.337056012\n",
      "Epoch: 0027 cost= 0.335308470\n",
      "Epoch: 0028 cost= 0.333637375\n",
      "Epoch: 0029 cost= 0.332007671\n",
      "Epoch: 0030 cost= 0.330582874\n",
      "Epoch: 0031 cost= 0.329157538\n",
      "Epoch: 0032 cost= 0.327802282\n",
      "Epoch: 0033 cost= 0.326526563\n",
      "Epoch: 0034 cost= 0.325331749\n",
      "Epoch: 0035 cost= 0.324113021\n",
      "Epoch: 0036 cost= 0.322994656\n",
      "Epoch: 0037 cost= 0.321843536\n",
      "Epoch: 0038 cost= 0.320853167\n",
      "Epoch: 0039 cost= 0.319881957\n",
      "Epoch: 0040 cost= 0.318890845\n",
      "Epoch: 0041 cost= 0.318010132\n",
      "Epoch: 0042 cost= 0.317117949\n",
      "Epoch: 0043 cost= 0.316252718\n",
      "Epoch: 0044 cost= 0.315408256\n",
      "Epoch: 0045 cost= 0.314606063\n",
      "Epoch: 0046 cost= 0.313808072\n",
      "Epoch: 0047 cost= 0.313064710\n",
      "Epoch: 0048 cost= 0.312334941\n",
      "Epoch: 0049 cost= 0.311614982\n",
      "Epoch: 0050 cost= 0.310988225\n",
      "学習完了!\n",
      "精度: 0.894667\n"
     ]
    }
   ],
   "source": [
    "# グラフを起動し、学習を実施\n",
    "with tf.Session() as sess:\n",
    "    sess.run(init)\n",
    "\n",
    "    # トレーニング回数分だけループする\n",
    "    for epoch in range(training_epochs):\n",
    "        avg_cost = 0.0\n",
    "        total_batch = int(mnist.train.num_examples / batch_size) # 55,000 / 100 = 550\n",
    "        # すべてのデータをループ\n",
    "        for i in range(total_batch):\n",
    "            batch_xs, batch_ys = mnist.train.next_batch(batch_size)\n",
    "            _, c = sess.run([optimizer, cost], feed_dict={X: batch_xs, y: batch_ys})\n",
    "            avg_cost += c / total_batch\n",
    "        \n",
    "        # エポックごとにコストを表示\n",
    "        if (epoch+1) % display_step == 0:\n",
    "            print(\"Epoch:\", \"%04d\" % (epoch+1), \"cost=\", \"{:.9f}\".format(avg_cost))\n",
    "            costs.append(avg_cost)\n",
    "            \n",
    "    print(\"学習完了!\")\n",
    "    \n",
    "    # モデルのテスト\n",
    "    correct_pred = tf.equal(tf.argmax(pred, 1), tf.argmax(y, 1))\n",
    "    accuracy = tf.reduce_mean(tf.cast(correct_pred, tf.float32))\n",
    "    print(\"精度:\", accuracy.eval({ X: mnist.test.images[:3000], y: mnist.test.labels[:3000] }))"
   ]
  },
  {
   "cell_type": "code",
   "execution_count": 39,
   "metadata": {
    "collapsed": false
   },
   "outputs": [
    {
     "data": {
      "image/png": "[encoded data removed]",
      "text/plain": [
       "<matplotlib.figure.Figure at 0x12132e4e0>"
      ]
     },
     "metadata": {},
     "output_type": "display_data"
    }
   ],
   "source": [
    "# 学習曲線を引く\n",
    "plt.plot(range(0, training_epochs), costs)\n",
    "plt.title('Learning curve')\n",
    "plt.xlabel('Epochs')\n",
    "plt.ylabel('cost (cross entropy)')\n",
    "plt.show()"
   ]
  }
 ],
 "metadata": {
  "kernelspec": {
   "display_name": "Python 3",
   "language": "python",
   "name": "python3"
  },
  "language_info": {
   "codemirror_mode": {
    "name": "ipython",
    "version": 3
   },
   "file_extension": ".py",
   "mimetype": "text/x-python",
   "name": "python",
   "nbconvert_exporter": "python",
   "pygments_lexer": "ipython3",
   "version": "3.5.1"
  }
 },
 "nbformat": 4,
 "nbformat_minor": 1
}
