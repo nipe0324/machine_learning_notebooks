{
 "cells": [
  {
   "cell_type": "markdown",
   "metadata": {},
   "source": [
    "# CNN (畳み込みニューラルネットワーク)\n",
    "\n",
    "CNN(Convolutional Neural Network)、ConvNetなどと呼ばれる。\n",
    "画像認識に対して高い精度を出す。人間を超えるモデルなどもある。\n",
    "Convolution層(畳み込み層)、Pooling層（プーリング層)などの層が特徴的。"
   ]
  },
  {
   "cell_type": "code",
   "execution_count": 7,
   "metadata": {
    "collapsed": true
   },
   "outputs": [],
   "source": [
    "# ライブラリのインポート\n",
    "import tensorflow as tf\n",
    "import numpy as np"
   ]
  },
  {
   "cell_type": "code",
   "execution_count": 2,
   "metadata": {
    "collapsed": false
   },
   "outputs": [
    {
     "name": "stdout",
     "output_type": "stream",
     "text": [
      "Extracting /tmp/data/train-images-idx3-ubyte.gz\n",
      "Extracting /tmp/data/train-labels-idx1-ubyte.gz\n",
      "Extracting /tmp/data/t10k-images-idx3-ubyte.gz\n",
      "Extracting /tmp/data/t10k-labels-idx1-ubyte.gz\n"
     ]
    }
   ],
   "source": [
    "# MNISTデータのロード\n",
    "from tensorflow.examples.tutorials.mnist import input_data\n",
    "mnist = input_data.read_data_sets(\"/tmp/data/\", one_hot=True)"
   ]
  },
  {
   "cell_type": "code",
   "execution_count": 3,
   "metadata": {
    "collapsed": true
   },
   "outputs": [],
   "source": [
    "# ハイパーパラメータ\n",
    "learning_rate = 0.001\n",
    "training_iters = 200000\n",
    "batch_size = 128\n",
    "display_step = 10"
   ]
  },
  {
   "cell_type": "code",
   "execution_count": 4,
   "metadata": {
    "collapsed": true
   },
   "outputs": [],
   "source": [
    "# ネットワークパラメータ\n",
    "n_input     = 784  # MNISTの入力データ (height:28 x width:28の画像なので784)\n",
    "n_classes = 10     # MNISTのクラス (0-9の数字なので10)\n",
    "dropout    = 0.75 # ドロップアウトの率。75%のユニットは伝播する。25%はドロップアウトさせる"
   ]
  },
  {
   "cell_type": "code",
   "execution_count": 5,
   "metadata": {
    "collapsed": true
   },
   "outputs": [],
   "source": [
    "# グラフの入力を定義\n",
    "x = tf.placeholder(tf.float32, [None, n_input])\n",
    "y = tf.placeholder(tf.float32, [None, n_classes])\n",
    "keep_prob = tf.placeholder(tf.float32) # ドロップアウトしない率を設定"
   ]
  },
  {
   "cell_type": "code",
   "execution_count": 6,
   "metadata": {
    "collapsed": true
   },
   "outputs": [],
   "source": [
    "# ノードを簡単に作成できるラッパーを作成\n",
    "def conv2d(x, W, b, strides=1):\n",
    "    # conv2d、バイアス、ReLUアクティベーションをひとまとめにしたもの\n",
    "    x = tf.nn.conv2d(x, W, strides=[1, strides, strides, 1], padding='SAME')\n",
    "    x = tf.nn.bias_add(x, b)\n",
    "    return tf.nn.relu(x)\n",
    "\n",
    "def maxpool2d(x, k=2):\n",
    "    # max_poolをラッピング\n",
    "    return tf.nn.max_pool(x, ksize=[1, k, k, 1], strides=[1, k, k, 1], padding='SAME')"
   ]
  },
  {
   "cell_type": "code",
   "execution_count": 21,
   "metadata": {
    "collapsed": true
   },
   "outputs": [],
   "source": [
    "# モデルの作成\n",
    "def conv_net(x, weights, biases, dropout):\n",
    "    # 入力画像をreshapeする\n",
    "    x = tf.reshape(x, shape=[-1, 28, 28, 1])\n",
    "    \n",
    "    # 畳み込み層\n",
    "    conv1 = conv2d(x, weights['wc1'], biases['bc1'])\n",
    "    # プーリング層\n",
    "    conv1 = maxpool2d(conv1, k=2)\n",
    "    \n",
    "    # 畳み込み層\n",
    "    conv2 = conv2d(conv1, weights['wc2'], biases['bc2'])\n",
    "    # プーリング層\n",
    "    conv2 = maxpool2d(conv2, k=2)\n",
    "    \n",
    "    # Affine層（全結合層）\n",
    "    # conv2の出力を全結合層に合わせるために、reshapeする\n",
    "    affine1 = tf.reshape(conv2, [-1, weights['wd1'].get_shape().as_list()[0]])\n",
    "    affine1 = tf.add(tf.matmul(affine1, weights['wd1']), biases['bd1'])\n",
    "    affine1 = tf.nn.relu(affine1)\n",
    "    \n",
    "    # Dropout\n",
    "    affine1 = tf.nn.dropout(affine1, dropout)\n",
    "    \n",
    "    # クラス分類\n",
    "    out = tf.add(tf.matmul(affine1, weights['out']), biases['out'])\n",
    "    return out"
   ]
  },
  {
   "cell_type": "code",
   "execution_count": 32,
   "metadata": {
    "collapsed": false
   },
   "outputs": [],
   "source": [
    "# 各層の重みとバイアスを設定\n",
    "weights = {\n",
    "    # 5x5 conv, 1 input, 32 outputs\n",
    "    'wc1': tf.Variable(tf.random_normal([5, 5, 1, 32])),\n",
    "    # 5x5 conv, 32 inputs, 64 outputs\n",
    "    'wc2': tf.Variable(tf.random_normal([5, 5, 32, 64])),\n",
    "    # 全結合層 (7*7*64 inputs, 1024 outputs)\n",
    "    'wd1': tf.Variable(tf.random_normal([7*7*64, 1024])),\n",
    "    # 1024 inputs, 10 outputs\n",
    "    'out': tf.Variable(tf.random_normal([1024, n_classes]))\n",
    "}\n",
    "\n",
    "biases = {\n",
    "    'bc1': tf.Variable(tf.random_normal([32])),\n",
    "    'bc2': tf.Variable(tf.random_normal([64])),\n",
    "    'bd1': tf.Variable(tf.random_normal([1024])),\n",
    "    'out': tf.Variable(tf.random_normal([n_classes]))\n",
    "}\n",
    "\n",
    "# CNNモデルの作成\n",
    "pred = conv_net(x, weights, biases, keep_prob)\n",
    "\n",
    "# コスト関数とオプティマイザを定義\n",
    "cost = tf.reduce_mean(tf.nn.softmax_cross_entropy_with_logits(pred, y))\n",
    "optimizer = tf.train.AdamOptimizer(learning_rate=learning_rate).minimize(cost)\n",
    "\n",
    "# モデルの評価\n",
    "correct_pred = tf.equal(tf.argmax(pred, 1), tf.argmax(y, 1))\n",
    "accuracy = tf.reduce_mean(tf.cast(correct_pred, tf.float32))\n",
    "\n",
    "# 変数の初期化\n",
    "init = tf.initialize_all_variables()"
   ]
  },
  {
   "cell_type": "code",
   "execution_count": 31,
   "metadata": {
    "collapsed": false
   },
   "outputs": [
    {
     "name": "stdout",
     "output_type": "stream",
     "text": [
      "Iter 1280, Minibatch Loss= 24887.816406, Training Accuracy= 0.32031\n",
      "Iter 2560, Minibatch Loss= 15019.813477, Training Accuracy= 0.49219\n",
      "Iter 3840, Minibatch Loss= 10054.588867, Training Accuracy= 0.64062\n",
      "Iter 5120, Minibatch Loss= 6875.897461, Training Accuracy= 0.68750\n",
      "Iter 6400, Minibatch Loss= 5117.779297, Training Accuracy= 0.79688\n",
      "Iter 7680, Minibatch Loss= 7011.356445, Training Accuracy= 0.75000\n",
      "Iter 8960, Minibatch Loss= 3421.235107, Training Accuracy= 0.82812\n",
      "Iter 10240, Minibatch Loss= 3843.274902, Training Accuracy= 0.82031\n",
      "Iter 11520, Minibatch Loss= 1790.023682, Training Accuracy= 0.90625\n",
      "Iter 12800, Minibatch Loss= 3610.965332, Training Accuracy= 0.84375\n",
      "Iter 14080, Minibatch Loss= 1174.718018, Training Accuracy= 0.90625\n",
      "Iter 15360, Minibatch Loss= 1182.849731, Training Accuracy= 0.92969\n",
      "Iter 16640, Minibatch Loss= 2311.872559, Training Accuracy= 0.89062\n",
      "Iter 17920, Minibatch Loss= 1767.276611, Training Accuracy= 0.89844\n",
      "Iter 19200, Minibatch Loss= 1665.861938, Training Accuracy= 0.90625\n",
      "Iter 20480, Minibatch Loss= 361.275208, Training Accuracy= 0.94531\n",
      "Iter 21760, Minibatch Loss= 4157.197754, Training Accuracy= 0.84375\n",
      "Iter 23040, Minibatch Loss= 495.498077, Training Accuracy= 0.99219\n",
      "Iter 24320, Minibatch Loss= 1500.116333, Training Accuracy= 0.91406\n",
      "Iter 25600, Minibatch Loss= 1562.409424, Training Accuracy= 0.88281\n",
      "Iter 26880, Minibatch Loss= 1133.888184, Training Accuracy= 0.92188\n",
      "Iter 28160, Minibatch Loss= 1524.649902, Training Accuracy= 0.90625\n",
      "Iter 29440, Minibatch Loss= 1987.710205, Training Accuracy= 0.92188\n",
      "Iter 30720, Minibatch Loss= 1205.878418, Training Accuracy= 0.92188\n",
      "Iter 32000, Minibatch Loss= 1005.864258, Training Accuracy= 0.92969\n",
      "Iter 33280, Minibatch Loss= 1167.973633, Training Accuracy= 0.90625\n",
      "Iter 34560, Minibatch Loss= 585.194885, Training Accuracy= 0.94531\n",
      "Iter 35840, Minibatch Loss= 650.452332, Training Accuracy= 0.95312\n",
      "Iter 37120, Minibatch Loss= 1362.453979, Training Accuracy= 0.92188\n",
      "Iter 38400, Minibatch Loss= 446.926819, Training Accuracy= 0.96875\n",
      "Iter 39680, Minibatch Loss= 211.113464, Training Accuracy= 0.97656\n",
      "Iter 40960, Minibatch Loss= 1569.581787, Training Accuracy= 0.91406\n",
      "Iter 42240, Minibatch Loss= 882.484558, Training Accuracy= 0.94531\n",
      "Iter 43520, Minibatch Loss= 715.383484, Training Accuracy= 0.95312\n",
      "Iter 44800, Minibatch Loss= 666.794861, Training Accuracy= 0.94531\n",
      "Iter 46080, Minibatch Loss= 275.145081, Training Accuracy= 0.96094\n",
      "Iter 47360, Minibatch Loss= 1539.588623, Training Accuracy= 0.92188\n",
      "Iter 48640, Minibatch Loss= 1249.101685, Training Accuracy= 0.92188\n",
      "Iter 49920, Minibatch Loss= 640.581177, Training Accuracy= 0.93750\n",
      "Iter 51200, Minibatch Loss= 431.517181, Training Accuracy= 0.95312\n",
      "Iter 52480, Minibatch Loss= 207.631897, Training Accuracy= 0.96875\n",
      "Iter 53760, Minibatch Loss= 250.350937, Training Accuracy= 0.97656\n",
      "Iter 55040, Minibatch Loss= 568.126160, Training Accuracy= 0.96094\n",
      "Iter 56320, Minibatch Loss= 120.906219, Training Accuracy= 0.96875\n",
      "Iter 57600, Minibatch Loss= 966.972168, Training Accuracy= 0.92969\n",
      "Iter 58880, Minibatch Loss= 511.968933, Training Accuracy= 0.94531\n",
      "Iter 60160, Minibatch Loss= 427.613647, Training Accuracy= 0.95312\n",
      "Iter 61440, Minibatch Loss= 545.719910, Training Accuracy= 0.94531\n",
      "Iter 62720, Minibatch Loss= 398.549225, Training Accuracy= 0.97656\n",
      "Iter 64000, Minibatch Loss= 228.283218, Training Accuracy= 0.97656\n",
      "Iter 65280, Minibatch Loss= 87.802673, Training Accuracy= 0.98438\n",
      "Iter 66560, Minibatch Loss= 236.650894, Training Accuracy= 0.97656\n",
      "Iter 67840, Minibatch Loss= 991.911499, Training Accuracy= 0.96875\n",
      "Iter 69120, Minibatch Loss= 799.448303, Training Accuracy= 0.94531\n",
      "Iter 70400, Minibatch Loss= 337.020813, Training Accuracy= 0.94531\n",
      "Iter 71680, Minibatch Loss= 713.491455, Training Accuracy= 0.93750\n",
      "Iter 72960, Minibatch Loss= 723.340759, Training Accuracy= 0.94531\n",
      "Iter 74240, Minibatch Loss= 587.052612, Training Accuracy= 0.97656\n",
      "Iter 75520, Minibatch Loss= 489.555847, Training Accuracy= 0.96875\n",
      "Iter 76800, Minibatch Loss= 622.635498, Training Accuracy= 0.93750\n",
      "Iter 78080, Minibatch Loss= 358.238281, Training Accuracy= 0.95312\n",
      "Iter 79360, Minibatch Loss= 431.688782, Training Accuracy= 0.95312\n",
      "Iter 80640, Minibatch Loss= 628.079956, Training Accuracy= 0.92188\n",
      "Iter 81920, Minibatch Loss= 189.774612, Training Accuracy= 0.96094\n",
      "Iter 83200, Minibatch Loss= 570.971313, Training Accuracy= 0.95312\n",
      "Iter 84480, Minibatch Loss= 476.719818, Training Accuracy= 0.96094\n",
      "Iter 85760, Minibatch Loss= 695.202637, Training Accuracy= 0.91406\n",
      "Iter 87040, Minibatch Loss= 733.916870, Training Accuracy= 0.93750\n",
      "Iter 88320, Minibatch Loss= 911.765076, Training Accuracy= 0.93750\n",
      "Iter 89600, Minibatch Loss= 674.081177, Training Accuracy= 0.94531\n",
      "Iter 90880, Minibatch Loss= 130.208817, Training Accuracy= 0.96875\n",
      "Iter 92160, Minibatch Loss= 285.759644, Training Accuracy= 0.96875\n",
      "Iter 93440, Minibatch Loss= 547.670959, Training Accuracy= 0.94531\n",
      "Iter 94720, Minibatch Loss= 379.626617, Training Accuracy= 0.96875\n",
      "Iter 96000, Minibatch Loss= 634.910950, Training Accuracy= 0.95312\n",
      "Iter 97280, Minibatch Loss= 255.172379, Training Accuracy= 0.97656\n",
      "Iter 98560, Minibatch Loss= 457.480652, Training Accuracy= 0.94531\n",
      "Iter 99840, Minibatch Loss= 330.983002, Training Accuracy= 0.94531\n",
      "Iter 101120, Minibatch Loss= 584.812134, Training Accuracy= 0.94531\n",
      "Iter 102400, Minibatch Loss= 402.944794, Training Accuracy= 0.95312\n",
      "Iter 103680, Minibatch Loss= 231.276337, Training Accuracy= 0.94531\n",
      "Iter 104960, Minibatch Loss= 416.723755, Training Accuracy= 0.95312\n",
      "Iter 106240, Minibatch Loss= 378.607849, Training Accuracy= 0.96875\n",
      "Iter 107520, Minibatch Loss= 194.411484, Training Accuracy= 0.97656\n",
      "Iter 108800, Minibatch Loss= 576.405518, Training Accuracy= 0.96875\n",
      "Iter 110080, Minibatch Loss= 466.220734, Training Accuracy= 0.98438\n",
      "Iter 111360, Minibatch Loss= 247.186310, Training Accuracy= 0.98438\n",
      "Iter 112640, Minibatch Loss= 336.658325, Training Accuracy= 0.96094\n",
      "Iter 113920, Minibatch Loss= 31.996361, Training Accuracy= 0.99219\n",
      "Iter 115200, Minibatch Loss= 466.995300, Training Accuracy= 0.93750\n",
      "Iter 116480, Minibatch Loss= 284.431702, Training Accuracy= 0.96875\n",
      "Iter 117760, Minibatch Loss= 158.912506, Training Accuracy= 0.96875\n",
      "Iter 119040, Minibatch Loss= 501.732391, Training Accuracy= 0.95312\n",
      "Iter 120320, Minibatch Loss= 200.069504, Training Accuracy= 0.96094\n",
      "Iter 121600, Minibatch Loss= 293.427155, Training Accuracy= 0.97656\n",
      "Iter 122880, Minibatch Loss= 256.422424, Training Accuracy= 0.96875\n",
      "Iter 124160, Minibatch Loss= 180.397568, Training Accuracy= 0.96875\n",
      "Iter 125440, Minibatch Loss= 808.448914, Training Accuracy= 0.95312\n",
      "Iter 126720, Minibatch Loss= 254.644104, Training Accuracy= 0.96094\n",
      "Iter 128000, Minibatch Loss= 127.226929, Training Accuracy= 0.97656\n",
      "Iter 129280, Minibatch Loss= 622.165222, Training Accuracy= 0.93750\n",
      "Iter 130560, Minibatch Loss= 463.450653, Training Accuracy= 0.94531\n",
      "Iter 131840, Minibatch Loss= 317.253326, Training Accuracy= 0.97656\n",
      "Iter 133120, Minibatch Loss= 34.355988, Training Accuracy= 0.99219\n",
      "Iter 134400, Minibatch Loss= 536.935181, Training Accuracy= 0.94531\n",
      "Iter 135680, Minibatch Loss= 542.926270, Training Accuracy= 0.94531\n",
      "Iter 136960, Minibatch Loss= 118.020767, Training Accuracy= 0.96875\n",
      "Iter 138240, Minibatch Loss= 595.641663, Training Accuracy= 0.94531\n",
      "Iter 139520, Minibatch Loss= 623.353455, Training Accuracy= 0.92969\n",
      "Iter 140800, Minibatch Loss= 220.775101, Training Accuracy= 0.96875\n",
      "Iter 142080, Minibatch Loss= 278.783325, Training Accuracy= 0.97656\n",
      "Iter 143360, Minibatch Loss= 301.150208, Training Accuracy= 0.94531\n",
      "Iter 144640, Minibatch Loss= 190.972763, Training Accuracy= 0.97656\n",
      "Iter 145920, Minibatch Loss= 356.890961, Training Accuracy= 0.94531\n",
      "Iter 147200, Minibatch Loss= 362.935394, Training Accuracy= 0.94531\n",
      "Iter 148480, Minibatch Loss= 523.666077, Training Accuracy= 0.95312\n",
      "Iter 149760, Minibatch Loss= 207.488678, Training Accuracy= 0.96094\n",
      "Iter 151040, Minibatch Loss= 108.201401, Training Accuracy= 0.98438\n",
      "Iter 152320, Minibatch Loss= 594.473450, Training Accuracy= 0.95312\n",
      "Iter 153600, Minibatch Loss= 145.080917, Training Accuracy= 0.98438\n",
      "Iter 154880, Minibatch Loss= 148.036987, Training Accuracy= 0.95312\n",
      "Iter 156160, Minibatch Loss= 497.374847, Training Accuracy= 0.94531\n",
      "Iter 157440, Minibatch Loss= 347.756470, Training Accuracy= 0.96094\n",
      "Iter 158720, Minibatch Loss= 85.031021, Training Accuracy= 0.96875\n",
      "Iter 160000, Minibatch Loss= 209.475357, Training Accuracy= 0.96094\n",
      "Iter 161280, Minibatch Loss= 304.885406, Training Accuracy= 0.94531\n",
      "Iter 162560, Minibatch Loss= 13.973358, Training Accuracy= 0.99219\n",
      "Iter 163840, Minibatch Loss= 362.520233, Training Accuracy= 0.94531\n",
      "Iter 165120, Minibatch Loss= 389.416077, Training Accuracy= 0.94531\n",
      "Iter 166400, Minibatch Loss= 159.694916, Training Accuracy= 0.97656\n",
      "Iter 167680, Minibatch Loss= 393.647858, Training Accuracy= 0.95312\n",
      "Iter 168960, Minibatch Loss= 66.171814, Training Accuracy= 0.99219\n",
      "Iter 170240, Minibatch Loss= 262.584778, Training Accuracy= 0.96094\n",
      "Iter 171520, Minibatch Loss= 129.151672, Training Accuracy= 0.98438\n",
      "Iter 172800, Minibatch Loss= 192.827301, Training Accuracy= 0.98438\n",
      "Iter 174080, Minibatch Loss= 95.723007, Training Accuracy= 0.97656\n",
      "Iter 175360, Minibatch Loss= 298.957550, Training Accuracy= 0.95312\n",
      "Iter 176640, Minibatch Loss= 24.695374, Training Accuracy= 0.99219\n",
      "Iter 177920, Minibatch Loss= 134.468765, Training Accuracy= 0.97656\n",
      "Iter 179200, Minibatch Loss= 0.000000, Training Accuracy= 1.00000\n",
      "Iter 180480, Minibatch Loss= 359.466309, Training Accuracy= 0.97656\n",
      "Iter 181760, Minibatch Loss= 41.593964, Training Accuracy= 0.99219\n",
      "Iter 183040, Minibatch Loss= 0.000000, Training Accuracy= 1.00000\n",
      "Iter 184320, Minibatch Loss= 188.617630, Training Accuracy= 0.98438\n",
      "Iter 185600, Minibatch Loss= 112.500854, Training Accuracy= 0.96094\n",
      "Iter 186880, Minibatch Loss= 12.670090, Training Accuracy= 0.98438\n",
      "Iter 188160, Minibatch Loss= 102.360313, Training Accuracy= 0.99219\n",
      "Iter 189440, Minibatch Loss= 146.555115, Training Accuracy= 0.96094\n",
      "Iter 190720, Minibatch Loss= 228.691299, Training Accuracy= 0.97656\n",
      "Iter 192000, Minibatch Loss= 192.341125, Training Accuracy= 0.98438\n",
      "Iter 193280, Minibatch Loss= 100.226173, Training Accuracy= 0.98438\n",
      "Iter 194560, Minibatch Loss= 223.389496, Training Accuracy= 0.97656\n",
      "Iter 195840, Minibatch Loss= 21.509476, Training Accuracy= 0.99219\n",
      "Iter 197120, Minibatch Loss= 84.474426, Training Accuracy= 0.98438\n",
      "Iter 198400, Minibatch Loss= 297.383881, Training Accuracy= 0.95312\n",
      "Iter 199680, Minibatch Loss= 151.165070, Training Accuracy= 0.97656\n",
      "Optimization Finished!\n",
      "Testing Accuracy: 0.976562\n"
     ]
    }
   ],
   "source": [
    "with tf.Session() as sess:\n",
    "    sess.run(init)\n",
    "    step = 1\n",
    "    # Keep training until reach max iterations\n",
    "    while step * batch_size < training_iters:\n",
    "        batch_x, batch_y = mnist.train.next_batch(batch_size)\n",
    "        # Run optimization op (backprop)\n",
    "        sess.run(optimizer, feed_dict={x: batch_x, y: batch_y,\n",
    "                                       keep_prob: dropout})\n",
    "        if step % display_step == 0:\n",
    "            # Calculate batch loss and accuracy\n",
    "            loss, acc = sess.run([cost, accuracy], feed_dict={x: batch_x,\n",
    "                                                              y: batch_y,\n",
    "                                                              keep_prob: 1.})\n",
    "            print(\"Iter \" + str(step*batch_size) + \", Minibatch Loss= \" + \\\n",
    "                  \"{:.6f}\".format(loss) + \", Training Accuracy= \" + \\\n",
    "                  \"{:.5f}\".format(acc))\n",
    "        step += 1\n",
    "    print(\"Optimization Finished!\")\n",
    "\n",
    "    # Calculate accuracy for 256 mnist test images\n",
    "    print(\"Testing Accuracy:\", sess.run(accuracy, feed_dict={x: mnist.test.images[:256], y: mnist.test.labels[:256], keep_prob: 1.}))"
   ]
  }
 ],
 "metadata": {
  "kernelspec": {
   "display_name": "Python 3",
   "language": "python",
   "name": "python3"
  },
  "language_info": {
   "codemirror_mode": {
    "name": "ipython",
    "version": 3
   },
   "file_extension": ".py",
   "mimetype": "text/x-python",
   "name": "python",
   "nbconvert_exporter": "python",
   "pygments_lexer": "ipython3",
   "version": "3.5.1"
  }
 },
 "nbformat": 4,
 "nbformat_minor": 1
}
