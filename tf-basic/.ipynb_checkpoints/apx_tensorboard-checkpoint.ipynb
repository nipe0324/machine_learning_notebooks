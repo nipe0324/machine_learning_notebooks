{
 "cells": [
  {
   "cell_type": "code",
   "execution_count": null,
   "metadata": {
    "collapsed": true
   },
   "outputs": [],
   "source": [
    "# ライブラリをインポート\n",
    "import tensorflow as tf\n",
    "\n",
    "# MNISTデータをロード\n",
    "from tensorflow.examples.tutorials.mnist import input_data\n",
    "mnist = input_data.read_data_sets('/tmp/data', one_hot=True)\n",
    "Extracting /tmp/data/train-images-idx3-ubyte.gz\n",
    "Extracting /tmp/data/train-labels-idx1-ubyte.gz\n",
    "Extracting /tmp/data/t10k-images-idx3-ubyte.gz\n",
    "Extracting /tmp/data/t10k-labels-idx1-ubyte.gz\n",
    "\n",
    "# 入力値の宣言\n",
    "x = tf.placeholder(tf.float32, shape=[None, 784])\n",
    "y_ = tf.placeholder(tf.float32, shape=[None, 10])\n",
    "\n",
    "# 重みとバイアスを宣言\n",
    "W = tf.Variable(tf.zeros([784, 10]))\n",
    "b = tf.Variable(tf.zeros([10]))\n",
    "\n",
    "# 予測の計算式を定義\n",
    "y = tf.matmul(x, W) + b\n",
    "\n",
    "# 損失関数の定義\n",
    "cross_entropy = tf.reduce_mean(tf.nn.softmax_cross_entropy_with_logits(y, y_))\n",
    "\n",
    "# Optimizerの定義\n",
    "train_step = tf.train.GradientDescentOptimizer(0.5).minimize(cross_entropy)\n",
    "\n",
    "# 精度を測る計算式を定義\n",
    "correct_prediction = tf.equal(tf.argmax(y, 1), tf.argmax(y_, 1))\n",
    "accuracy = tf.reduce_mean(tf.cast(correct_prediction, tf.float32))\n",
    "\n",
    "# トレーニングの実施\n",
    "sess = tf.Session()\n",
    "sess.run(tf.initialize_all_variables())\n",
    "\n",
    "for i in range(1000):\n",
    "    batch_xs, batch_ys = mnist.train.next_batch(100)\n",
    "    sess.run(train_step, feed_dict={ x: batch_xs, y_: batch_ys })\n",
    "    \n",
    "acc = sess.run(accuracy, feed_dict={ x: mnist.test.images, y_: mnist.test.labels })\n",
    "print('Accuracy:', acc)"
   ]
  }
 ],
 "metadata": {
  "kernelspec": {
   "display_name": "Python 3",
   "language": "python",
   "name": "python3"
  },
  "language_info": {
   "codemirror_mode": {
    "name": "ipython",
    "version": 3
   },
   "file_extension": ".py",
   "mimetype": "text/x-python",
   "name": "python",
   "nbconvert_exporter": "python",
   "pygments_lexer": "ipython3",
   "version": "3.5.1"
  }
 },
 "nbformat": 4,
 "nbformat_minor": 1
}
