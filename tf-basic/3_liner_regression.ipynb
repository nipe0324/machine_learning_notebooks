{
 "cells": [
  {
   "cell_type": "markdown",
   "metadata": {},
   "source": [
    "# 線形回帰 (liner regression)\n",
    "\n",
    "利益を予想するシンプルな線形回帰モデル\n",
    "\n",
    "レストランのオーナーでいろいろな街で店を出しています。\n",
    "各街での人口と利益のデータを持っています。 新しい街にレストランを出すときに、人口から利益を予測してみます。"
   ]
  },
  {
   "cell_type": "markdown",
   "metadata": {},
   "source": [
    "ライブラリの読み込み"
   ]
  },
  {
   "cell_type": "code",
   "execution_count": 1,
   "metadata": {
    "collapsed": true
   },
   "outputs": [],
   "source": [
    "import tensorflow as tf\n",
    "import numpy as np\n",
    "import pandas as pd\n",
    "import matplotlib.pyplot as plt\n",
    "%matplotlib inline\n",
    "rand = np.random\n",
    "\n",
    "import warnings\n",
    "warnings.filterwarnings('ignore')"
   ]
  },
  {
   "cell_type": "markdown",
   "metadata": {},
   "source": [
    "データの取得"
   ]
  },
  {
   "cell_type": "code",
   "execution_count": 2,
   "metadata": {
    "collapsed": false
   },
   "outputs": [],
   "source": [
    "path = '../data/ex1data1.txt'\n",
    "df = pd.read_csv(path, header=None, names=['Population', 'Profit'])\n",
    "n_samples = df.shape[0] # トレーニングデータ数"
   ]
  },
  {
   "cell_type": "markdown",
   "metadata": {},
   "source": [
    "データの表示。欠測値の確認"
   ]
  },
  {
   "cell_type": "code",
   "execution_count": 3,
   "metadata": {
    "collapsed": false
   },
   "outputs": [
    {
     "data": {
      "text/html": [
       "<div>\n",
       "<table border=\"1\" class=\"dataframe\">\n",
       "  <thead>\n",
       "    <tr style=\"text-align: right;\">\n",
       "      <th></th>\n",
       "      <th>Population</th>\n",
       "      <th>Profit</th>\n",
       "    </tr>\n",
       "  </thead>\n",
       "  <tbody>\n",
       "    <tr>\n",
       "      <th>count</th>\n",
       "      <td>97.000000</td>\n",
       "      <td>97.000000</td>\n",
       "    </tr>\n",
       "    <tr>\n",
       "      <th>mean</th>\n",
       "      <td>8.159800</td>\n",
       "      <td>5.839135</td>\n",
       "    </tr>\n",
       "    <tr>\n",
       "      <th>std</th>\n",
       "      <td>3.869884</td>\n",
       "      <td>5.510262</td>\n",
       "    </tr>\n",
       "    <tr>\n",
       "      <th>min</th>\n",
       "      <td>5.026900</td>\n",
       "      <td>-2.680700</td>\n",
       "    </tr>\n",
       "    <tr>\n",
       "      <th>25%</th>\n",
       "      <td>5.707700</td>\n",
       "      <td>1.986900</td>\n",
       "    </tr>\n",
       "    <tr>\n",
       "      <th>50%</th>\n",
       "      <td>6.589400</td>\n",
       "      <td>4.562300</td>\n",
       "    </tr>\n",
       "    <tr>\n",
       "      <th>75%</th>\n",
       "      <td>8.578100</td>\n",
       "      <td>7.046700</td>\n",
       "    </tr>\n",
       "    <tr>\n",
       "      <th>max</th>\n",
       "      <td>22.203000</td>\n",
       "      <td>24.147000</td>\n",
       "    </tr>\n",
       "  </tbody>\n",
       "</table>\n",
       "</div>"
      ],
      "text/plain": [
       "       Population     Profit\n",
       "count   97.000000  97.000000\n",
       "mean     8.159800   5.839135\n",
       "std      3.869884   5.510262\n",
       "min      5.026900  -2.680700\n",
       "25%      5.707700   1.986900\n",
       "50%      6.589400   4.562300\n",
       "75%      8.578100   7.046700\n",
       "max     22.203000  24.147000"
      ]
     },
     "execution_count": 3,
     "metadata": {},
     "output_type": "execute_result"
    }
   ],
   "source": [
    "df.describe()"
   ]
  },
  {
   "cell_type": "markdown",
   "metadata": {},
   "source": [
    "ヒストグラムの表示"
   ]
  },
  {
   "cell_type": "code",
   "execution_count": 4,
   "metadata": {
    "collapsed": false
   },
   "outputs": [
    {
     "data": {
      "image/png": "[encoded data removed]",
      "text/plain": [
       "<matplotlib.figure.Figure at 0x10f4b4438>"
      ]
     },
     "metadata": {},
     "output_type": "display_data"
    }
   ],
   "source": [
    "fig = plt.figure(figsize=(8, 2))\n",
    "plot1 = fig.add_subplot(1, 2, 1)\n",
    "plot2 = fig.add_subplot(1, 2, 2)\n",
    "\n",
    "plot1.hist(df['Population'])\n",
    "plot1.set_title('Population')\n",
    "plot2.hist(df['Profit'])\n",
    "plot1.set_title('Profit')\n",
    "plt.show()"
   ]
  },
  {
   "cell_type": "markdown",
   "metadata": {},
   "source": [
    "トレーニングデータのプロット"
   ]
  },
  {
   "cell_type": "code",
   "execution_count": 5,
   "metadata": {
    "collapsed": false
   },
   "outputs": [
    {
     "data": {
      "image/png": "[encoded data removed]",
      "text/plain": [
       "<matplotlib.figure.Figure at 0x10f373f98>"
      ]
     },
     "metadata": {},
     "output_type": "display_data"
    }
   ],
   "source": [
    "plt.scatter(df['Population'], df['Profit'])\n",
    "plt.title('Population and Profit')\n",
    "plt.xlabel('Population')\n",
    "plt.ylabel('Profit')\n",
    "plt.show()"
   ]
  },
  {
   "cell_type": "markdown",
   "metadata": {},
   "source": [
    "入力 x (特徴)、y (正解) の定義"
   ]
  },
  {
   "cell_type": "code",
   "execution_count": 6,
   "metadata": {
    "collapsed": true
   },
   "outputs": [],
   "source": [
    "x = tf.placeholder(\"float\", name='input_x')\n",
    "y = tf.placeholder(\"float\", name='input_y')"
   ]
  },
  {
   "cell_type": "markdown",
   "metadata": {},
   "source": [
    "学習する変数のaとbの定義。初期値はランダムな正規分布で初期化"
   ]
  },
  {
   "cell_type": "code",
   "execution_count": 7,
   "metadata": {
    "collapsed": true
   },
   "outputs": [],
   "source": [
    "a = tf.Variable(rand.randn(), name=\"weight\")\n",
    "b  = tf.Variable(rand.randn(), name=\"bias\")"
   ]
  },
  {
   "cell_type": "markdown",
   "metadata": {},
   "source": [
    "線形モデルの定義\n",
    "\n",
    "$$\n",
    "y_{pred} = ax + b\n",
    "$$"
   ]
  },
  {
   "cell_type": "code",
   "execution_count": 8,
   "metadata": {
    "collapsed": true
   },
   "outputs": [],
   "source": [
    "y_pred = tf.add(tf.mul(a, x), b)"
   ]
  },
  {
   "cell_type": "markdown",
   "metadata": {},
   "source": [
    "2乗和誤差(mean squared error)の定義\n",
    "\n",
    "$$\n",
    "E = \\frac {1}{2m} \\sum_{i=1}^m (y_{pred_i} - y_i )^2\n",
    "$$"
   ]
  },
  {
   "cell_type": "code",
   "execution_count": 9,
   "metadata": {
    "collapsed": false
   },
   "outputs": [],
   "source": [
    "cost = tf.reduce_sum(tf.pow(y_pred - y, 2)) / (2 * n_samples)"
   ]
  },
  {
   "cell_type": "markdown",
   "metadata": {},
   "source": [
    "勾配降下(Gradient Descent)の定義"
   ]
  },
  {
   "cell_type": "code",
   "execution_count": 10,
   "metadata": {
    "collapsed": true
   },
   "outputs": [],
   "source": [
    "optimizer = tf.train.GradientDescentOptimizer(0.01) # 学習率 0.01\n",
    "update = optimizer.minimize(cost)"
   ]
  },
  {
   "cell_type": "markdown",
   "metadata": {},
   "source": [
    "グラフを起動して、トレーニングを実施"
   ]
  },
  {
   "cell_type": "code",
   "execution_count": 11,
   "metadata": {
    "collapsed": false
   },
   "outputs": [
    {
     "name": "stdout",
     "output_type": "stream",
     "text": [
      "Epoch: 0100 cost= 0.058292724 a= 0.79728 b= -0.354827\n",
      "Epoch: 0200 cost= 0.049573556 a= 0.855819 b= -0.934783\n",
      "Epoch: 0300 cost= 0.042842824 a= 0.904632 b= -1.41837\n",
      "Epoch: 0400 cost= 0.037605729 a= 0.945334 b= -1.82161\n",
      "Epoch: 0500 cost= 0.033499669 a= 0.979273 b= -2.15786\n",
      "Epoch: 0600 cost= 0.030257532 a= 1.00757 b= -2.43822\n",
      "Epoch: 0700 cost= 0.027679957 a= 1.03117 b= -2.67202\n",
      "Epoch: 0800 cost= 0.025618609 a= 1.05085 b= -2.86695\n",
      "Epoch: 0900 cost= 0.023960767 a= 1.06725 b= -3.02949\n",
      "Epoch: 1000 cost= 0.022620622 a= 1.08093 b= -3.16503\n",
      "Finish\n"
     ]
    }
   ],
   "source": [
    "feature = df['Population']\n",
    "label = df['Profit']\n",
    "hist = [] # 結果を保持\n",
    "\n",
    "# セッション開始\n",
    "sess = tf.InteractiveSession()\n",
    "\n",
    "# 変数の初期化\n",
    "sess.run(tf.initialize_all_variables()) # たぶん、tf 0.12から global_variables_initializer()\n",
    "\n",
    "# エポック数: 1000\n",
    "for epoch in range(1000):\n",
    "    for (x_all, y_all) in zip(feature, label):\n",
    "        sess.run(update, feed_dict={x: x_all, y: y_all}) # placeholder X, Y  にデータをセットして勾配を計算する\n",
    "\n",
    "    # 100エポックごとにコストを表示\n",
    "    if (epoch+1) % 100 == 0:\n",
    "        cost_v, a_v, b_v = sess.run([cost, a, b], feed_dict={x: x_all, y: y_all})\n",
    "        hist.append(cost_v)\n",
    "        print(\"Epoch:\", '%04d' % (epoch+1), \"cost=\", \"{:.9f}\".format(cost_v), \\\n",
    "                  \"a=\", a_v, \"b=\", b_v)\n",
    "\n",
    "print(\"Finish\")"
   ]
  },
  {
   "cell_type": "markdown",
   "metadata": {},
   "source": [
    "予測"
   ]
  },
  {
   "cell_type": "code",
   "execution_count": 12,
   "metadata": {
    "collapsed": false
   },
   "outputs": [],
   "source": [
    "predictions = sess.run(y_pred, feed_dict={ x: feature })"
   ]
  },
  {
   "cell_type": "markdown",
   "metadata": {},
   "source": [
    "データのプロットと線形回帰モデルのプロット"
   ]
  },
  {
   "cell_type": "code",
   "execution_count": 13,
   "metadata": {
    "collapsed": false
   },
   "outputs": [
    {
     "data": {
      "image/png": "[encoded data removed]",
      "text/plain": [
       "<matplotlib.figure.Figure at 0x10f8992e8>"
      ]
     },
     "metadata": {},
     "output_type": "display_data"
    }
   ],
   "source": [
    "plt.scatter(feature, label, label=\"Orginal data\")\n",
    "plt.plot(feature, predictions, c='r', label=\"Fitted line\")\n",
    "plt.legend(loc='upper left')\n",
    "plt.xlabel('Population')\n",
    "plt.ylabel('Profit')\n",
    "plt.show()"
   ]
  },
  {
   "cell_type": "markdown",
   "metadata": {},
   "source": [
    "学習曲線のプロット"
   ]
  },
  {
   "cell_type": "code",
   "execution_count": 14,
   "metadata": {
    "collapsed": false
   },
   "outputs": [
    {
     "data": {
      "image/png": "[encoded data removed]",
      "text/plain": [
       "<matplotlib.figure.Figure at 0x10f899048>"
      ]
     },
     "metadata": {},
     "output_type": "display_data"
    }
   ],
   "source": [
    "epochx100 = range(1, len(hist) + 1, 1)\n",
    "plt.plot(epochx100, hist)\n",
    "plt.xlabel('Epochs (x100)')\n",
    "plt.ylabel('Cost (Mean squared error)')\n",
    "plt.show()"
   ]
  }
 ],
 "metadata": {
  "kernelspec": {
   "display_name": "Python 3",
   "language": "python",
   "name": "python3"
  },
  "language_info": {
   "codemirror_mode": {
    "name": "ipython",
    "version": 3
   },
   "file_extension": ".py",
   "mimetype": "text/x-python",
   "name": "python",
   "nbconvert_exporter": "python",
   "pygments_lexer": "ipython3",
   "version": "3.5.1"
  }
 },
 "nbformat": 4,
 "nbformat_minor": 1
}
