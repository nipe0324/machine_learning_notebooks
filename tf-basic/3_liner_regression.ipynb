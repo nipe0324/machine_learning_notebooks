{
 "cells": [
  {
   "cell_type": "markdown",
   "metadata": {},
   "source": [
    "# 線形回帰 (liner regression)"
   ]
  },
  {
   "cell_type": "code",
   "execution_count": 7,
   "metadata": {
    "collapsed": true
   },
   "outputs": [],
   "source": [
    "# ライブラリの読み込み\n",
    "import tensorflow as tf\n",
    "import numpy as np\n",
    "import matplotlib.pyplot as plt\n",
    "%matplotlib inline\n",
    "rand = np.random"
   ]
  },
  {
   "cell_type": "code",
   "execution_count": 8,
   "metadata": {
    "collapsed": true
   },
   "outputs": [],
   "source": [
    "# ハイパーパラメータの設定\n",
    "learning_rate = 0.01# 学習率(学習時の勾配降下法の学習する係数)\n",
    "training_epochs = 1000 # トレーニング回数(1000回トレーニングをする)\n",
    "display_step = 50 # 結果を表示数するステップ数(50トレーニング毎に結果を表示)"
   ]
  },
  {
   "cell_type": "code",
   "execution_count": 10,
   "metadata": {
    "collapsed": false
   },
   "outputs": [],
   "source": [
    "# トレーニングデータの作成\n",
    "train_X = np.asarray([3.3,4.4,5.5,6.71,6.93,4.168,9.779,6.182,7.59,2.167,\n",
    "                         7.042,10.791,5.313,7.997,5.654,9.27,3.1])\n",
    "train_Y = np.asarray([1.7,2.76,2.09,3.19,1.694,1.573,3.366,2.596,2.53,1.221,\n",
    "                         2.827,3.465,1.65,2.904,2.42,2.94,1.3])\n",
    "n_samples = train_X.shape[0] # トレーニング数"
   ]
  },
  {
   "cell_type": "code",
   "execution_count": 11,
   "metadata": {
    "collapsed": true
   },
   "outputs": [],
   "source": [
    "# グラフの入力 X, Y を定義\n",
    "# (placeholderはSession内での実行時に値を設定できる)\n",
    "X = tf.placeholder(\"float\")\n",
    "Y = tf.placeholder(\"float\")"
   ]
  },
  {
   "cell_type": "code",
   "execution_count": 12,
   "metadata": {
    "collapsed": true
   },
   "outputs": [],
   "source": [
    "# モデルの重みW とバイアスb の初期値を設定\n",
    "# (VariableはSession内での実行時に値を更新する変数を格納する)\n",
    "W = tf.Variable(rand.randn(), name=\"weight\")\n",
    "b  = tf.Variable(rand.randn(), name=\"bias\")"
   ]
  },
  {
   "cell_type": "code",
   "execution_count": 13,
   "metadata": {
    "collapsed": true
   },
   "outputs": [],
   "source": [
    "# 線形モデルの定義\n",
    "predict = tf.add(tf.mul(X, W), b)"
   ]
  },
  {
   "cell_type": "code",
   "execution_count": 14,
   "metadata": {
    "collapsed": true
   },
   "outputs": [],
   "source": [
    "# 2乗和誤差 (mean squared error)\n",
    "cost = tf.reduce_sum(tf.pow(predict - Y, 2)) / (2 * n_samples)"
   ]
  },
  {
   "cell_type": "markdown",
   "metadata": {},
   "source": [
    "補足: 2乗和誤差(mean squared error)\n",
    "\n",
    "$$\n",
    "E = \\frac {1}{2m} sum_{i=1}^m (Ypred_i - Y_i )^2\n",
    "$$"
   ]
  },
  {
   "cell_type": "code",
   "execution_count": 15,
   "metadata": {
    "collapsed": true
   },
   "outputs": [],
   "source": [
    "# 勾配降下 (Gradient descent)\n",
    "optimizer = tf.train.GradientDescentOptimizer(learning_rate).minimize(cost)"
   ]
  },
  {
   "cell_type": "code",
   "execution_count": 16,
   "metadata": {
    "collapsed": true
   },
   "outputs": [],
   "source": [
    "# 変数の初期化(おきまり)\n",
    "init = tf.initialize_all_variables()"
   ]
  },
  {
   "cell_type": "code",
   "execution_count": 44,
   "metadata": {
    "collapsed": false
   },
   "outputs": [
    {
     "name": "stdout",
     "output_type": "stream",
     "text": [
      "Epoch: 0050 cost= 0.454950422 W= 0.593157 b= -1.6701\n",
      "Epoch: 0100 cost= 0.411300629 W= 0.572724 b= -1.52311\n",
      "Epoch: 0150 cost= 0.372690797 W= 0.553506 b= -1.38486\n",
      "Epoch: 0200 cost= 0.338537693 W= 0.535431 b= -1.25483\n",
      "Epoch: 0250 cost= 0.308328122 W= 0.518431 b= -1.13253\n",
      "Epoch: 0300 cost= 0.281607121 W= 0.502442 b= -1.01751\n",
      "Epoch: 0350 cost= 0.257970631 W= 0.487404 b= -0.909323\n",
      "Epoch: 0400 cost= 0.237063572 W= 0.47326 b= -0.807575\n",
      "Epoch: 0450 cost= 0.218570396 W= 0.459958 b= -0.711877\n",
      "Epoch: 0500 cost= 0.202212840 W= 0.447446 b= -0.621871\n",
      "Epoch: 0550 cost= 0.187744141 W= 0.435679 b= -0.537218\n",
      "Epoch: 0600 cost= 0.174946353 W= 0.424612 b= -0.457601\n",
      "Epoch: 0650 cost= 0.163626403 W= 0.414202 b= -0.382718\n",
      "Epoch: 0700 cost= 0.153613850 W= 0.404412 b= -0.312288\n",
      "Epoch: 0750 cost= 0.144757688 W= 0.395205 b= -0.246048\n",
      "Epoch: 0800 cost= 0.136924401 W= 0.386544 b= -0.183748\n",
      "Epoch: 0850 cost= 0.129995927 W= 0.378399 b= -0.125152\n",
      "Epoch: 0900 cost= 0.123867683 W= 0.370739 b= -0.0700418\n",
      "Epoch: 0950 cost= 0.118447416 W= 0.363534 b= -0.0182091\n",
      "Epoch: 1000 cost= 0.113653295 W= 0.356757 b= 0.0305409\n",
      "最適化完了!\n",
      "Training cost= 0.113653 W= 0.356757 b= 0.0305409 \n",
      "\n"
     ]
    }
   ],
   "source": [
    "# グラフを起動し、トレーニングを実施\n",
    "\n",
    "# 結果を保持\n",
    "result_costs = []\n",
    "result_W = None\n",
    "result_b = None\n",
    "\n",
    "\n",
    "with tf.Session() as sess:\n",
    "    sess.run(init)\n",
    "    \n",
    "    for epoch in range(training_epochs): # エポック数(1000回)ループ\n",
    "        for (x, y) in zip(train_X, train_Y): # すべてのトレーニングセットをループ\n",
    "            sess.run(optimizer, feed_dict={X: x, Y: y}) # placeholder X, Y  にデータをセットして勾配計算する\n",
    "\n",
    "        # 現状のコスト関数を表示\n",
    "        if (epoch+1) % display_step == 0:\n",
    "            c = sess.run(cost, feed_dict={X: train_X, Y: train_Y})\n",
    "            result_costs.append(c)\n",
    "            print(\"Epoch:\", '%04d' % (epoch+1), \"cost=\", \"{:.9f}\".format(c), \\\n",
    "                      \"W=\", sess.run(W), \"b=\", sess.run(b))\n",
    "\n",
    "    print(\"最適化完了!\")\n",
    "    training_cost = sess.run(cost, feed_dict={X: train_X, Y: train_Y})\n",
    "    result_W = sess.run(W)\n",
    "    result_b  = sess.run(b)\n",
    "    print(\"Training cost=\", training_cost, \"W=\", result_W, \"b=\", result_b, \"\\n\")"
   ]
  },
  {
   "cell_type": "code",
   "execution_count": 45,
   "metadata": {
    "collapsed": false
   },
   "outputs": [
    {
     "data": {
      "image/png": "[encoded data removed]",
      "text/plain": [
       "<matplotlib.figure.Figure at 0x10d2b4128>"
      ]
     },
     "metadata": {},
     "output_type": "display_data"
    }
   ],
   "source": [
    "# データのプロットと線形回帰モデルのプロット\n",
    "plt.scatter(train_X, train_Y, marker='o', color='r', label=\"Orginal data\")\n",
    "plt.plot(train_X, result_W * train_X + result_b, label=\"Fitted line\")\n",
    "plt.legend(loc='upper left')\n",
    "plt.xlabel('X (input)')\n",
    "plt.ylabel('Y (predict)')\n",
    "plt.show()"
   ]
  },
  {
   "cell_type": "code",
   "execution_count": 64,
   "metadata": {
    "collapsed": false
   },
   "outputs": [
    {
     "data": {
      "image/png": "[encoded data removed]",
      "text/plain": [
       "<matplotlib.figure.Figure at 0x10d1ba5c0>"
      ]
     },
     "metadata": {},
     "output_type": "display_data"
    }
   ],
   "source": [
    "# 学習曲線のプロット\n",
    "epochx50 = range(1, len(result_costs) + 1, 1)\n",
    "plt.plot(epochx50, result_costs, marker='o')\n",
    "plt.xlabel('Epochs x 50')\n",
    "plt.ylabel('Mean squared error')\n",
    "plt.show()"
   ]
  }
 ],
 "metadata": {
  "kernelspec": {
   "display_name": "Python 3",
   "language": "python",
   "name": "python3"
  },
  "language_info": {
   "codemirror_mode": {
    "name": "ipython",
    "version": 3
   },
   "file_extension": ".py",
   "mimetype": "text/x-python",
   "name": "python",
   "nbconvert_exporter": "python",
   "pygments_lexer": "ipython3",
   "version": "3.5.1"
  }
 },
 "nbformat": 4,
 "nbformat_minor": 1
}
