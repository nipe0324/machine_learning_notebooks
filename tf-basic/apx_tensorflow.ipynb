{
 "cells": [
  {
   "cell_type": "code",
   "execution_count": 2,
   "metadata": {
    "collapsed": true
   },
   "outputs": [],
   "source": [
    "import tensorflow as tf"
   ]
  },
  {
   "cell_type": "code",
   "execution_count": 7,
   "metadata": {
    "collapsed": false
   },
   "outputs": [
    {
     "data": {
      "text/plain": [
       "tf.complex64"
      ]
     },
     "execution_count": 7,
     "metadata": {},
     "output_type": "execute_result"
    }
   ],
   "source": [
    "# データ型\n",
    "tf.float32 # 32ビット浮動小数点\n",
    "tf.float64 # 64ビット浮動小数点\n",
    "tf.int8      # 8ビット符号付き整数\n",
    "tf.int16   # 16ビット符号付き整数\n",
    "tf.int32   # 32ビット符号付き整数\n",
    "tf.int64   # 64ビット符号付き整数\n",
    "tf.string  # 文字列 (バイト値の可変長配列)\n",
    "tf.bool    # Bool値\n",
    "tf.complex64 # 複素数 (32ビット浮動小数点の実部と虚部を持つ)"
   ]
  }
 ],
 "metadata": {
  "kernelspec": {
   "display_name": "Python 3",
   "language": "python",
   "name": "python3"
  },
  "language_info": {
   "codemirror_mode": {
    "name": "ipython",
    "version": 3
   },
   "file_extension": ".py",
   "mimetype": "text/x-python",
   "name": "python",
   "nbconvert_exporter": "python",
   "pygments_lexer": "ipython3",
   "version": "3.5.1"
  }
 },
 "nbformat": 4,
 "nbformat_minor": 1
}
