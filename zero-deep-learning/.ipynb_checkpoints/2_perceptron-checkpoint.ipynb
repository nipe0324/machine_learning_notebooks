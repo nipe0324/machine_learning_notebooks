{
 "cells": [
  {
   "cell_type": "markdown",
   "metadata": {},
   "source": [
    "# パーセプトロン\n",
    "\n",
    "１つのニューロンを模した構造になっており、入力信号を受けとり、各入力と重みの総和がある閾値を上回ったら1、上回らなかったら0を出力するモデルです。\n",
    "\n",
    "<img src=\"images/perceptron.png\" width=\"500px\"/>\n",
    "\n",
    "数式で表すと、\n",
    "\n",
    "$$\n",
    "\\begin{array}{ll}\n",
    "y = \\left\\{ \\begin{array}{ll}\n",
    "0 & (w_1x_1 + w_2x_2 ≦ \\theta) \\\\\n",
    "1 & (w_1x_1 + w_2x_2 > \\theta)  \\\\\n",
    "\\end{array} \\right. \\\\\n",
    "\\\\\n",
    "x_i: i番目の入力値 \\\\\n",
    "w_i: 各入力 x_i に対する重み \\\\\n",
    "\\theta: 発火するかしないかのしきい値 \\\\\n",
    "\\end{array}\n",
    "$$\n",
    "\n",
    "この $\\theta$を $-b$ として、左辺にもってくると次のようになります。\n",
    "\n",
    "また、簡略化のため入力値の重み付き総和を $W^TX$ (重みベクトル $W$ を転地させたものと、入力ベクトル X を掛け算したもの) としておきます。\n",
    "\n",
    "$$\n",
    "\\begin{array}{ll}\n",
    "y = \\left\\{ \\begin{array}{ll}\n",
    "0 & (W^TX + b ≦ 0) \\\\\n",
    "1 & (W^TX + b > 0)  \\\\\n",
    "\\end{array} \\right.\n",
    "\\\\\n",
    "b: バイアス \\\\\n",
    "\\end{array}\n",
    "$$\n",
    "\n",
    "バイアス $b$ と 重み $w_i$ はそれぞれ別の働きをします。\n",
    "$w_i$ は入力信号の重要度をコントロールするパラメータとして機能します。\n",
    "バイアス $b$ は発火のしやすさを調整するパラメータとして機能します。\n",
    "\n",
    "例えば、 $b = 0.1$ の場合は、$W^TX $ が $0.1$ 以上の場合発火します。\n",
    "しかし、 $b = 20$ の場合、 $W^TX $ が $20$ 以上にならないと発火しません。\n",
    "このように、$b$ はバイアスとしてパーセプトロンが発火するかしないかをコントロールしています。"
   ]
  }
 ],
 "metadata": {
  "kernelspec": {
   "display_name": "Python 3",
   "language": "python",
   "name": "python3"
  },
  "language_info": {
   "codemirror_mode": {
    "name": "ipython",
    "version": 3
   },
   "file_extension": ".py",
   "mimetype": "text/x-python",
   "name": "python",
   "nbconvert_exporter": "python",
   "pygments_lexer": "ipython3",
   "version": "3.4.5"
  }
 },
 "nbformat": 4,
 "nbformat_minor": 1
}
