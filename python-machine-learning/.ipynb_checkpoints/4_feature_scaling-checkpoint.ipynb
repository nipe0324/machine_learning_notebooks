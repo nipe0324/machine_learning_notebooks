{
 "cells": [
  {
   "cell_type": "markdown",
   "metadata": {},
   "source": [
    "# 特徴のスケーリング (feature scaling)"
   ]
  },
  {
   "cell_type": "markdown",
   "metadata": {},
   "source": [
    "## min-max スケーリング\n",
    "\n",
    "特徴の値を「0〜1」の範囲にスケーリングします。\n",
    "\n",
    "$$\n",
    "x_{norm}^{(i)} = \\frac{ x^(i) - x_{min} }{ x_{max} - x_{min} }\n",
    "$$\n",
    "\n",
    "※$ x_{max} $ はxの最大値、 $ x_{min} $ は xの最小値\n"
   ]
  },
  {
   "cell_type": "code",
   "execution_count": 1,
   "metadata": {
    "collapsed": false
   },
   "outputs": [],
   "source": [
    "# Wineデータを取得\n",
    "import lib\n",
    "X_train, X_test, _, _ = lib.load_wine_data()"
   ]
  },
  {
   "cell_type": "code",
   "execution_count": 15,
   "metadata": {
    "collapsed": false
   },
   "outputs": [
    {
     "name": "stdout",
     "output_type": "stream",
     "text": [
      "Before: [  1.37100000e+01   1.86000000e+00   2.36000000e+00   1.66000000e+01\n",
      "   1.01000000e+02   2.61000000e+00   2.88000000e+00   2.70000000e-01\n",
      "   1.69000000e+00   3.80000000e+00   1.11000000e+00   4.00000000e+00\n",
      "   1.03500000e+03]\n",
      "After: [ 0.72043011  0.20378151  0.53763441  0.30927835  0.33695652  0.54316547\n",
      "  0.73700306  0.25        0.40189873  0.24068768  0.48717949  1.          0.5854251 ]\n"
     ]
    }
   ],
   "source": [
    "# MinMaxScalerを使ってスケーリングする\n",
    "from sklearn.preprocessing import MinMaxScaler\n",
    "\n",
    "mms = MinMaxScaler()\n",
    "X_train_norm = mms.fit_transform(X_train)\n",
    "X_test_norm = mms.transform(X_test) # 学習したパラメータを使ってテストデータ・セットや新しいデータを変換する\n",
    "print('Before:', X_train[0])\n",
    "print('After:', X_train_norm[0])"
   ]
  },
  {
   "cell_type": "markdown",
   "metadata": {},
   "source": [
    "## 標準化のスケーリング\n",
    "特徴の値を平均値 0、標準偏差 1 となるように変換する\n",
    "\n",
    "$$\n",
    "x_{std}^{(i)} = \\frac{ x^(i) - μ_x } { σ_x }\n",
    "$$\n",
    "\n",
    "※$ μ_{x} $ は特徴xの平均値、 $ σ_{x} $ は xの標準偏差"
   ]
  },
  {
   "cell_type": "code",
   "execution_count": 14,
   "metadata": {
    "collapsed": false
   },
   "outputs": [
    {
     "name": "stdout",
     "output_type": "stream",
     "text": [
      "Before: [  1.37100000e+01   1.86000000e+00   2.36000000e+00   1.66000000e+01\n",
      "   1.01000000e+02   2.61000000e+00   2.88000000e+00   2.70000000e-01\n",
      "   1.69000000e+00   3.80000000e+00   1.11000000e+00   4.00000000e+00\n",
      "   1.03500000e+03]\n",
      "After: [ 0.91083058 -0.46259897 -0.01142613 -0.82067872  0.06241693  0.58820446\n",
      "  0.93565436 -0.7619138   0.13007174 -0.51238741  0.65706596  1.94354495\n",
      "  0.93700997]\n"
     ]
    }
   ],
   "source": [
    "# StandardScalerを使ってスケーリングする\n",
    "from sklearn.preprocessing import StandardScaler\n",
    "\n",
    "stdsc = StandardScaler()\n",
    "X_train_std = stdsc.fit_transform(X_train)\n",
    "X_test_std = stdsc.transform(X_test) # 学習したパラメータを使ってテストデータ・セットや新しいデータを変換する\n",
    "print('Before:', X_train[0])\n",
    "print('After:', X_train_std[0])"
   ]
  },
  {
   "cell_type": "markdown",
   "metadata": {},
   "source": [
    "## min-max と 標準化違い"
   ]
  },
  {
   "cell_type": "code",
   "execution_count": 13,
   "metadata": {
    "collapsed": false
   },
   "outputs": [
    {
     "data": {
      "text/html": [
       "<div>\n",
       "<table border=\"1\" class=\"dataframe\">\n",
       "  <thead>\n",
       "    <tr style=\"text-align: right;\">\n",
       "      <th></th>\n",
       "      <th>Input</th>\n",
       "      <th>Norm</th>\n",
       "      <th>Standard</th>\n",
       "    </tr>\n",
       "  </thead>\n",
       "  <tbody>\n",
       "    <tr>\n",
       "      <th>0</th>\n",
       "      <td>0.0</td>\n",
       "      <td>0.0</td>\n",
       "      <td>-1.46385</td>\n",
       "    </tr>\n",
       "    <tr>\n",
       "      <th>1</th>\n",
       "      <td>1.0</td>\n",
       "      <td>0.2</td>\n",
       "      <td>-0.87831</td>\n",
       "    </tr>\n",
       "    <tr>\n",
       "      <th>2</th>\n",
       "      <td>2.0</td>\n",
       "      <td>0.4</td>\n",
       "      <td>-0.29277</td>\n",
       "    </tr>\n",
       "    <tr>\n",
       "      <th>3</th>\n",
       "      <td>3.0</td>\n",
       "      <td>0.6</td>\n",
       "      <td>0.29277</td>\n",
       "    </tr>\n",
       "    <tr>\n",
       "      <th>4</th>\n",
       "      <td>4.0</td>\n",
       "      <td>0.8</td>\n",
       "      <td>0.87831</td>\n",
       "    </tr>\n",
       "    <tr>\n",
       "      <th>5</th>\n",
       "      <td>5.0</td>\n",
       "      <td>1.0</td>\n",
       "      <td>1.46385</td>\n",
       "    </tr>\n",
       "  </tbody>\n",
       "</table>\n",
       "</div>"
      ],
      "text/plain": [
       "   Input  Norm  Standard\n",
       "0    0.0   0.0  -1.46385\n",
       "1    1.0   0.2  -0.87831\n",
       "2    2.0   0.4  -0.29277\n",
       "3    3.0   0.6   0.29277\n",
       "4    4.0   0.8   0.87831\n",
       "5    5.0   1.0   1.46385"
      ]
     },
     "execution_count": 13,
     "metadata": {},
     "output_type": "execute_result"
    }
   ],
   "source": [
    "import numpy as np\n",
    "import pandas as pd\n",
    "\n",
    "input = np.array([0.0, 1.0, 2.0, 3.0, 4.0, 5.0])\n",
    "input = input.reshape(-1, 1)\n",
    "input_norm = mms.fit_transform(input)\n",
    "input_std = stdsc.fit_transform(input)\n",
    "\n",
    "X = np.hstack((input, input_norm, input_std))\n",
    "df = pd.DataFrame(X)\n",
    "df.columns = ['Input', 'Norm', 'Standard']\n",
    "df"
   ]
  }
 ],
 "metadata": {
  "kernelspec": {
   "display_name": "Python 3",
   "language": "python",
   "name": "python3"
  },
  "language_info": {
   "codemirror_mode": {
    "name": "ipython",
    "version": 3
   },
   "file_extension": ".py",
   "mimetype": "text/x-python",
   "name": "python",
   "nbconvert_exporter": "python",
   "pygments_lexer": "ipython3",
   "version": "3.4.5"
  }
 },
 "nbformat": 4,
 "nbformat_minor": 1
}
