{
 "cells": [
  {
   "cell_type": "markdown",
   "metadata": {},
   "source": [
    "# パーセプトロンを自前実装"
   ]
  },
  {
   "cell_type": "markdown",
   "metadata": {},
   "source": [
    "## パーセプトロン\n",
    "脳内の1つのニューロンの働き(発火するかしないか)を模倣している\n",
    "\n",
    "\n",
    "\n",
    "### 概要\n",
    "\n",
    "```\n",
    "バイアス\n",
    "入力X    = 重みW => 総入力関数 Σ => 活性化関数 ==+==> 出力\n",
    "                        <=  (重みの更新) =  誤差 」\n",
    "```\n",
    "\n",
    "* 総入力(net input) z = w1 x1 + ... + wm xm\n",
    "\n",
    "* 活性化関数(activation function) Φ(z) = {1 (z>=0), -1 (z < 0)\n",
    "\n",
    "\n",
    "### アルゴリズムの流れ\n",
    "\n",
    "1. 重みを0または小さな乱数で初期化する\n",
    "2. トレーニングサンプルx(i) ごとに以下の手順を実行する\n",
    "  a) 出力値y' を計算する ※y'は予想結果\n",
    "  b) 重みを更新する\n",
    "    Δwj = η(y-y') xj ※ηは学習率(0.0より大きく0.1以下の定数)\n",
    "    wj := wj + Δwj\n",
    "\n",
    "### 留意事項\n",
    "\n",
    "パーセプトロンの収束が保証されるのは、2つのクラスが線形分離可能であり、学習率が小さい場合に限られる    \n",
    "\n",
    "### ソースコードの説明\n",
    "\n",
    "パーセプトロンクラスを作成する。\n",
    "fitメソッドでトレーニングを行う。\n",
    "predictメソッドで予測を行う。\n",
    "メソッド呼び出し時に作成される属性は、self.w_ のようにアンダースコアをつける\n",
    "\n",
    "参考: Python機械学習プログラム第2章\n"
   ]
  },
  {
   "cell_type": "code",
   "execution_count": 1,
   "metadata": {
    "collapsed": false
   },
   "outputs": [],
   "source": [
    "import numpy as np\n",
    "\n",
    "class Perceptron(object):\n",
    "    \"\"\"パーセプトロンの分類器\n",
    "    パラメータ\n",
    "    ------------\n",
    "    eta : float\n",
    "        学習率 (0.0より大きく1.0以下の値)\n",
    "    n_iter : int\n",
    "        トレーニングデータのトレーニング回数\n",
    "    属性\n",
    "    -----------\n",
    "    w_ : 1次元配列\n",
    "        トレーニング後の重み\n",
    "    errors_ : リスト\n",
    "        各エポックでの誤分類数\n",
    "    \"\"\"\n",
    "    def __init__(self, eta=0.01, n_iter=10):\n",
    "        self.eta = eta\n",
    "        self.n_iter = n_iter\n",
    "\n",
    "    def fit(self, X, y):\n",
    "        \"\"\"トレーニングデータに適合させる\n",
    "        パラメータ\n",
    "        -----------\n",
    "        X : [n_samples, n_features]\n",
    "            トレーニングデータ\n",
    "            n_sampleはサンプルの個数、n_featuresは特徴量の個数\n",
    "        y : [n_samples]\n",
    "            目的関数\n",
    "        戻り値\n",
    "        ----------\n",
    "        self : object\n",
    "        \"\"\"\n",
    "        self.w_ = np.zeros(1 + X.shape[1]) # bias + feature数のinputを0で初期化\n",
    "        self.errors_ = []\n",
    "        for _ in range(self.n_iter): # トレーニング回数分トレーニングデータを反復\n",
    "            errors = 0\n",
    "            for xi, target in zip(X, y): # 各サンプルで重みを更新\n",
    "                update = self.eta * (target - self.predict(xi)) # Δw = η(y-y') x\n",
    "                self.w_[1:] += update * xi # 重みwjの更新 Δwj = η(y-y') xj (j = 1, ..., m)\n",
    "                self.w_[0] += update # 重みw0の更新 Δw0 = η(y-y')\n",
    "                errors += int(update != 0.0) # 誤分類の場合カウントする\n",
    "            self.errors_.append(errors) # 反復回数ごとに誤分類数を詰め込んでおく\n",
    "        return self\n",
    "\n",
    "    def net_input(self, X):\n",
    "        \"\"\"総入力を計算\"\"\"\n",
    "        return np.dot(X, self.w_[1:]) + self.w_[0]\n",
    "\n",
    "    def predict(self, X):\n",
    "        \"\"\"1ステップ後のクラスラベルを返す\"\"\"\n",
    "        return np.where(self.net_input(X) >= 0.0, 1, -1)\n"
   ]
  },
  {
   "cell_type": "code",
   "execution_count": 2,
   "metadata": {
    "collapsed": false
   },
   "outputs": [
    {
     "data": {
      "text/html": [
       "<div>\n",
       "<table border=\"1\" class=\"dataframe\">\n",
       "  <thead>\n",
       "    <tr style=\"text-align: right;\">\n",
       "      <th></th>\n",
       "      <th>0</th>\n",
       "      <th>1</th>\n",
       "      <th>2</th>\n",
       "      <th>3</th>\n",
       "      <th>4</th>\n",
       "    </tr>\n",
       "  </thead>\n",
       "  <tbody>\n",
       "    <tr>\n",
       "      <th>145</th>\n",
       "      <td>6.7</td>\n",
       "      <td>3.0</td>\n",
       "      <td>5.2</td>\n",
       "      <td>2.3</td>\n",
       "      <td>Iris-virginica</td>\n",
       "    </tr>\n",
       "    <tr>\n",
       "      <th>146</th>\n",
       "      <td>6.3</td>\n",
       "      <td>2.5</td>\n",
       "      <td>5.0</td>\n",
       "      <td>1.9</td>\n",
       "      <td>Iris-virginica</td>\n",
       "    </tr>\n",
       "    <tr>\n",
       "      <th>147</th>\n",
       "      <td>6.5</td>\n",
       "      <td>3.0</td>\n",
       "      <td>5.2</td>\n",
       "      <td>2.0</td>\n",
       "      <td>Iris-virginica</td>\n",
       "    </tr>\n",
       "    <tr>\n",
       "      <th>148</th>\n",
       "      <td>6.2</td>\n",
       "      <td>3.4</td>\n",
       "      <td>5.4</td>\n",
       "      <td>2.3</td>\n",
       "      <td>Iris-virginica</td>\n",
       "    </tr>\n",
       "    <tr>\n",
       "      <th>149</th>\n",
       "      <td>5.9</td>\n",
       "      <td>3.0</td>\n",
       "      <td>5.1</td>\n",
       "      <td>1.8</td>\n",
       "      <td>Iris-virginica</td>\n",
       "    </tr>\n",
       "  </tbody>\n",
       "</table>\n",
       "</div>"
      ],
      "text/plain": [
       "       0    1    2    3               4\n",
       "145  6.7  3.0  5.2  2.3  Iris-virginica\n",
       "146  6.3  2.5  5.0  1.9  Iris-virginica\n",
       "147  6.5  3.0  5.2  2.0  Iris-virginica\n",
       "148  6.2  3.4  5.4  2.3  Iris-virginica\n",
       "149  5.9  3.0  5.1  1.8  Iris-virginica"
      ]
     },
     "execution_count": 2,
     "metadata": {},
     "output_type": "execute_result"
    }
   ],
   "source": [
    "import pandas as pd\n",
    "\n",
    "# UCI Machine Learning Repository から Irisデータ・セットを読み込む\n",
    "df = pd.read_csv('https://archive.ics.uci.edu/ml/machine-learning-databases/iris/iris.data',\n",
    "                               header=None)\n",
    "df.tail()"
   ]
  },
  {
   "cell_type": "code",
   "execution_count": 3,
   "metadata": {
    "collapsed": false,
    "scrolled": true
   },
   "outputs": [
    {
     "data": {
      "image/png": "[encoded data removed]",
      "text/plain": [
       "<matplotlib.figure.Figure at 0x1161165c0>"
      ]
     },
     "metadata": {},
     "output_type": "display_data"
    }
   ],
   "source": [
    "# Iris-setosa 50枚の花と Iris-versicolor 50枚のｈ穴に対応する 先頭の100権のデータを抽出する\n",
    "# 散布図で可視化する\n",
    "%matplotlib inline\n",
    "import matplotlib.pyplot as plt\n",
    "import numpy as np\n",
    "\n",
    "y = df.iloc[0:100, 4].values # 1-100行目の目的変数(index 4)を取得\n",
    "y = np.where(y == 'Iris-setosa', -1, 1) # Iris-setosa を -1, Iris-virginica を 1 に変換\n",
    "X = df.iloc[0:100, [0, 2]].values # 1-100行目の1, 3列目(index 0, 2)を取得\n",
    "\n",
    "plt.scatter(X[:50, 0], X[:50, 1], color='red', marker='o', label='setosa') # setosaのプロット(赤o)\n",
    "plt.scatter(X[50:100, 0], X[50:100, 1], color='blue', marker='x', label='virginica') # virginicaのプロット(青x)\n",
    "\n",
    "plt.xlabel('sepal length [cm]')\n",
    "plt.ylabel('petal length [cm]')\n",
    "\n",
    "plt.legend(loc='upper left') # 凡例\n",
    "\n",
    "plt.show() # 図の表示\n"
   ]
  },
  {
   "cell_type": "code",
   "execution_count": 4,
   "metadata": {
    "collapsed": false
   },
   "outputs": [
    {
     "data": {
      "text/plain": [
       "<__main__.Perceptron at 0x1131dcbe0>"
      ]
     },
     "execution_count": 4,
     "metadata": {},
     "output_type": "execute_result"
    }
   ],
   "source": [
    "# パーセプトロンのトレーニング\n",
    "ppn = Perceptron(eta=0.1, n_iter=10) # 学習率 0.1, トレーニング回数10回\n",
    "ppn.fit(X, y)"
   ]
  },
  {
   "cell_type": "code",
   "execution_count": 5,
   "metadata": {
    "collapsed": false
   },
   "outputs": [
    {
     "data": {
      "image/png": "[encoded data removed]",
      "text/plain": [
       "<matplotlib.figure.Figure at 0x115377550>"
      ]
     },
     "metadata": {},
     "output_type": "display_data"
    }
   ],
   "source": [
    "# エポックと誤分類誤差(errors)の関係を折れ線グラフで表示\n",
    "plt.plot(range(1, len(ppn.errors_) + 1), ppn.errors_, marker='o')\n",
    "\n",
    "plt.xlabel('Epochs')\n",
    "plt.ylabel('Number of misclassifications (errors)')\n",
    "\n",
    "plt.show() # グラフを見ると、6回目ですでに収束している"
   ]
  },
  {
   "cell_type": "code",
   "execution_count": 6,
   "metadata": {
    "collapsed": false
   },
   "outputs": [
    {
     "data": {
      "image/png": "[encoded data removed]",
      "text/plain": [
       "<matplotlib.figure.Figure at 0x11884d1d0>"
      ]
     },
     "metadata": {},
     "output_type": "display_data"
    }
   ],
   "source": [
    "# 決定境界のプロット\n",
    "import lib\n",
    "lib.plot_decision_regions(X, y, classifier=ppn)\n",
    "\n",
    "plt.xlabel('sepal length [cm]')\n",
    "plt.ylabel('petal length [cm]')\n",
    "plt.legend(loc='upper left') # 凡例\n",
    "plt.show() # 図の表示\n"
   ]
  }
 ],
 "metadata": {
  "kernelspec": {
   "display_name": "Python 3",
   "language": "python",
   "name": "python3"
  },
  "language_info": {
   "codemirror_mode": {
    "name": "ipython",
    "version": 3
   },
   "file_extension": ".py",
   "mimetype": "text/x-python",
   "name": "python",
   "nbconvert_exporter": "python",
   "pygments_lexer": "ipython3",
   "version": "3.4.5"
  }
 },
 "nbformat": 4,
 "nbformat_minor": 0
}
