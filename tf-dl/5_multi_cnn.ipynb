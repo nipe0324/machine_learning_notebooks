{
 "cells": [
  {
   "cell_type": "markdown",
   "metadata": {},
   "source": [
    "# 多層CNN\n",
    "\n",
    "* 多層CNNの実装(conv2d, max_pool, dropout)\n",
    "* Saverを使う"
   ]
  },
  {
   "cell_type": "code",
   "execution_count": 1,
   "metadata": {
    "collapsed": true
   },
   "outputs": [],
   "source": [
    "# 必要なモジュールを読み込む\n",
    "import tensorflow as tf\n",
    "import numpy as np\n",
    "import matplotlib.pyplot as plt\n",
    "%matplotlib inline\n",
    "\n",
    "np.random.seed(20161001)\n",
    "tf.set_random_seed(20161001)"
   ]
  },
  {
   "cell_type": "code",
   "execution_count": 2,
   "metadata": {
    "collapsed": false
   },
   "outputs": [
    {
     "name": "stdout",
     "output_type": "stream",
     "text": [
      "Extracting /tmp/data/train-images-idx3-ubyte.gz\n",
      "Extracting /tmp/data/train-labels-idx1-ubyte.gz\n",
      "Extracting /tmp/data/t10k-images-idx3-ubyte.gz\n",
      "Extracting /tmp/data/t10k-labels-idx1-ubyte.gz\n"
     ]
    }
   ],
   "source": [
    "# MNISTデータを読み込む\n",
    "from tensorflow.examples.tutorials.mnist import input_data\n",
    "mnist = input_data.read_data_sets('/tmp/data/', one_hot=True)"
   ]
  },
  {
   "cell_type": "code",
   "execution_count": 3,
   "metadata": {
    "collapsed": false
   },
   "outputs": [],
   "source": [
    "# 1層目のConvolution層とPooling層を定義\n",
    "num_filters1 = 32\n",
    "\n",
    "x = tf.placeholder(tf.float32, [None, 784])\n",
    "x_image = tf.reshape(x, [-1, 28, 28, 1])\n",
    "\n",
    "W_conv1 = tf.Variable(tf.truncated_normal([5, 5, 1, num_filters1], stddev=0.1))\n",
    "h_conv1 = tf.nn.conv2d(x_image, W_conv1, strides=[1, 1, 1, 1], padding='SAME')\n",
    "\n",
    "b_conv1 = tf.Variable(tf.constant(0.1, shape=[num_filters1]))\n",
    "h_conv1_cutoff = tf.nn.relu(h_conv1 + b_conv1)\n",
    "\n",
    "h_pool1 = tf.nn.max_pool(h_conv1_cutoff, ksize=[1, 2, 2, 1], strides=[1, 2, 2, 1], padding='SAME')"
   ]
  },
  {
   "cell_type": "code",
   "execution_count": 4,
   "metadata": {
    "collapsed": false
   },
   "outputs": [],
   "source": [
    "# 2層目のConvolution層とPooling層を定義\n",
    "num_filters2 = 64\n",
    "\n",
    "W_conv2 = tf.Variable(tf.truncated_normal([5, 5, num_filters1, num_filters2]))\n",
    "h_conv2 = tf.nn.conv2d(h_pool1, W_conv2, strides=[1, 1, 1, 1], padding='SAME')\n",
    "\n",
    "b_conv2 = tf.Variable(tf.constant(0.1, shape=[num_filters2]))\n",
    "h_conv2_cutoff = tf.nn.relu(h_conv2 + b_conv2)\n",
    "\n",
    "h_pool2 = tf.nn.max_pool(h_conv2_cutoff, ksize=[1, 2, 2, 1], strides=[1, 2, 2, 1], padding='SAME')"
   ]
  },
  {
   "cell_type": "code",
   "execution_count": 5,
   "metadata": {
    "collapsed": false
   },
   "outputs": [],
   "source": [
    "# 全結合層を定義\n",
    "h_pool2_flat = tf.reshape(h_pool2, [-1, 7*7*num_filters2])\n",
    "\n",
    "num_units1 = 7*7*num_filters2\n",
    "num_units2 = 1024\n",
    "\n",
    "w2 = tf.Variable(tf.truncated_normal([num_units1, num_units2]))\n",
    "b2 = tf.Variable(tf.constant(0.1, shape=[num_units2]))\n",
    "hidden2 = tf.nn.relu(tf.matmul(h_pool2_flat, w2) + b2)"
   ]
  },
  {
   "cell_type": "code",
   "execution_count": 6,
   "metadata": {
    "collapsed": true
   },
   "outputs": [],
   "source": [
    "# ドロップアウト層\n",
    "keep_prob = tf.placeholder(tf.float32)\n",
    "hidden2_drop = tf.nn.dropout(hidden2, keep_prob)"
   ]
  },
  {
   "cell_type": "code",
   "execution_count": 7,
   "metadata": {
    "collapsed": false
   },
   "outputs": [],
   "source": [
    "# ソフトマックス層\n",
    "w0 = tf.Variable(tf.zeros([num_units2, 10]))\n",
    "b0 = tf.Variable(tf.zeros([10]))\n",
    "p = tf.nn.softmax(tf.matmul(hidden2_drop, w0) + b0)"
   ]
  },
  {
   "cell_type": "code",
   "execution_count": 8,
   "metadata": {
    "collapsed": true
   },
   "outputs": [],
   "source": [
    "# 誤差関数、学習アルゴリズム、正解率を定義\n",
    "t = tf.placeholder(tf.float32, [None, 10])\n",
    "loss = -tf.reduce_sum(t * tf.log(p))\n",
    "train_step = tf.train.AdamOptimizer(0.0001).minimize(loss)\n",
    "correct_prediction = tf.equal(tf.argmax(p, 1), tf.argmax(t, 1))\n",
    "accuracy = tf.reduce_mean(tf.cast(correct_prediction, tf.float32))"
   ]
  },
  {
   "cell_type": "code",
   "execution_count": 9,
   "metadata": {
    "collapsed": false
   },
   "outputs": [
    {
     "name": "stdout",
     "output_type": "stream",
     "text": [
      "Step: 500, Loss: 2364.501465, Accuracy: 0.933500\n",
      "Step: 1000, Loss: 1270.491699, Accuracy: 0.963200\n",
      "Step: 1500, Loss: 1536.460938, Accuracy: 0.956500\n",
      "Step: 2000, Loss: 1113.847168, Accuracy: 0.967600\n",
      "Step: 2500, Loss: 912.800781, Accuracy: 0.974600\n",
      "Step: 3000, Loss: 887.652161, Accuracy: 0.976800\n",
      "Step: 3500, Loss: 837.910583, Accuracy: 0.975900\n",
      "Step: 4000, Loss: 813.723389, Accuracy: 0.977700\n",
      "Step: 4500, Loss: 741.796204, Accuracy: 0.979400\n",
      "Step: 5000, Loss: 837.127991, Accuracy: 0.977900\n",
      "elapsed_time:24588806.237181466 min\n"
     ]
    }
   ],
   "source": [
    "# トレーニングを実施\n",
    "import time\n",
    "sess = tf.Session()\n",
    "sess.run(tf.initialize_all_variables())\n",
    "saver = tf.train.Saver()\n",
    "\n",
    "start = time.time()\n",
    "for i in range(1, 5000+1): # 5,000回トレーニングを実施\n",
    "    batch_xs, batch_ts = mnist.train.next_batch(50)\n",
    "    sess.run(train_step, feed_dict={ x: batch_xs, t: batch_ts, keep_prob: 0.5 })\n",
    "    \n",
    "    # 進捗を表示\n",
    "    if i % 500 == 0:\n",
    "        loss_vals, acc_vals = [], []\n",
    "        for c in range(4):\n",
    "            start = len(mnist.test.labels) / 4 * c\n",
    "            end = len(mnist.test.labels) / 4 * (c+1)\n",
    "            loss_val, acc_val = sess.run([loss, accuracy],\n",
    "                feed_dict={x:mnist.test.images[start:end],\n",
    "                           t:mnist.test.labels[start:end],\n",
    "                           keep_prob:1.0})\n",
    "            loss_vals.append(loss_val)\n",
    "            acc_vals.append(acc_val)\n",
    "        loss_val = np.sum(loss_vals)\n",
    "        acc_val = np.mean(acc_vals)\n",
    "        print ('Step: %d, Loss: %f, Accuracy: %f'\n",
    "               % (i, loss_val, acc_val))\n",
    "        saver.save(sess, 'sessions/cnn_session', global_step=i)\n",
    "\n",
    "elapsed_time = time.time() - start\n",
    "print(\"elapsed_time:{0}\".format(elapsed_time / 60), \"min\")"
   ]
  },
  {
   "cell_type": "markdown",
   "metadata": {},
   "source": [
    "# 手書き文字の自動認識アプリ"
   ]
  },
  {
   "cell_type": "code",
   "execution_count": 10,
   "metadata": {
    "collapsed": false
   },
   "outputs": [],
   "source": [
    "# セッションにデータをリストア\n",
    "sess = tf.Session()\n",
    "sess.run(tf.initialize_all_variables())\n",
    "\n",
    "saver = tf.train.Saver()\n",
    "saver.restore(sess, 'sessions/cnn_session-5000')"
   ]
  },
  {
   "cell_type": "code",
   "execution_count": 11,
   "metadata": {
    "collapsed": true
   },
   "outputs": [],
   "source": [
    "input_form = \"\"\"\n",
    "<table>\n",
    "  <td style=\"border-style: none;\">\n",
    "    <div style=\"border: solid 2px #666; width: 143px; height: 144px;\">\n",
    "    <canvas width=\"140\" height=\"140\"></canvas>\n",
    "  </td>\n",
    "  <td style=\"border-style: none;\">\n",
    "    <button onclick=\"clear_value()\">Clear</button>\n",
    "  </td>\n",
    "</table>\n",
    "\"\"\"\n",
    "\n",
    "javascript = \"\"\"\n",
    "<script type=\"text/javascript\">\n",
    "  var pixels = [];\n",
    "  for (var i = 0; i < 28*28; i++) pixels[i] = 0;\n",
    "  var click = 0;\n",
    "\n",
    "  var canvas = document.querySelector('canvas');\n",
    "  canvas.addEventListener('mousemove', function(e) {\n",
    "      if (e.buttons == 1) {\n",
    "          click = 1;\n",
    "          canvas.getContext('2d').fillStyle = 'rgb(0,0,0)';\n",
    "          canvas.getContext('2d').fillRect(e.offsetX, e.offsetY, 8, 8)\n",
    "          x = Math.floor(e.offsetY * 0.2);\n",
    "          y = Math.floor(e.offsetX * 0.2) + 1;\n",
    "          for (var dy = 0; dy < 2; dy++) {\n",
    "              for (var dx = 0; dx < 2; dx++) {\n",
    "                  if ((x + dx < 28) && (y + dy < 28)) {\n",
    "                      pixels[(y+dy) + (x+dx)*28] = 1\n",
    "                  }\n",
    "              }\n",
    "          }\n",
    "      } else {\n",
    "          if (click == 1) set_value();\n",
    "          click = 0;\n",
    "      }\n",
    "  });\n",
    "  \n",
    "  function set_value() {\n",
    "      var result = '';\n",
    "      for (var i = 0; i < 28*28; i++) result += pixels[i] + \",\";\n",
    "      var kernel = IPython.notebook.kernel;\n",
    "      kernel.execute('image = [' + result + ']');\n",
    "  }\n",
    "  \n",
    "  function clear_value() {\n",
    "      canvas.getContext('2d').fillStyle = 'rgb(255, 255, 255)';\n",
    "      canvas.getContext('2d').fillRect(0, 0, 140, 140);\n",
    "      for (var i = 0; i < 28*28; i++) pixels[i] = 0;\n",
    "   }\n",
    "</script>\n",
    "\"\"\""
   ]
  },
  {
   "cell_type": "code",
   "execution_count": 16,
   "metadata": {
    "collapsed": false
   },
   "outputs": [
    {
     "data": {
      "text/html": [
       "\n",
       "<table>\n",
       "  <td style=\"border-style: none;\">\n",
       "    <div style=\"border: solid 2px #666; width: 143px; height: 144px;\">\n",
       "    <canvas width=\"140\" height=\"140\"></canvas>\n",
       "  </td>\n",
       "  <td style=\"border-style: none;\">\n",
       "    <button onclick=\"clear_value()\">Clear</button>\n",
       "  </td>\n",
       "</table>\n",
       "\n",
       "<script type=\"text/javascript\">\n",
       "  var pixels = [];\n",
       "  for (var i = 0; i < 28*28; i++) pixels[i] = 0;\n",
       "  var click = 0;\n",
       "\n",
       "  var canvas = document.querySelector('canvas');\n",
       "  canvas.addEventListener('mousemove', function(e) {\n",
       "      if (e.buttons == 1) {\n",
       "          click = 1;\n",
       "          canvas.getContext('2d').fillStyle = 'rgb(0,0,0)';\n",
       "          canvas.getContext('2d').fillRect(e.offsetX, e.offsetY, 8, 8)\n",
       "          x = Math.floor(e.offsetY * 0.2);\n",
       "          y = Math.floor(e.offsetX * 0.2) + 1;\n",
       "          for (var dy = 0; dy < 2; dy++) {\n",
       "              for (var dx = 0; dx < 2; dx++) {\n",
       "                  if ((x + dx < 28) && (y + dy < 28)) {\n",
       "                      pixels[(y+dy) + (x+dx)*28] = 1\n",
       "                  }\n",
       "              }\n",
       "          }\n",
       "      } else {\n",
       "          if (click == 1) set_value();\n",
       "          click = 0;\n",
       "      }\n",
       "  });\n",
       "  \n",
       "  function set_value() {\n",
       "      var result = '';\n",
       "      for (var i = 0; i < 28*28; i++) result += pixels[i] + \",\";\n",
       "      var kernel = IPython.notebook.kernel;\n",
       "      kernel.execute('image = [' + result + ']');\n",
       "  }\n",
       "  \n",
       "  function clear_value() {\n",
       "      canvas.getContext('2d').fillStyle = 'rgb(255, 255, 255)';\n",
       "      canvas.getContext('2d').fillRect(0, 0, 140, 140);\n",
       "      for (var i = 0; i < 28*28; i++) pixels[i] = 0;\n",
       "   }\n",
       "</script>\n"
      ],
      "text/plain": [
       "<IPython.core.display.HTML object>"
      ]
     },
     "execution_count": 16,
     "metadata": {},
     "output_type": "execute_result"
    }
   ],
   "source": [
    "from IPython.display import HTML\n",
    "HTML(input_form + javascript)"
   ]
  },
  {
   "cell_type": "code",
   "execution_count": 17,
   "metadata": {
    "collapsed": false
   },
   "outputs": [
    {
     "data": {
      "text/plain": [
       "<Container object of 10 artists>"
      ]
     },
     "execution_count": 17,
     "metadata": {},
     "output_type": "execute_result"
    },
    {
     "data": {
      "image/png": "[encoded data removed]",
      "text/plain": [
       "<matplotlib.figure.Figure at 0x11b1b5908>"
      ]
     },
     "metadata": {},
     "output_type": "display_data"
    }
   ],
   "source": [
    "p_val = sess.run(p, feed_dict={ x: [image], keep_prob: 1.0 })\n",
    "fig = plt.figure(figsize=(4,2))\n",
    "pred = p_val[0]\n",
    "subplot = fig.add_subplot(1, 1, 1)\n",
    "subplot.set_xticks(range(10))\n",
    "subplot.set_xlim(-0.5, 9.5)\n",
    "subplot.set_ylim(0, 1)\n",
    "subplot.bar(range(10), pred, align='center')"
   ]
  }
 ],
 "metadata": {
  "kernelspec": {
   "display_name": "Python 3",
   "language": "python",
   "name": "python3"
  },
  "language_info": {
   "codemirror_mode": {
    "name": "ipython",
    "version": 3
   },
   "file_extension": ".py",
   "mimetype": "text/x-python",
   "name": "python",
   "nbconvert_exporter": "python",
   "pygments_lexer": "ipython3",
   "version": "3.4.5"
  }
 },
 "nbformat": 4,
 "nbformat_minor": 1
}
