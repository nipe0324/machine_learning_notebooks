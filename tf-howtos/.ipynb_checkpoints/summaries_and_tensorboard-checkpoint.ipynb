{
 "cells": [
  {
   "cell_type": "markdown",
   "metadata": {},
   "source": [
    "## TensorBoard: Visualizing Learning\n",
    "\n",
    "TensorBoardはデバッグや最適化させるためにビジュアライズさせるツール。\n",
    "\n",
    "1. TensorFlowグラフを作成する\n",
    "2. summaryオペレーションを記載する\n",
    "3. merge_all_arummariesサマリーデータを作成する\n",
    "4. SummaryWriterでディスクに書き込む。毎ステップだとオーバーヘッドになってしまうので、n step単位で書くので充分視覚化できる\n",
    "\n",
    "よく使うメソッド\n",
    "\n",
    "- tf.train.SummaryWriter: サマリーデータをディスクに書き込む\n",
    "- merge_all_summaries: すべてのサマリーデータを作成する\n",
    "- scalar_summary: 学習率、コストなどのグラフを描画する\n",
    "- histogram_summary: 重みなどのヒストグラムを猫額する\n",
    "- name_scope: グラフをまとめる\n",
    "\n",
    "注意点\n",
    "- TensorBoardを再起動しないとログデータが反映されない\n",
    "- jupyter上で2回以上実行するとエラーになるので、プロセスの再起動が必要\n",
    "\n",
    "その他のsummary operations: \n",
    "https://www.tensorflow.org/versions/r0.11/api_docs/python/train.html#summary-operations"
   ]
  },
  {
   "cell_type": "markdown",
   "metadata": {},
   "source": [
    "参考\n",
    "* https://www.tensorflow.org/versions/r0.11/how_tos/summaries_and_tensorboard/index.html\n",
    "* https://github.com/tensorflow/tensorflow/blob/r0.11/tensorflow/tensorboard/README.md\n",
    "* https://github.com/tensorflow/tensorflow/blob/r0.11/tensorflow/examples/tutorials/mnist/mnist_with_summaries.py"
   ]
  },
  {
   "cell_type": "code",
   "execution_count": 1,
   "metadata": {
    "collapsed": false
   },
   "outputs": [
    {
     "name": "stdout",
     "output_type": "stream",
     "text": [
      "Extracting /tmp/data/train-images-idx3-ubyte.gz\n",
      "Extracting /tmp/data/train-labels-idx1-ubyte.gz\n",
      "Extracting /tmp/data/t10k-images-idx3-ubyte.gz\n",
      "Extracting /tmp/data/t10k-labels-idx1-ubyte.gz\n"
     ]
    }
   ],
   "source": [
    "# ライブラリをインポート\n",
    "import tensorflow as tf\n",
    "\n",
    "# MNISTデータをロード\n",
    "from tensorflow.examples.tutorials.mnist import input_data\n",
    "mnist = input_data.read_data_sets('/tmp/data', one_hot=True)"
   ]
  },
  {
   "cell_type": "code",
   "execution_count": 2,
   "metadata": {
    "collapsed": false
   },
   "outputs": [],
   "source": [
    "summaries_dir = '/tmp/tensorflow_log'\n",
    "\n",
    "def train():\n",
    "    def variable_summaries(name, var):\n",
    "        \"\"\"サマリー情報を追加する\"\"\"\n",
    "        with tf.name_scope('summaries'):\n",
    "            mean = tf.reduce_mean(var)\n",
    "            tf.scalar_summary('mean/' + name, mean)\n",
    "            with tf.name_scope('stddev'):\n",
    "                stddev = tf.sqrt(tf.reduce_mean(tf.square(var - mean)))\n",
    "            tf.scalar_summary('stddev/' + name, stddev)\n",
    "            tf.scalar_summary('max/' + name, tf.reduce_max(var))\n",
    "            tf.scalar_summary('min/' + name, tf.reduce_min(var))\n",
    "            tf.histogram_summary(name, var)\n",
    "\n",
    "    # 入力値の宣言\n",
    "    with tf.name_scope('input'):\n",
    "        x = tf.placeholder(tf.float32, shape=[None, 784], name='x-input')\n",
    "        y_ = tf.placeholder(tf.float32, shape=[None, 10], name='y-input')\n",
    "\n",
    "    # imageを10件表示\n",
    "    tf.image_summary('input', tf.reshape(x, [-1, 28, 28, 1]), 10)\n",
    "\n",
    "    # 隠れ層\n",
    "    with tf.name_scope('hidden1'):\n",
    "        with tf.name_scope('weights'):\n",
    "            # 重み\n",
    "            W = tf.Variable(tf.zeros([784, 10]))\n",
    "            variable_summaries('hidden1/weights', W)\n",
    "        with tf.name_scope('biases'):\n",
    "            # バイアス\n",
    "            b = tf.Variable(tf.zeros([10]))\n",
    "            variable_summaries('hidden1/biases', b)\n",
    "        with tf.name_scope('Wx_plus_b'):\n",
    "            # 予測の計算式を定義\n",
    "            y = tf.matmul(x, W) + b\n",
    "            tf.histogram_summary('y', y)\n",
    "\n",
    "    # 損失関数の定義\n",
    "    with tf.name_scope('cross_entropy'):\n",
    "        cross_entropy = tf.reduce_mean(tf.nn.softmax_cross_entropy_with_logits(y, y_))\n",
    "    tf.scalar_summary('loss', cross_entropy)\n",
    "\n",
    "    # Optimizerの定義\n",
    "    with tf.name_scope('train'):\n",
    "        train_step = tf.train.GradientDescentOptimizer(0.5).minimize(cross_entropy)\n",
    "\n",
    "    # 精度を測る計算式を定義\n",
    "    with tf.name_scope('accuracy'):\n",
    "        with tf.name_scope('correct_prediction'):\n",
    "            correct_prediction = tf.equal(tf.argmax(y, 1), tf.argmax(y_, 1))\n",
    "        with tf.name_scope('accuracy'):\n",
    "            accuracy = tf.reduce_mean(tf.cast(correct_prediction, tf.float32))\n",
    "        tf.scalar_summary('accuracy', accuracy)\n",
    "\n",
    "    # データを書き込む\n",
    "    merged = tf.merge_all_summaries()\n",
    "\n",
    "    with tf.Session() as sess:\n",
    "        writer = tf.train.SummaryWriter(summaries_dir, sess.graph)\n",
    "\n",
    "        # トレーニングの実施\n",
    "        sess.run(tf.initialize_all_variables())\n",
    "\n",
    "        for step in range(1000):\n",
    "            batch_xs, batch_ys = mnist.train.next_batch(100)\n",
    "            sess.run(train_step, feed_dict={ x: batch_xs, y_: batch_ys })\n",
    "\n",
    "            if step % 10 == 0:\n",
    "                summary_str = sess.run(merged, feed_dict={ x: batch_xs, y_: batch_ys })\n",
    "                writer.add_summary(summary_str, step)\n",
    "\n",
    "        acc = sess.run(accuracy, feed_dict={ x: mnist.test.images, y_: mnist.test.labels })\n",
    "        print('Accuracy:', acc)"
   ]
  },
  {
   "cell_type": "code",
   "execution_count": 3,
   "metadata": {
    "collapsed": true
   },
   "outputs": [],
   "source": [
    "def main():\n",
    "    if tf.gfile.Exists(summaries_dir):\n",
    "        tf.gfile.DeleteRecursively(summaries_dir)\n",
    "    tf.gfile.MakeDirs(summaries_dir)\n",
    "    train()"
   ]
  },
  {
   "cell_type": "code",
   "execution_count": 4,
   "metadata": {
    "collapsed": false
   },
   "outputs": [
    {
     "name": "stdout",
     "output_type": "stream",
     "text": [
      "Accuracy: 0.9195\n"
     ]
    }
   ],
   "source": [
    "main()"
   ]
  },
  {
   "cell_type": "code",
   "execution_count": null,
   "metadata": {
    "collapsed": true
   },
   "outputs": [],
   "source": []
  }
 ],
 "metadata": {
  "kernelspec": {
   "display_name": "Python 3",
   "language": "python",
   "name": "python3"
  },
  "language_info": {
   "codemirror_mode": {
    "name": "ipython",
    "version": 3
   },
   "file_extension": ".py",
   "mimetype": "text/x-python",
   "name": "python",
   "nbconvert_exporter": "python",
   "pygments_lexer": "ipython3",
   "version": "3.5.2"
  }
 },
 "nbformat": 4,
 "nbformat_minor": 1
}
