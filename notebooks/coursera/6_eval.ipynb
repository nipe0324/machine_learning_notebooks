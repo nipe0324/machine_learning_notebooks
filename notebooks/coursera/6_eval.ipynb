{
 "cells": [
  {
   "cell_type": "markdown",
   "metadata": {},
   "source": [
    "プレゼン資料の流れ\n",
    "タイトル: モデルの評価とチューニング\n",
    "\n",
    "流れ\n",
    "モデルの構築\n",
    "モデルの学習 <= トレーニングセット\n",
    "モデルの評価 <= クロスバリデーションセット\n",
    "モデルのチューニング\n",
    "最終的な汎化性能 <= テストセット\n",
    "* モデルの評価方法\n",
    "* モデルのチューニング方法"
   ]
  },
  {
   "cell_type": "markdown",
   "metadata": {},
   "source": [
    "Coursera Input\n",
    "* 学習アルゴリズムの評価\n",
    "  * 精度がでないときに何をする？\n",
    "  * モデルの評価\n",
    "  * モデル選択とトレーニング、バリデーション、テストセット\n",
    "* バイアスとバリアンス\n",
    "  * バイアスとバリアンスを診断する\n",
    "  * Regularizationとバイアス/バリアンス\n",
    "  * 学習曲線と検証曲線\n",
    "  * 精度がでないときに何をする？(Revisited)\n",
    "\n",
    "* スパム分類器の作成\n",
    "  * 上手くいくことに優先付けする\n",
    "  * エラー分析\n",
    "* 偏ったクラスの扱い\n",
    "  * 偏ったクラスのためのエラーメトリックス\n",
    "  * 適合率と再現率はトレードオフ\n",
    "* 大規模データセットの扱い\n",
    "  * Data For Machine Learning"
   ]
  },
  {
   "cell_type": "markdown",
   "metadata": {},
   "source": [
    "Python Machine Learning\n",
    "* モデルの性能の偏りのない推定量の算出 <= ホールドアウト法、k分割交差検証\n",
    "* 機械学習のアルゴリズムに共通する問題の診断 <= 学習曲線、検証曲線\n",
    "* 機械学習のモデルのチューニング\n",
    "* さまざまな性能指標に基づく予測モデルの評価"
   ]
  }
 ],
 "metadata": {
  "kernelspec": {
   "display_name": "Python 3",
   "language": "python",
   "name": "python3"
  },
  "language_info": {
   "codemirror_mode": {
    "name": "ipython",
    "version": 3
   },
   "file_extension": ".py",
   "mimetype": "text/x-python",
   "name": "python",
   "nbconvert_exporter": "python",
   "pygments_lexer": "ipython3",
   "version": "3.5.1"
  }
 },
 "nbformat": 4,
 "nbformat_minor": 0
}
