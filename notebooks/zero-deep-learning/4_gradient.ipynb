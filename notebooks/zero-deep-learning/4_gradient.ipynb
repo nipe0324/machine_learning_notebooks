{
 "cells": [
  {
   "cell_type": "markdown",
   "metadata": {},
   "source": [
    "# 勾配(gradient)\n",
    "\n",
    "偏微分をベクトルとしてまとめたものを勾配(gradient)というらしい。"
   ]
  },
  {
   "cell_type": "code",
   "execution_count": 14,
   "metadata": {
    "collapsed": false
   },
   "outputs": [],
   "source": [
    "import numpy as np\n",
    "\n",
    "# 微分\n",
    "def numerical_diff(f, x):\n",
    "    h = 1e-4 # 0.0001 オーバーフローしてしまうため\n",
    "    return (f(x+h) - f(x-h)) / (2*h)"
   ]
  },
  {
   "cell_type": "code",
   "execution_count": 4,
   "metadata": {
    "collapsed": false
   },
   "outputs": [
    {
     "name": "stdout",
     "output_type": "stream",
     "text": [
      "dx0 6.00000000000378\n",
      "dx1 7.999999999999119\n"
     ]
    }
   ],
   "source": [
    "# 偏微分\n",
    "def function_tmp1(x0):\n",
    "    return x0*x0 + 4.0**2.0\n",
    "\n",
    "def function_tmp2(x1):\n",
    "    return 3.0**2.0 + x1*x1\n",
    "\n",
    "print('dx0', numerical_diff(function_tmp1, 3.0))\n",
    "print('dx1', numerical_diff(function_tmp2, 4.0))"
   ]
  },
  {
   "cell_type": "code",
   "execution_count": 15,
   "metadata": {
    "collapsed": false
   },
   "outputs": [
    {
     "name": "stdout",
     "output_type": "stream",
     "text": [
      "[ 6.  8.]\n",
      "[ 0.  4.]\n",
      "[ 6.  0.]\n"
     ]
    }
   ],
   "source": [
    "# 勾配\n",
    "def numerical_gradient(f, x):\n",
    "    h = 1e-4\n",
    "    grad = np.zeros_like(x)\n",
    "    \n",
    "    for idx in range(x.size):\n",
    "        tmp_val = x[idx]\n",
    "\n",
    "        # f(x+h)\n",
    "        x[idx] = tmp_val + h\n",
    "        fxh1 = f(x)\n",
    "        \n",
    "        # f(x-h)\n",
    "        x[idx] = tmp_val - h\n",
    "        fxh2 = f(x)\n",
    "        \n",
    "        grad[idx] = (fxh1 - fxh2) / (2*h)\n",
    "        x[idx] = tmp_val # 元に戻す\n",
    "        \n",
    "    return grad\n",
    "\n",
    "# f(x0, x1) = x0**2 + x1**2 の関数\n",
    "def function_2d(x):\n",
    "    return x[0]**2 + x[1]**2\n",
    "\n",
    "\n",
    "print( numerical_gradient( function_2d, np.array([3.0, 4.0]) ) )\n",
    "print( numerical_gradient( function_2d, np.array([0.0, 2.0]) ) )\n",
    "print( numerical_gradient( function_2d, np.array([3.0, 0.0]) ) )"
   ]
  },
  {
   "cell_type": "code",
   "execution_count": 27,
   "metadata": {
    "collapsed": false
   },
   "outputs": [
    {
     "name": "stdout",
     "output_type": "stream",
     "text": [
      "lr=0.1 [ -6.11110793e-10   8.14814391e-10]\n",
      "lr=10.0 [ -2.58983747e+13  -1.29524862e+12]\n"
     ]
    }
   ],
   "source": [
    "# 勾配法\n",
    "def gradient_descent(f, init_x, lr=0.01, step_num=100):\n",
    "    x = np.copy(init_x)\n",
    "    \n",
    "    for i in range(step_num):\n",
    "        grad = numerical_gradient(f, x)\n",
    "        x -= lr * grad\n",
    "\n",
    "    return x\n",
    "\n",
    "init_x = np.array([-3.0, 4.0])\n",
    "print('lr=0.1', gradient_descent( function_2d, init_x=init_x, lr=0.1, step_num=100 ) )\n",
    "print('lr=10.0', gradient_descent( function_2d, init_x=init_x, lr=10.0, step_num=100 ) )"
   ]
  }
 ],
 "metadata": {
  "kernelspec": {
   "display_name": "Python 3",
   "language": "python",
   "name": "python3"
  },
  "language_info": {
   "codemirror_mode": {
    "name": "ipython",
    "version": 3
   },
   "file_extension": ".py",
   "mimetype": "text/x-python",
   "name": "python",
   "nbconvert_exporter": "python",
   "pygments_lexer": "ipython3",
   "version": "3.4.5"
  }
 },
 "nbformat": 4,
 "nbformat_minor": 1
}
