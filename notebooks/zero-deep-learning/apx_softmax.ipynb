{
 "cells": [
  {
   "cell_type": "markdown",
   "metadata": {},
   "source": [
    "# ソフトマックス関数\n",
    "\n",
    "ニューラルネットワークの多分類問題の場合に出力層で利用される関数。ソフトマックス関数を使うことで多クラスに分類ができる。\n",
    "\n",
    "補足:問題と出力層の関数\n",
    "* 回帰問題 => 恒等関数\n",
    "* 2クラス分類問題 => シグモイド関数\n",
    "* 多クラス分類問題 => ソフトマックス関数\n",
    "\n",
    "数式は次の通り\n",
    "\n",
    "$$\n",
    "\\begin{array}{ll}\n",
    "y_k = \\frac {exp(a_k)} {\\sum_{i=1}^{n} exp(a_i)}\n",
    "\\\\\n",
    "exp(x): e^x を表す指数関数 \\\\\n",
    "\\end{array}\n",
    "$$\n"
   ]
  },
  {
   "cell_type": "code",
   "execution_count": 2,
   "metadata": {
    "collapsed": false
   },
   "outputs": [
    {
     "data": {
      "text/plain": [
       "array([  1.34985881,  18.17414537,  54.59815003])"
      ]
     },
     "execution_count": 2,
     "metadata": {},
     "output_type": "execute_result"
    }
   ],
   "source": [
    "import numpy as np\n",
    "\n",
    "a = np.array([0.3, 2.9, 4.0])\n",
    "\n",
    "exp_a = np.exp(a) # 指数関数\n",
    "exp_a"
   ]
  },
  {
   "cell_type": "code",
   "execution_count": 3,
   "metadata": {
    "collapsed": false
   },
   "outputs": [
    {
     "data": {
      "text/plain": [
       "74.122154210163302"
      ]
     },
     "execution_count": 3,
     "metadata": {},
     "output_type": "execute_result"
    }
   ],
   "source": [
    "sum_exp_a = np.sum(exp_a) # 指数関数の和\n",
    "sum_exp_a"
   ]
  },
  {
   "cell_type": "code",
   "execution_count": 4,
   "metadata": {
    "collapsed": false
   },
   "outputs": [
    {
     "data": {
      "text/plain": [
       "array([ 0.01821127,  0.24519181,  0.73659691])"
      ]
     },
     "execution_count": 4,
     "metadata": {},
     "output_type": "execute_result"
    }
   ],
   "source": [
    "y = exp_a / sum_exp_a\n",
    "y"
   ]
  },
  {
   "cell_type": "markdown",
   "metadata": {},
   "source": [
    "## ソフトマックス関数の実装上の注意\n",
    "\n",
    "普通に実装するとオーバーフローが発生してしまうので工夫が必要"
   ]
  },
  {
   "cell_type": "code",
   "execution_count": 5,
   "metadata": {
    "collapsed": false
   },
   "outputs": [
    {
     "data": {
      "text/plain": [
       "array([ nan,  nan,  nan])"
      ]
     },
     "execution_count": 5,
     "metadata": {},
     "output_type": "execute_result"
    }
   ],
   "source": [
    "a = np.array([1010, 1000, 990])\n",
    "np.exp(a) / np.sum(np.exp(a)) # ソフトマックス関数の計算すると、オーバーフローをして正しく計算されない"
   ]
  },
  {
   "cell_type": "code",
   "execution_count": 10,
   "metadata": {
    "collapsed": false
   },
   "outputs": [
    {
     "data": {
      "text/plain": [
       "array([  9.99954600e-01,   4.53978686e-05,   2.06106005e-09])"
      ]
     },
     "execution_count": 10,
     "metadata": {},
     "output_type": "execute_result"
    }
   ],
   "source": [
    "c = np.max(a)  # 1010\n",
    "diff = a - c # [0, -10, -20]\n",
    "np.exp(diff) / np.sum(np.exp(diff)) # 最大値との差を取ってから計算するとオーバーフローしない"
   ]
  },
  {
   "cell_type": "markdown",
   "metadata": {},
   "source": [
    "## ソフトマックス関数の定義"
   ]
  },
  {
   "cell_type": "code",
   "execution_count": 11,
   "metadata": {
    "collapsed": true
   },
   "outputs": [],
   "source": [
    "def softmax(a):\n",
    "    c = np.max(a)\n",
    "    exp_a = np.exp(a - c) # オーバーフロー対策\n",
    "    sum_exp_a = np.sum(exp_a)\n",
    "    y = exp_a / sum_exp_a\n",
    "    return y"
   ]
  },
  {
   "cell_type": "markdown",
   "metadata": {},
   "source": [
    "## ソフトマックス関数の特徴\n",
    "\n",
    "ソフトマックス関数の出力は、0〜1の間の実数になります。また、ソフトマックス関数の出力値の総和は1になります。\n",
    "\n",
    "この性質のため、ソフトマックス関数の出力は、確率として解釈ができます。（確率もすべての事象の総和は1となり、各値は0〜1の間の実数となるため）"
   ]
  },
  {
   "cell_type": "code",
   "execution_count": 13,
   "metadata": {
    "collapsed": false
   },
   "outputs": [
    {
     "name": "stdout",
     "output_type": "stream",
     "text": [
      "[ 0.01821127  0.24519181  0.73659691]\n",
      "1.0\n"
     ]
    }
   ],
   "source": [
    "a = np.array([0.3, 2.9, 4.0])\n",
    "y = softmax(a)\n",
    "print( y )\n",
    "print( np.sum(y) )"
   ]
  },
  {
   "cell_type": "markdown",
   "metadata": {},
   "source": [
    "## こぼれ話\n",
    "\n",
    "機械学習では、「学習」と「推論」の２フェイズに分かれています。\n",
    "ソフトマックス関数は一般的に「学習」フェイズで使われ、「推論」フェイズでは使われません。\n",
    "\n",
    "理由として、ニューラルネットワークでは、一般的に出力層の最大値のノードを結果として使います。\n",
    "そのため、ソフトマックス関数を使おうがどうか、最大値のノードは変わらないためであり、また、計算コストもかかるため「推論」フェイズでは使われません。\n",
    "\n",
    "一方、「学習」フェイズでは、バックプロパゲーションで学習をするために、必要となります。"
   ]
  }
 ],
 "metadata": {
  "kernelspec": {
   "display_name": "Python 3",
   "language": "python",
   "name": "python3"
  },
  "language_info": {
   "codemirror_mode": {
    "name": "ipython",
    "version": 3
   },
   "file_extension": ".py",
   "mimetype": "text/x-python",
   "name": "python",
   "nbconvert_exporter": "python",
   "pygments_lexer": "ipython3",
   "version": "3.4.5"
  }
 },
 "nbformat": 4,
 "nbformat_minor": 1
}
