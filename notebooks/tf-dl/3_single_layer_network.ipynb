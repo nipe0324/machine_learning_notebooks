{
 "cells": [
  {
   "cell_type": "markdown",
   "metadata": {},
   "source": [
    "# 単層のニューラルネットワーク\n",
    "\n",
    "* 単層のニューラルネットワーク(Input, 1 x hidden layer, output)でMNISTの分類をする\n",
    "* TensorBoardを使ってネットワークや学習の可視化を行う\n",
    "\n",
    "## TensorBoardを使うための条件\n",
    "\n",
    "* `with`構文を用いたグラフコンテキスト内に、`placeholder`、`Variable`、計算の定義を記載する\n",
    "* `with`構文によるネームスコープを用いて、入力層、隠れ層、出力層などの構成要素をグループ化する\n",
    "* ネットワークグラフに付与するラベル名をコード内で指定する\n",
    "* グラフに表示するパラメータを宣言して、`SummaryWriter`で`TensorBoard`で表示するデータを書き出す\n",
    "\n",
    "## 参考\n",
    "\n",
    "* https://www.tensorflow.org/versions/r0.10/how_tos/summaries_and_tensorboard/index.html"
   ]
  },
  {
   "cell_type": "code",
   "execution_count": 1,
   "metadata": {
    "collapsed": false
   },
   "outputs": [],
   "source": [
    "# モジュールを読み込む\n",
    "import tensorflow as tf\n",
    "from tensorflow.examples.tutorials.mnist import input_data\n",
    "import numpy as np\n",
    "import matplotlib.pyplot as plt\n",
    "%matplotlib inline\n",
    "\n",
    "np.random.seed(20161001)\n",
    "tf.set_random_seed(20161001)"
   ]
  },
  {
   "cell_type": "code",
   "execution_count": 2,
   "metadata": {
    "collapsed": false
   },
   "outputs": [
    {
     "name": "stdout",
     "output_type": "stream",
     "text": [
      "Extracting /tmp/data/train-images-idx3-ubyte.gz\n",
      "Extracting /tmp/data/train-labels-idx1-ubyte.gz\n",
      "Extracting /tmp/data/t10k-images-idx3-ubyte.gz\n",
      "Extracting /tmp/data/t10k-labels-idx1-ubyte.gz\n"
     ]
    }
   ],
   "source": [
    "# MNISTデータを読み込む\n",
    "mnist = input_data.read_data_sets('/tmp/data', one_hot=True)"
   ]
  },
  {
   "cell_type": "code",
   "execution_count": 3,
   "metadata": {
    "collapsed": false
   },
   "outputs": [],
   "source": [
    "# 単層ニューラルネットワーククラスを定義\n",
    "class SingleLayerNetwork:\n",
    "    def __init__(self, num_inputs, num_units, num_labels):\n",
    "        with tf.Graph().as_default():\n",
    "            self.num_inputs = num_inputs\n",
    "            self.num_units = num_units\n",
    "            self.num_labels = num_labels\n",
    "            self.prepare_model()\n",
    "            self.prepare_session()\n",
    "\n",
    "    def prepare_model(self):\n",
    "        with tf.name_scope('input'):\n",
    "            x = tf.placeholder(tf.float32, [None, self.num_inputs], name='input')\n",
    "            \n",
    "        with tf.name_scope('hidden'):\n",
    "            w1 = tf.Variable(tf.truncated_normal([self.num_inputs, self.num_units]), name='weights')\n",
    "            b1 = tf.Variable(tf.zeros([self.num_units]), name='biases')\n",
    "            hidden1 = tf.nn.relu(tf.matmul(x, w1) + b1, name='hidden1')\n",
    "\n",
    "        with tf.name_scope('output'):\n",
    "            w0 = tf.Variable(tf.zeros([self.num_units, self.num_labels]), name='weights')\n",
    "            b0 = tf.Variable(tf.zeros([self.num_labels]), name='biases')\n",
    "            p = tf.nn.softmax(tf.matmul(hidden1, w0) + b0, name='softmax')\n",
    "            \n",
    "        with tf.name_scope('optimizer'):\n",
    "            t = tf.placeholder(tf.float32, [None, self.num_labels], name='labels')\n",
    "            loss = -tf.reduce_sum(t * tf.log(p), name='loss')\n",
    "            train_step = tf.train.AdamOptimizer().minimize(loss)\n",
    "\n",
    "        with tf.name_scope('evaluator'):\n",
    "            correct_prediction = tf.equal(tf.argmax(p, 1), tf.argmax(t, 1))\n",
    "            accuracy = tf.reduce_mean(tf.cast(correct_prediction, tf.float32), name='accuracy')\n",
    "\n",
    "        tf.scalar_summary('loss', loss)\n",
    "        tf.scalar_summary('accuracy', accuracy)\n",
    "        tf.histogram_summary('weights_hidden', w1)\n",
    "        tf.histogram_summary('biases_hidden', b1)\n",
    "        tf.histogram_summary('weights_output', w0)\n",
    "        tf.histogram_summary('biases_output', b0)\n",
    "        \n",
    "        self.x, self.t, self.p = x, t, p\n",
    "        self.train_step = train_step\n",
    "        self.loss = loss\n",
    "        self.accuracy = accuracy\n",
    "            \n",
    "    def prepare_session(self):\n",
    "        sess = tf.InteractiveSession()\n",
    "        sess.run(tf.initialize_all_variables())\n",
    "        summary = tf.merge_all_summaries()\n",
    "        writer = tf.train.SummaryWriter('/tmp/mnist_sl_logs', sess.graph)\n",
    "        \n",
    "        self.sess = sess\n",
    "        self.summary = summary\n",
    "        self.writer = writer"
   ]
  },
  {
   "cell_type": "code",
   "execution_count": 4,
   "metadata": {
    "collapsed": true
   },
   "outputs": [],
   "source": [
    "# SummaryWriterが出力先をきれいにしておく\n",
    "!rm -rf /tmp/mnist_sl_logs"
   ]
  },
  {
   "cell_type": "code",
   "execution_count": 5,
   "metadata": {
    "collapsed": false
   },
   "outputs": [
    {
     "name": "stdout",
     "output_type": "stream",
     "text": [
      "Step: 100, Loss: 3009.664795, Accuracy: 0.908500\n",
      "Step: 200, Loss: 2118.379150, Accuracy: 0.937900\n",
      "Step: 300, Loss: 1792.490967, Accuracy: 0.947000\n",
      "Step: 400, Loss: 1739.982666, Accuracy: 0.946600\n",
      "Step: 500, Loss: 1816.760498, Accuracy: 0.944400\n",
      "Step: 600, Loss: 1315.580444, Accuracy: 0.958800\n",
      "Step: 700, Loss: 1185.335571, Accuracy: 0.963900\n",
      "Step: 800, Loss: 1192.088135, Accuracy: 0.963500\n",
      "Step: 900, Loss: 1234.959717, Accuracy: 0.961900\n",
      "Step: 1000, Loss: 1193.801636, Accuracy: 0.963400\n",
      "Step: 1100, Loss: 1272.625488, Accuracy: 0.959800\n",
      "Step: 1200, Loss: 1133.935303, Accuracy: 0.966200\n",
      "Step: 1300, Loss: 1103.332764, Accuracy: 0.967300\n",
      "Step: 1400, Loss: 1089.923828, Accuracy: 0.966400\n",
      "Step: 1500, Loss: 960.909729, Accuracy: 0.971400\n",
      "Step: 1600, Loss: 1082.858521, Accuracy: 0.966500\n",
      "Step: 1700, Loss: 930.537415, Accuracy: 0.971500\n",
      "Step: 1800, Loss: 978.753357, Accuracy: 0.971900\n",
      "Step: 1900, Loss: 1030.473755, Accuracy: 0.968500\n",
      "Step: 2000, Loss: 1015.853149, Accuracy: 0.969000\n"
     ]
    }
   ],
   "source": [
    "# モデルのトレーニングを行う\n",
    "nn = SingleLayerNetwork(784, 1024, 10)\n",
    "\n",
    "i = 0\n",
    "for _ in range(2000):\n",
    "    i += 1\n",
    "    batch_xs, batch_ts = mnist.train.next_batch(100)\n",
    "    nn.sess.run(nn.train_step, feed_dict={ nn.x: batch_xs, nn.t: batch_ts })\n",
    "    \n",
    "    # トレーニングの進捗を表示\n",
    "    if i % 100 == 0:\n",
    "        summary, loss_val, acc_val = nn.sess.run(\n",
    "            [nn.summary, nn.loss, nn.accuracy], \n",
    "            feed_dict={ nn.x: mnist.test.images, nn.t: mnist.test.labels })\n",
    "        print('Step: %d, Loss: %f, Accuracy: %f' % (i, loss_val, acc_val))\n",
    "        nn.writer.add_summary(summary, i)"
   ]
  },
  {
   "cell_type": "code",
   "execution_count": 6,
   "metadata": {
    "collapsed": false
   },
   "outputs": [],
   "source": [
    "# TensorBoardを起動する\n",
    "# tensorboard --logdir=/tmp/mnist_sl_logs"
   ]
  }
 ],
 "metadata": {
  "kernelspec": {
   "display_name": "Python 3",
   "language": "python",
   "name": "python3"
  },
  "language_info": {
   "codemirror_mode": {
    "name": "ipython",
    "version": 3
   },
   "file_extension": ".py",
   "mimetype": "text/x-python",
   "name": "python",
   "nbconvert_exporter": "python",
   "pygments_lexer": "ipython3",
   "version": "3.4.5"
  }
 },
 "nbformat": 4,
 "nbformat_minor": 1
}
