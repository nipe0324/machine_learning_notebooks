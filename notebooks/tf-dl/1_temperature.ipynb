{
 "cells": [
  {
   "cell_type": "markdown",
   "metadata": {},
   "source": [
    "# 予想気温の予想モデル"
   ]
  },
  {
   "cell_type": "code",
   "execution_count": 3,
   "metadata": {
    "collapsed": false
   },
   "outputs": [],
   "source": [
    "# ライブラリ読み込み\n",
    "import tensorflow as tf\n",
    "import numpy as np\n",
    "import matplotlib.pyplot as plt\n",
    "%matplotlib inline"
   ]
  },
  {
   "cell_type": "code",
   "execution_count": 4,
   "metadata": {
    "collapsed": true
   },
   "outputs": [],
   "source": [
    "# トレーニングデータの用意\n",
    "train_t = np.array([5.2, 5.7, 8.6, 14.9, 18.2, 20.4, 25.5, 26.4, 22.8, 17.5, 11.1, 6.6])\n",
    "train_t = train_t.reshape([12, 1])\n",
    "train_x = np.zeros([12, 5])\n",
    "\n",
    "for row, month in enumerate(range(1, 13)):\n",
    "    for col, n in enumerate(range(0, 5)):\n",
    "        train_x[row][col] = month ** n"
   ]
  },
  {
   "cell_type": "code",
   "execution_count": 5,
   "metadata": {
    "collapsed": true
   },
   "outputs": [],
   "source": [
    "# 入力値の定義\n",
    "x = tf.placeholder(tf.float32, [None, 5]) # Noneにより入力データ数は未定で後から変更可能にできる。\n",
    "t = tf.placeholder(tf.float32, [None, 1])"
   ]
  },
  {
   "cell_type": "code",
   "execution_count": 6,
   "metadata": {
    "collapsed": true
   },
   "outputs": [],
   "source": [
    "# 学習パラメータ定義\n",
    "w = tf.Variable(tf.zeros([5, 1])) # 最適化の対象になるものなので変数として定義"
   ]
  },
  {
   "cell_type": "code",
   "execution_count": 7,
   "metadata": {
    "collapsed": false
   },
   "outputs": [],
   "source": [
    "# コスト関数の計算を定義\n",
    "y = tf.matmul(x, w)\n",
    "loss = tf.reduce_sum(tf.square(y-t))"
   ]
  },
  {
   "cell_type": "code",
   "execution_count": 8,
   "metadata": {
    "collapsed": true
   },
   "outputs": [],
   "source": [
    "# トレーニングアルゴリズムを定義\n",
    "train_step = tf.train.AdamOptimizer().minimize(loss)"
   ]
  },
  {
   "cell_type": "code",
   "execution_count": 9,
   "metadata": {
    "collapsed": false
   },
   "outputs": [
    {
     "name": "stdout",
     "output_type": "stream",
     "text": [
      "Step: 10000, Loss: 44.455662\n",
      "Step: 20000, Loss: 29.294525\n",
      "Step: 30000, Loss: 28.326700\n",
      "Step: 40000, Loss: 26.860645\n",
      "Step: 50000, Loss: 25.776461\n",
      "Step: 60000, Loss: 25.434757\n",
      "Step: 70000, Loss: 23.839941\n",
      "Step: 80000, Loss: 23.564959\n",
      "Step: 90000, Loss: 22.179653\n",
      "Step: 100000, Loss: 21.439978\n"
     ]
    }
   ],
   "source": [
    "# トレーニングの実行\n",
    "sess = tf.Session()\n",
    "sess.run(tf.initialize_all_variables()) # 変数の初期化\n",
    "\n",
    "i = 0\n",
    "for _ in range(100000):\n",
    "    i += 1\n",
    "    sess.run(train_step, feed_dict={ x: train_x, t: train_t })\n",
    "    if i % 10000 == 0:\n",
    "        loss_val = sess.run(loss, feed_dict={ x: train_x, t: train_t })\n",
    "        print('Step: %d, Loss: %f' % (i, loss_val))"
   ]
  },
  {
   "cell_type": "code",
   "execution_count": 10,
   "metadata": {
    "collapsed": false
   },
   "outputs": [
    {
     "name": "stdout",
     "output_type": "stream",
     "text": [
      "w_val: [[ 3.76339936]\n",
      " [-1.58825648]\n",
      " [ 1.78468168]\n",
      " [-0.2011665 ]\n",
      " [ 0.00536037]]\n"
     ]
    }
   ],
   "source": [
    "# 学習されたwの値を表示\n",
    "w_val = sess.run(w)\n",
    "print(\"w_val: {0}\".format(w_val))"
   ]
  },
  {
   "cell_type": "code",
   "execution_count": 11,
   "metadata": {
    "collapsed": true
   },
   "outputs": [],
   "source": [
    "# 予想気温を計算する\n",
    "def predict(x):\n",
    "    result = 0.0\n",
    "    for n in range(0, 5):\n",
    "        result += w_val[n][0] * x**n\n",
    "    return result"
   ]
  },
  {
   "cell_type": "code",
   "execution_count": 12,
   "metadata": {
    "collapsed": false
   },
   "outputs": [
    {
     "data": {
      "image/png": "[encoded data removed]",
      "text/plain": [
       "<matplotlib.figure.Figure at 0x11a1acbe0>"
      ]
     },
     "metadata": {},
     "output_type": "display_data"
    }
   ],
   "source": [
    "# グラフに表示\n",
    "fig = plt.figure()\n",
    "subplot = fig.add_subplot(1, 1, 1)\n",
    "subplot.set_xlim(1, 12)\n",
    "subplot.scatter(range(1, 13), train_t)\n",
    "linex = np.linspace(1, 12, 100)\n",
    "liney = predict(linex)\n",
    "subplot.plot(linex, liney)\n",
    "plt.show()"
   ]
  }
 ],
 "metadata": {
  "kernelspec": {
   "display_name": "Python 3",
   "language": "python",
   "name": "python3"
  },
  "language_info": {
   "codemirror_mode": {
    "name": "ipython",
    "version": 3
   },
   "file_extension": ".py",
   "mimetype": "text/x-python",
   "name": "python",
   "nbconvert_exporter": "python",
   "pygments_lexer": "ipython3",
   "version": "3.4.5"
  }
 },
 "nbformat": 4,
 "nbformat_minor": 1
}
