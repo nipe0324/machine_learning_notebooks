{
 "cells": [
  {
   "cell_type": "markdown",
   "metadata": {},
   "source": [
    "最尤推定法で解く"
   ]
  },
  {
   "cell_type": "code",
   "execution_count": 1,
   "metadata": {
    "collapsed": true
   },
   "outputs": [],
   "source": [
    "# モジュールのインポート\n",
    "import tensorflow as tf\n",
    "import numpy as np\n",
    "from numpy.random import multivariate_normal, permutation\n",
    "import pandas as pd\n",
    "from pandas import DataFrame, Series\n",
    "import matplotlib.pyplot as plt\n",
    "%matplotlib inline"
   ]
  },
  {
   "cell_type": "code",
   "execution_count": 6,
   "metadata": {
    "collapsed": false
   },
   "outputs": [
    {
     "data": {
      "text/html": [
       "<div>\n",
       "<table border=\"1\" class=\"dataframe\">\n",
       "  <thead>\n",
       "    <tr style=\"text-align: right;\">\n",
       "      <th></th>\n",
       "      <th>x1</th>\n",
       "      <th>x2</th>\n",
       "      <th>t</th>\n",
       "    </tr>\n",
       "  </thead>\n",
       "  <tbody>\n",
       "    <tr>\n",
       "      <th>0</th>\n",
       "      <td>17.291905</td>\n",
       "      <td>11.079403</td>\n",
       "      <td>1</td>\n",
       "    </tr>\n",
       "    <tr>\n",
       "      <th>1</th>\n",
       "      <td>14.797327</td>\n",
       "      <td>22.166607</td>\n",
       "      <td>1</td>\n",
       "    </tr>\n",
       "    <tr>\n",
       "      <th>2</th>\n",
       "      <td>6.237765</td>\n",
       "      <td>5.182638</td>\n",
       "      <td>0</td>\n",
       "    </tr>\n",
       "    <tr>\n",
       "      <th>3</th>\n",
       "      <td>15.672788</td>\n",
       "      <td>6.407136</td>\n",
       "      <td>0</td>\n",
       "    </tr>\n",
       "    <tr>\n",
       "      <th>4</th>\n",
       "      <td>9.845398</td>\n",
       "      <td>16.633674</td>\n",
       "      <td>0</td>\n",
       "    </tr>\n",
       "  </tbody>\n",
       "</table>\n",
       "</div>"
      ],
      "text/plain": [
       "          x1         x2  t\n",
       "0  17.291905  11.079403  1\n",
       "1  14.797327  22.166607  1\n",
       "2   6.237765   5.182638  0\n",
       "3  15.672788   6.407136  0\n",
       "4   9.845398  16.633674  0"
      ]
     },
     "execution_count": 6,
     "metadata": {},
     "output_type": "execute_result"
    }
   ],
   "source": [
    "# トレーニングデータの作成\n",
    "np.random.seed(20161001)\n",
    "\n",
    "n0, mu0, variance0 = 20, [10, 11], 20\n",
    "data0 = multivariate_normal(mu0, np.eye(2) * variance0, n0)\n",
    "df0 = DataFrame(data0, columns=['x1', 'x2'])\n",
    "df0['t'] = 0\n",
    "\n",
    "n1, mu1, variance1 = 15, [18, 20], 22\n",
    "data1 = multivariate_normal(mu1, np.eye(2) * variance1, n1)\n",
    "df1 = DataFrame(data1, columns=['x1', 'x2'])\n",
    "df1['t'] = 1\n",
    "\n",
    "df = pd.concat([df0, df1], ignore_index=True)\n",
    "train_set = df.reindex(permutation(df.index)).reset_index(drop=True)\n",
    "train_set.head()"
   ]
  },
  {
   "cell_type": "code",
   "execution_count": 62,
   "metadata": {
    "collapsed": false
   },
   "outputs": [
    {
     "data": {
      "image/png": "[encoded data removed]",
      "text/plain": [
       "<matplotlib.figure.Figure at 0x10cbebb38>"
      ]
     },
     "metadata": {},
     "output_type": "display_data"
    }
   ],
   "source": [
    "# トレーニングセットをグラフにプロット\n",
    "train_set_true  = train_set[train_set['t'] == 1]\n",
    "train_set_false = train_set[train_set['t'] == 0]\n",
    "plt.figure(figsize=(4, 4))\n",
    "plt.scatter(train_set_true['x1'],  train_set_true['x2'], marker='x', color='red', label='true')\n",
    "plt.scatter(train_set_false['x1'], train_set_false['x2'], marker='o', color='blue', label='false')\n",
    "plt.xlim([0, 30])\n",
    "plt.ylim([0, 30])\n",
    "plt.legend(loc='upper left')\n",
    "plt.show()"
   ]
  },
  {
   "cell_type": "code",
   "execution_count": 32,
   "metadata": {
    "collapsed": false
   },
   "outputs": [],
   "source": [
    "# DataFrameからnumpyの行列に変換する\n",
    "train_x = train_set[['x1', 'x2']].as_matrix() # 35x2\n",
    "train_t = train_set['t'].as_matrix().reshape([len(train_set), 1]) # 35x1"
   ]
  },
  {
   "cell_type": "code",
   "execution_count": 35,
   "metadata": {
    "collapsed": true
   },
   "outputs": [],
   "source": [
    "# 確率を求める計算の定義\n",
    "x = tf.placeholder(tf.float32, [None, 2])\n",
    "w = tf.Variable(tf.zeros([2, 1])) \n",
    "w0 = tf.Variable(tf.zeros([1]))\n",
    "f = tf.matmul(x, w) + w0 # 境界曲線の関数 f(x1, x2) = w0 + w1x1 + w2x2\n",
    "p = tf.sigmoid(f) # sigmoid関数により確率を計算する"
   ]
  },
  {
   "cell_type": "code",
   "execution_count": 36,
   "metadata": {
    "collapsed": true
   },
   "outputs": [],
   "source": [
    "# コスト関数とOptimizerの定義\n",
    "t = tf.placeholder(tf.float32, [None, 1])\n",
    "loss = -tf.reduce_sum(t*tf.log(p) + (1-t)*tf.log(1-p))\n",
    "train_step = tf.train.AdamOptimizer().minimize(loss)"
   ]
  },
  {
   "cell_type": "code",
   "execution_count": 37,
   "metadata": {
    "collapsed": true
   },
   "outputs": [],
   "source": [
    "# 精度を求める計算式を定義\n",
    "correct_prediction = tf.equal(tf.sign(p-0.5), tf.sign(t-0.5)) # 0.5を閾値にしてt=1, t=0に分類\n",
    "accuracy= tf.reduce_mean(tf.cast(correct_prediction, tf.float32))"
   ]
  },
  {
   "cell_type": "code",
   "execution_count": 45,
   "metadata": {
    "collapsed": false
   },
   "outputs": [
    {
     "name": "stdout",
     "output_type": "stream",
     "text": [
      "Step: 2000, Loss: 16.021585, Accuracy: 0.857143\n",
      "Step: 4000, Loss: 11.882525, Accuracy: 0.914286\n",
      "Step: 6000, Loss: 9.332165, Accuracy: 0.971429\n",
      "Step: 8000, Loss: 7.628241, Accuracy: 0.971429\n",
      "Step: 10000, Loss: 6.420859, Accuracy: 0.971429\n",
      "Step: 12000, Loss: 5.527418, Accuracy: 0.971429\n",
      "Step: 14000, Loss: 4.844721, Accuracy: 0.971429\n",
      "Step: 16000, Loss: 4.310424, Accuracy: 0.971429\n",
      "Step: 18000, Loss: 3.884394, Accuracy: 0.971429\n",
      "Step: 20000, Loss: 3.539386, Accuracy: 0.971429\n"
     ]
    }
   ],
   "source": [
    "# トレーニング開始\n",
    "sess = tf.Session()\n",
    "sess.run(tf.initialize_all_variables())\n",
    "i = 0\n",
    "for _ in range(20000): # 20万回トレーニング\n",
    "    i += 1\n",
    "    sess.run(train_step, feed_dict={ x: train_x, t: train_t })\n",
    "    \n",
    "    # 2,000回ごとに途中結果を表示\n",
    "    if i % 2000 == 0:\n",
    "        loss_val, acc_val = sess.run([loss, accuracy], feed_dict={ x: train_x, t: train_t })\n",
    "        print('Step: %d, Loss: %f, Accuracy: %f' % (i, loss_val, acc_val))"
   ]
  },
  {
   "cell_type": "code",
   "execution_count": 51,
   "metadata": {
    "collapsed": false
   },
   "outputs": [
    {
     "name": "stdout",
     "output_type": "stream",
     "text": [
      "-16.6487 0.664762 0.459337\n"
     ]
    }
   ],
   "source": [
    "# ハイパーパラメータの値を取得\n",
    "w0_val, w_val = sess.run([w0, w])\n",
    "w0_val, w1_val, w2_val = w0_val[0], w_val[0][0], w_val[1][0]\n",
    "print(w0_val, w1_val, w2_val)"
   ]
  },
  {
   "cell_type": "code",
   "execution_count": 64,
   "metadata": {
    "collapsed": false
   },
   "outputs": [
    {
     "data": {
      "image/png": "[encoded data removed]",
      "text/plain": [
       "<matplotlib.figure.Figure at 0x10cf89208>"
      ]
     },
     "metadata": {},
     "output_type": "display_data"
    }
   ],
   "source": [
    "# 結果をグラフに表示\n",
    "plt.figure(figsize=(4,4))\n",
    "plt.xlim([0, 30])\n",
    "plt.ylim([0, 30])\n",
    "plt.scatter(train_set_true['x1'],  train_set_true['x2'], marker='x', color='red', label='true')\n",
    "plt.scatter(train_set_false['x1'], train_set_false['x2'], marker='o', color='blue', label='false')\n",
    "\n",
    "linex = np.linspace(0, 30, 10)\n",
    "liney = - (w1_val * linex / w2_val + w0_val / w2_val)\n",
    "plt.plot(linex, liney)\n",
    "plt.show()"
   ]
  }
 ],
 "metadata": {
  "kernelspec": {
   "display_name": "Python 3",
   "language": "python",
   "name": "python3"
  },
  "language_info": {
   "codemirror_mode": {
    "name": "ipython",
    "version": 3
   },
   "file_extension": ".py",
   "mimetype": "text/x-python",
   "name": "python",
   "nbconvert_exporter": "python",
   "pygments_lexer": "ipython3",
   "version": "3.5.1"
  }
 },
 "nbformat": 4,
 "nbformat_minor": 1
}
