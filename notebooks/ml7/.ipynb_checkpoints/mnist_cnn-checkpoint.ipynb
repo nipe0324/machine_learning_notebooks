{
 "cells": [
  {
   "cell_type": "markdown",
   "metadata": {},
   "source": [
    "# CNNでMNIST\n",
    "\n",
    "認識精度: 98%\n",
    "\n",
    "モデル: Input => Conv1 => ReLU => Max Pooling 1\n",
    "                 => Conv2 => ReLU => Max Pooling 2\n",
    "                 => Full Connected Layer 1 => Dropout => Softmax"
   ]
  },
  {
   "cell_type": "code",
   "execution_count": 1,
   "metadata": {
    "collapsed": true
   },
   "outputs": [],
   "source": [
    "# ライブラリ読み込み\n",
    "from __future__ import absolute_import\n",
    "from __future__ import division\n",
    "from __future__ import print_function\n",
    "\n",
    "import tensorflow as tf"
   ]
  },
  {
   "cell_type": "code",
   "execution_count": 2,
   "metadata": {
    "collapsed": false
   },
   "outputs": [
    {
     "name": "stdout",
     "output_type": "stream",
     "text": [
      "Extracting /tmp/mnist/train-images-idx3-ubyte.gz\n",
      "Extracting /tmp/mnist/train-labels-idx1-ubyte.gz\n",
      "Extracting /tmp/mnist/t10k-images-idx3-ubyte.gz\n",
      "Extracting /tmp/mnist/t10k-labels-idx1-ubyte.gz\n"
     ]
    }
   ],
   "source": [
    "# データ読み込み\n",
    "from tensorflow.examples.tutorials.mnist import input_data\n",
    "mnist = input_data.read_data_sets('/tmp/mnist', one_hot=True)"
   ]
  },
  {
   "cell_type": "code",
   "execution_count": 3,
   "metadata": {
    "collapsed": true
   },
   "outputs": [],
   "source": [
    "# 重みwとバイアスbの初期化関数\n",
    "def weight_variable(shape):\n",
    "    initial = tf.truncated_normal(shape, stddev=0.1)\n",
    "    return tf.Variable(initial)\n",
    "\n",
    "def bias_variable(shape):\n",
    "    initial = tf.constant(0.1, shape=shape)\n",
    "    return tf.Variable(initial)"
   ]
  },
  {
   "cell_type": "code",
   "execution_count": 4,
   "metadata": {
    "collapsed": true
   },
   "outputs": [],
   "source": [
    "# 畳み込み層とプーリング層の関数\n",
    "def conv2d(x, W):\n",
    "    return tf.nn.conv2d(x, W, strides=[1, 1, 1, 1], padding='SAME')\n",
    "\n",
    "def max_pool_2x2(x):\n",
    "    return tf.nn.max_pool(x, ksize=[1, 2, 2, 1],\n",
    "                                           strides=[1, 2, 2, 1], padding='SAME')"
   ]
  },
  {
   "cell_type": "code",
   "execution_count": 5,
   "metadata": {
    "collapsed": true
   },
   "outputs": [],
   "source": [
    "# モデルの作成\n",
    "x = tf.placeholder(tf.float32, [None, 784]) # 入力値 Noneはバッチサイズによって実行時に指定\n",
    "y_ = tf.placeholder(tf.float32, [None, 10]) # 正解ラベル\n",
    "\n",
    "# 784x1の入力値を、縦28x横28xチャネル1の行列に変換\n",
    "x_image = tf.reshape(x, [-1,28,28,1]) \n",
    "\n",
    "# conv1\n",
    "W_conv1 = weight_variable([5, 5, 1, 32]) # 縦5x横5xチャネル1のフィルターが32個\n",
    "b_conv1 = bias_variable([32])\n",
    "\n",
    "h_conv1 = tf.nn.relu(conv2d(x_image, W_conv1) + b_conv1)\n",
    "h_pool1 = max_pool_2x2(h_conv1)\n",
    "\n",
    "# conv2\n",
    "W_conv2 = weight_variable([5, 5, 32, 64]) # 縦5x横5xチャネル32のフィルターが64個\n",
    "b_conv2 = bias_variable([64])\n",
    "\n",
    "h_conv2 = tf.nn.relu(conv2d(h_pool1, W_conv2) + b_conv2)\n",
    "h_pool2 = max_pool_2x2(h_conv2)\n",
    "\n",
    "# fc1\n",
    "W_fc1 = weight_variable([7 * 7 * 64, 1024])\n",
    "b_fc1 = bias_variable([1024])\n",
    "\n",
    "h_pool2_flat = tf.reshape(h_pool2, [-1, 7*7*64])\n",
    "h_fc1 = tf.nn.relu(tf.matmul(h_pool2_flat, W_fc1) + b_fc1)\n",
    "\n",
    "# dropout\n",
    "keep_prob = tf.placeholder(tf.float32)\n",
    "h_fc1_drop = tf.nn.dropout(h_fc1, keep_prob)\n",
    "\n",
    "# softmax\n",
    "W_fc2 = weight_variable([1024, 10])\n",
    "b_fc2 = bias_variable([10])\n",
    "\n",
    "y_conv = tf.matmul(h_fc1_drop, W_fc2) + b_fc2"
   ]
  },
  {
   "cell_type": "code",
   "execution_count": 6,
   "metadata": {
    "collapsed": false
   },
   "outputs": [],
   "source": [
    "# 損失関数\n",
    "#cross_entropy = tf.reduce_mean(tf.nn.softmax_cross_entropy_with_logits(y, y_))\n",
    "cross_entropy = tf.reduce_mean(tf.nn.softmax_cross_entropy_with_logits(y_conv, y_))"
   ]
  },
  {
   "cell_type": "code",
   "execution_count": 7,
   "metadata": {
    "collapsed": true
   },
   "outputs": [],
   "source": [
    "# 最適化関数 Adam、Learning Rate 0.0001、損失関数 cross_entropy\n",
    "#train_step = tf.train.GradientDescentOptimizer(0.5).minimize(cross_entropy)\n",
    "train_step = tf.train.AdamOptimizer(1e-4).minimize(cross_entropy)"
   ]
  },
  {
   "cell_type": "code",
   "execution_count": 8,
   "metadata": {
    "collapsed": true
   },
   "outputs": [],
   "source": [
    "# 精度の計算式\n",
    "correct_prediction = tf.equal(tf.argmax(y_conv,1), tf.argmax(y_,1))\n",
    "accuracy = tf.reduce_mean(tf.cast(correct_prediction, tf.float32))"
   ]
  },
  {
   "cell_type": "code",
   "execution_count": 9,
   "metadata": {
    "collapsed": false
   },
   "outputs": [
    {
     "name": "stdout",
     "output_type": "stream",
     "text": [
      "step    0, loss = 14.52, train acc = 0.060 , cv acc = 0.109\n",
      "step  100, loss = 0.83, train acc = 0.720 , cv acc = 0.873\n",
      "step  200, loss = 0.53, train acc = 0.810 , cv acc = 0.915\n",
      "step  300, loss = 0.34, train acc = 0.900 , cv acc = 0.934\n",
      "step  400, loss = 0.52, train acc = 0.820 , cv acc = 0.944\n",
      "step  500, loss = 0.16, train acc = 0.940 , cv acc = 0.953\n",
      "step  600, loss = 0.21, train acc = 0.920 , cv acc = 0.956\n",
      "step  700, loss = 0.28, train acc = 0.900 , cv acc = 0.960\n",
      "step  800, loss = 0.30, train acc = 0.900 , cv acc = 0.967\n",
      "step  900, loss = 0.16, train acc = 0.950 , cv acc = 0.967\n",
      "step 1000, loss = 0.18, train acc = 0.940 , cv acc = 0.971\n",
      "step 1100, loss = 0.10, train acc = 0.950 , cv acc = 0.970\n",
      "step 1200, loss = 0.14, train acc = 0.970 , cv acc = 0.974\n",
      "step 1300, loss = 0.11, train acc = 0.970 , cv acc = 0.973\n",
      "step 1400, loss = 0.12, train acc = 0.970 , cv acc = 0.975\n",
      "step 1500, loss = 0.12, train acc = 0.950 , cv acc = 0.977\n",
      "step 1600, loss = 0.07, train acc = 0.980 , cv acc = 0.977\n",
      "step 1700, loss = 0.09, train acc = 0.970 , cv acc = 0.979\n",
      "step 1800, loss = 0.19, train acc = 0.930 , cv acc = 0.979\n",
      "step 1900, loss = 0.06, train acc = 0.980 , cv acc = 0.978\n",
      "test acc 0.9796\n"
     ]
    }
   ],
   "source": [
    "# トレーニングの実施\n",
    "with tf.Session() as sess:\n",
    "    sess.run(tf.initialize_all_variables()) # 変数の初期化（おまじない）\n",
    "    \n",
    "    for step in range(2000): # 2,000回トレーニングを実施\n",
    "        batch_xs, batch_ys = mnist.train.next_batch(100) # バッチサイズ 100\n",
    "        _, loss_value, train_acc = sess.run([train_step, cross_entropy, accuracy],\n",
    "                feed_dict={x: batch_xs, y_: batch_ys, keep_prob: 0.5 }) # placeholderに値セット\n",
    "\n",
    "        # 進捗を表示\n",
    "        if step %100 == 0:\n",
    "            cv_acc = sess.run(accuracy, feed_dict={\n",
    "                    x: mnist.validation.images, y_: mnist.validation.labels, keep_prob: 1.0 })\n",
    "            print('step %4d, loss = %.2f, train acc = %.3f , cv acc = %.3f' % (\n",
    "                    step, loss_value, train_acc, cv_acc))\n",
    "    \n",
    "    print(\"test acc %g\"%accuracy.eval(feed_dict={\n",
    "                x: mnist.test.images, y_: mnist.test.labels, keep_prob: 1.0}))"
   ]
  }
 ],
 "metadata": {
  "kernelspec": {
   "display_name": "Python 3",
   "language": "python",
   "name": "python3"
  },
  "language_info": {
   "codemirror_mode": {
    "name": "ipython",
    "version": 3
   },
   "file_extension": ".py",
   "mimetype": "text/x-python",
   "name": "python",
   "nbconvert_exporter": "python",
   "pygments_lexer": "ipython3",
   "version": "3.5.1"
  }
 },
 "nbformat": 4,
 "nbformat_minor": 1
}
