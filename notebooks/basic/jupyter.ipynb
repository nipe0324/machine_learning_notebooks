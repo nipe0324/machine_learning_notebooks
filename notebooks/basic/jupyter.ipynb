{
 "cells": [
  {
   "cell_type": "code",
   "execution_count": null,
   "metadata": {
    "collapsed": true
   },
   "outputs": [],
   "source": [
    "# Disable to display warning on jupyter \n",
    "# https://gist.github.com/sono-bfio/973226daf7bc51c8e538cde66de12d77\n",
    "    \n",
    "mkdir -p ~/.jupyter/custom\n",
    "touch ~/.jupyter/custom/startup.py\n",
    "\n",
    "<content>\n",
    "import warnings:\n",
    "warnings.filterwarnings('ignore')\n",
    "\n",
    "sudo service ipython-notebook restart"
   ]
  }
 ],
 "metadata": {
  "kernelspec": {
   "display_name": "Python 3",
   "language": "python",
   "name": "python3"
  },
  "language_info": {
   "codemirror_mode": {
    "name": "ipython",
    "version": 3
   },
   "file_extension": ".py",
   "mimetype": "text/x-python",
   "name": "python",
   "nbconvert_exporter": "python",
   "pygments_lexer": "ipython3",
   "version": "3.4.5"
  }
 },
 "nbformat": 4,
 "nbformat_minor": 1
}
