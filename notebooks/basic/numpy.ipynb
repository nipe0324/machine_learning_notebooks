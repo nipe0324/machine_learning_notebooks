{
 "cells": [
  {
   "cell_type": "markdown",
   "metadata": {},
   "source": [
    "## NumPy\n",
    "\n",
    "配列や行列計算などの数値計算を行うためのライブラリ。\n",
    "裏ではC++で実装されているので早い（たぶん）"
   ]
  },
  {
   "cell_type": "code",
   "execution_count": 1,
   "metadata": {
    "collapsed": true
   },
   "outputs": [],
   "source": [
    "# numpyのインポート (numpy を np　と言う名前で読み込む) \n",
    "import numpy as np"
   ]
  },
  {
   "cell_type": "code",
   "execution_count": 3,
   "metadata": {
    "collapsed": false
   },
   "outputs": [
    {
     "name": "stdout",
     "output_type": "stream",
     "text": [
      "x + y: [ 3.  6.  9.]\n",
      "x - y: [-1. -2. -3.]\n",
      "x * y: [  2.   8.  18.]\n",
      "x / y: [ 0.5  0.5  0.5]\n",
      "x * 2: [ 2.  4.  6.]\n"
     ]
    }
   ],
   "source": [
    "# NumPy配列の生成\n",
    "x = np.array([1.0, 2.0, 3.0])\n",
    "y = np.array([2.0, 4.0, 6.0])\n",
    "print('x + y:', x + y ) # 要素ごとの足し算\n",
    "print('x - y:', x - y ) # 要素ごとの引き算\n",
    "print('x * y:', x * y ) # 要素ごとの掛け算\n",
    "print('x / y:', x / y ) # 要素ごとの割り算\n",
    "print('x * 2:', x * 2 ) # スカラー値との計算"
   ]
  },
  {
   "cell_type": "code",
   "execution_count": 8,
   "metadata": {
    "collapsed": false
   },
   "outputs": [
    {
     "name": "stdout",
     "output_type": "stream",
     "text": [
      "A:\n",
      " [[1 2]\n",
      " [3 4]] \n",
      "\n",
      "A.shape: (2, 2)\n",
      "A.dtype: int64\n",
      "A + B:\n",
      " [[ 4  2]\n",
      " [ 3 10]] \n",
      "\n",
      "A * B:\n",
      " [[ 3  0]\n",
      " [ 0 24]]\n"
     ]
    }
   ],
   "source": [
    "# NumPyのN次元配列\n",
    "# 一般に、1次元配列はベクトル、2次元配列は行列、3次元以上の配列はテンソルか多次元配列と言われる\n",
    "A = np.array([ [1, 2], [3, 4] ])\n",
    "print('A:\\n', A, \"\\n\")\n",
    "print('A.shape:',A.shape) # (2, 2) は 2x2 の行列ということを意味する\n",
    "print('A.dtype:',A.dtype)\n",
    "\n",
    "B = np.array([ [3, 0], [0, 6] ])\n",
    "print('A + B:\\n', A + B, \"\\n\")\n",
    "print('A * B:\\n', A * B,)"
   ]
  },
  {
   "cell_type": "code",
   "execution_count": 9,
   "metadata": {
    "collapsed": false
   },
   "outputs": [
    {
     "name": "stdout",
     "output_type": "stream",
     "text": [
      "[[51 55]\n",
      " [14 19]\n",
      " [ 0  4]]\n",
      "[51 55]\n",
      "55\n",
      "[51 55]\n",
      "[14 19]\n",
      "[0 4]\n",
      "[[ True  True]\n",
      " [False  True]\n",
      " [False False]]\n",
      "[51 55 19]\n"
     ]
    }
   ],
   "source": [
    "# 要素へのアクセス\n",
    "X = np.array([ [51, 55], [14, 19], [0, 4] ])\n",
    "print(X)\n",
    "print(X[0]) # 0行目\n",
    "print(X[0][1]) # (0, 1)の要素\n",
    "\n",
    "# 各列へのアクセス\n",
    "for row in X:\n",
    "    print(row)\n",
    "\n",
    "# 特定の条件の要素を取得\n",
    "print( X > 15)\n",
    "print( X[X > 15] )"
   ]
  },
  {
   "cell_type": "code",
   "execution_count": 10,
   "metadata": {
    "collapsed": false
   },
   "outputs": [
    {
     "name": "stdout",
     "output_type": "stream",
     "text": [
      "[[19 22]\n",
      " [43 50]]\n",
      "[ 5 10 17]\n"
     ]
    }
   ],
   "source": [
    "# 行列演算\n",
    "# 内積\n",
    "A = np.array([ [1, 2], [3, 4] ]) # (2, 2)\n",
    "B = np.array([ [5, 6], [7, 8] ]) # (2, 2)\n",
    "print( np.dot(A, B) )\n",
    "\n",
    "# ニューラルネットワークの内積\n",
    "X = np.array([1, 2]) # 入力値 (2,)\n",
    "W = np.array([ [1, 2, 5], [2, 4, 6] ]) # 重み (2, 3)\n",
    "print( np.dot(X, W) ) # 出力値 (3,)"
   ]
  },
  {
   "cell_type": "markdown",
   "metadata": {},
   "source": [
    "## 便利メソッド"
   ]
  },
  {
   "cell_type": "code",
   "execution_count": 11,
   "metadata": {
    "collapsed": false
   },
   "outputs": [
    {
     "data": {
      "text/plain": [
       "array([ 1. ,  1.1,  1.2,  1.3,  1.4,  1.5,  1.6,  1.7,  1.8,  1.9])"
      ]
     },
     "execution_count": 11,
     "metadata": {},
     "output_type": "execute_result"
    }
   ],
   "source": [
    "# arange(from, to, interval): from〜toまでをinterval刻みにした配列を作成\n",
    "np.arange(1, 2, 0.1)"
   ]
  },
  {
   "cell_type": "code",
   "execution_count": 13,
   "metadata": {
    "collapsed": false
   },
   "outputs": [
    {
     "data": {
      "text/plain": [
       "2"
      ]
     },
     "execution_count": 13,
     "metadata": {},
     "output_type": "execute_result"
    }
   ],
   "source": [
    "# argmax: 元も確率の高い要素のインデックスを取得\n",
    "# (Softmaxの出力をOne Hotベクトルに変換するときなどに使用)\n",
    "p = [0.2, 0.1, 0.3, 0.1, 0.2, 0.1]\n",
    "np.argmax(p)"
   ]
  },
  {
   "cell_type": "code",
   "execution_count": 14,
   "metadata": {
    "collapsed": false
   },
   "outputs": [
    {
     "data": {
      "text/plain": [
       "array([31, 82, 51, 56, 34])"
      ]
     },
     "execution_count": 14,
     "metadata": {},
     "output_type": "execute_result"
    }
   ],
   "source": [
    "# choice: ランダム値を取得\n",
    "# (ミニバッチのデータ取得などに使用)\n",
    "np.random.choice(100, 5) # 0〜99の間からランダムに5つデータを取得\n",
    "\n",
    "# 次のようにすれば、5つだけのミニバッチを作成できる\n",
    "# X_mini = X[np.random.choice(100, 5)] "
   ]
  },
  {
   "cell_type": "code",
   "execution_count": 16,
   "metadata": {
    "collapsed": false
   },
   "outputs": [
    {
     "data": {
      "text/plain": [
       "array([-0.86695341, -0.05363151,  0.54694436, -0.21320089,  0.48103334])"
      ]
     },
     "execution_count": 16,
     "metadata": {},
     "output_type": "execute_result"
    }
   ],
   "source": [
    "# randn: ガウス分布のデータを返す\n",
    "# (重みの初期値とかに利用)\n",
    "rand = np.random\n",
    "rand.randn(5)"
   ]
  }
 ],
 "metadata": {
  "kernelspec": {
   "display_name": "Python 3",
   "language": "python",
   "name": "python3"
  },
  "language_info": {
   "codemirror_mode": {
    "name": "ipython",
    "version": 3
   },
   "file_extension": ".py",
   "mimetype": "text/x-python",
   "name": "python",
   "nbconvert_exporter": "python",
   "pygments_lexer": "ipython3",
   "version": "3.5.1"
  }
 },
 "nbformat": 4,
 "nbformat_minor": 1
}
