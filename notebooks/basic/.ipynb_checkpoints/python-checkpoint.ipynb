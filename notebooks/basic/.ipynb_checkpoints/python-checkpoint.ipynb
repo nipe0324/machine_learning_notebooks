{
 "cells": [
  {
   "cell_type": "markdown",
   "metadata": {},
   "source": [
    "# Python 3 基礎\n",
    "\n",
    "機械学習系で使う関数を中心に"
   ]
  },
  {
   "cell_type": "code",
   "execution_count": 1,
   "metadata": {
    "collapsed": false
   },
   "outputs": [
    {
     "name": "stdout",
     "output_type": "stream",
     "text": [
      "3\n",
      "-1\n",
      "20\n",
      "1.4\n",
      "9\n"
     ]
    }
   ],
   "source": [
    "# 算術計算\n",
    "print(1 + 2)\n",
    "print(1 - 2)\n",
    "print(4 * 5)\n",
    "print(7 / 5)\n",
    "print(3 ** 2) # 乗算"
   ]
  },
  {
   "cell_type": "code",
   "execution_count": 10,
   "metadata": {
    "collapsed": false
   },
   "outputs": [
    {
     "name": "stdout",
     "output_type": "stream",
     "text": [
      "<class 'int'>\n",
      "<class 'float'>\n",
      "<class 'str'>\n",
      "<class 'list'>\n",
      "<class 'dict'>\n",
      "<class 'bool'>\n"
     ]
    }
   ],
   "source": [
    "# データ型\n",
    "# typeメソッドでデータの型を知らべることができます。\n",
    "print( type(10) )\n",
    "print( type(1.1) )\n",
    "print( type('str') )\n",
    "print( type([1, 2, 3]) )\n",
    "print( type({ 'a': 5, 'b': 6 }))\n",
    "print( type(True) )"
   ]
  },
  {
   "cell_type": "code",
   "execution_count": 4,
   "metadata": {
    "collapsed": false
   },
   "outputs": [
    {
     "name": "stdout",
     "output_type": "stream",
     "text": [
      "10\n",
      "15\n"
     ]
    }
   ],
   "source": [
    "# 変数\n",
    "x = 10 # 初期化\n",
    "print(x)\n",
    "\n",
    "x = 15 # 代入\n",
    "print(x)"
   ]
  },
  {
   "cell_type": "code",
   "execution_count": 8,
   "metadata": {
    "collapsed": false
   },
   "outputs": [
    {
     "name": "stdout",
     "output_type": "stream",
     "text": [
      "[1, 2, 3, 4, 5]\n",
      "4\n",
      "[3, 4, 5]\n",
      "[3, 4]\n"
     ]
    }
   ],
   "source": [
    "# リスト(配列)\n",
    "a = [1, 2, 3, 4, 5]\n",
    "print(a)\n",
    "\n",
    "# 4番目の要素にアクセス\n",
    "print(a[3])\n",
    "\n",
    "# 3番目から最後までの要素を取得\n",
    "print(a[2:])\n",
    "\n",
    "# 特定範囲を取得\n",
    "print(a[2:4])"
   ]
  },
  {
   "cell_type": "code",
   "execution_count": 12,
   "metadata": {
    "collapsed": false
   },
   "outputs": [
    {
     "name": "stdout",
     "output_type": "stream",
     "text": [
      "100\n",
      "50\n"
     ]
    }
   ],
   "source": [
    "# ディクショナリ (キーと値のペア)\n",
    "\n",
    "# ディクショナリの作成\n",
    "h = { 'height': 100 }\n",
    "\n",
    "# 値の表示\n",
    "print( h['height'] )\n",
    "\n",
    "# 値の設定\n",
    "h['height'] = 50\n",
    "print( h['height'] )"
   ]
  },
  {
   "cell_type": "code",
   "execution_count": 13,
   "metadata": {
    "collapsed": false
   },
   "outputs": [
    {
     "name": "stdout",
     "output_type": "stream",
     "text": [
      "<class 'bool'>\n",
      "False\n",
      "True\n"
     ]
    }
   ],
   "source": [
    "# ブーリアン型\n",
    "hungry = True\n",
    "sleepy = False\n",
    "print( type(hungry) )\n",
    "print( sleepy )\n",
    "\n",
    "print( hungry or sleepy )"
   ]
  },
  {
   "cell_type": "code",
   "execution_count": 14,
   "metadata": {
    "collapsed": false
   },
   "outputs": [
    {
     "name": "stdout",
     "output_type": "stream",
     "text": [
      "I'm hungry\n"
     ]
    }
   ],
   "source": [
    "#  if文\n",
    "hungry = True\n",
    "if hungry:\n",
    "    print(\"I'm hungry\")"
   ]
  },
  {
   "cell_type": "code",
   "execution_count": 15,
   "metadata": {
    "collapsed": false
   },
   "outputs": [
    {
     "name": "stdout",
     "output_type": "stream",
     "text": [
      "1\n",
      "2\n",
      "3\n"
     ]
    }
   ],
   "source": [
    "# for文\n",
    "for i in [1, 2, 3]:\n",
    "    print(i)"
   ]
  },
  {
   "cell_type": "code",
   "execution_count": 17,
   "metadata": {
    "collapsed": false
   },
   "outputs": [
    {
     "name": "stdout",
     "output_type": "stream",
     "text": [
      "Hello tom!\n",
      "Hello bob!\n"
     ]
    }
   ],
   "source": [
    "# 関数\n",
    "def hello(name=\"tom\"):\n",
    "    print(\"Hello \" + name + \"!\")\n",
    "\n",
    "hello()\n",
    "hello(\"bob\")"
   ]
  },
  {
   "cell_type": "code",
   "execution_count": 18,
   "metadata": {
    "collapsed": false
   },
   "outputs": [
    {
     "name": "stdout",
     "output_type": "stream",
     "text": [
      "Initialized Person\n",
      "Tom starts to wark\n"
     ]
    }
   ],
   "source": [
    "# クラス\n",
    "# __init__がコンストラクタ\n",
    "# selfを明示的に書く必要がある\n",
    "class Person:\n",
    "    def __init__(self, name):\n",
    "        self.name = name\n",
    "        print(\"Initialized Person\")\n",
    "        \n",
    "    def walk(self):\n",
    "        print(self.name + \" starts to wark\")\n",
    "        \n",
    "tom = Person(\"Tom\")\n",
    "tom.walk()"
   ]
  },
  {
   "cell_type": "markdown",
   "metadata": {},
   "source": [
    "## よく使うメソッド"
   ]
  },
  {
   "cell_type": "code",
   "execution_count": 23,
   "metadata": {
    "collapsed": false
   },
   "outputs": [
    {
     "name": "stdout",
     "output_type": "stream",
     "text": [
      "[0, 1, 2, 3, 4, 5, 6, 7, 8, 9]\n",
      "[4, 5, 6, 7, 8, 9]\n",
      "[4, 6, 8]\n"
     ]
    }
   ],
   "source": [
    "# range 配列を返す\n",
    "\n",
    "# 0〜9の配列\n",
    "print( list(range(10)) )\n",
    "\n",
    "# 4〜9の配列\n",
    "print( list(range(4, 10)) )\n",
    "\n",
    "# 4〜9の配列を1つ飛ばしで返す\n",
    "print( list(range(4, 10, 2)) )"
   ]
  },
  {
   "cell_type": "code",
   "execution_count": 27,
   "metadata": {
    "collapsed": false
   },
   "outputs": [
    {
     "name": "stdout",
     "output_type": "stream",
     "text": [
      "[(1, 4), (2, 5), (3, 6)]\n",
      "[(1, 4, 7), (2, 5, 8), (3, 6, 9)]\n"
     ]
    }
   ],
   "source": [
    "# zip 要素を結合したイテレータを返す\n",
    "\n",
    "x = [1, 2, 3]\n",
    "y = [4, 5, 6]\n",
    "print( list(zip(x, y)) )\n",
    "\n",
    "z = [7, 8, 9]\n",
    "print( list(zip(x, y, z)) )"
   ]
  }
 ],
 "metadata": {
  "kernelspec": {
   "display_name": "Python 3",
   "language": "python",
   "name": "python3"
  },
  "language_info": {
   "codemirror_mode": {
    "name": "ipython",
    "version": 3
   },
   "file_extension": ".py",
   "mimetype": "text/x-python",
   "name": "python",
   "nbconvert_exporter": "python",
   "pygments_lexer": "ipython3",
   "version": "3.5.1"
  }
 },
 "nbformat": 4,
 "nbformat_minor": 1
}
