{
 "cells": [
  {
   "cell_type": "markdown",
   "metadata": {},
   "source": [
    "# 正規化\n",
    "\n",
    "過学習(overfitting)を防ぐためのテクニック。\n",
    "背景にある考え方は、極端なパラメータの重みにより過学習が起こってしまうので、それらにペナルティを科すための追加情報（バイアス）を導入する。\n",
    "\n",
    "$$\n",
    "\\frac{λ}{2} ||W||^2 = \\frac{λ}{2} \\sum_{j=1}^m w_j^2\n",
    "$$\n",
    "\n",
    "$$\n",
    "\\text{(λは正規化パラメータ)}\n",
    "$$\n",
    "\n",
    "\n",
    "### 留意事項\n",
    "\n",
    "正規化を正常に機能させるためには、すべての特徴量が比較可能な尺度である必要があり、そのために、特徴量のスケジューリングをしておく必要があります。\n"
   ]
  },
  {
   "cell_type": "markdown",
   "metadata": {},
   "source": [
    "## ロジスティック回帰に正規化を適用してみる\n",
    "\n",
    "ロジスティック回帰のコスト関数\n",
    "\n",
    "$$\n",
    "J(W) = \\sum_{i=1}^n [-y ^{(i)} \\log( \\phi( z^{(i)} ) ) - ( 1 - y^{(i)}) \\log ( 1 - \\phi ( z^{(i)})) ]\n",
    "$$\n",
    "\n",
    "正規化されたロジスティック回帰のコスト関数\n",
    "\n",
    "$$\n",
    "J(W) = \\sum_{i=1}^n [-y ^{(i)} \\log( \\phi( z^{(i)} ) ) - ( 1 - y^{(i)}) \\log ( 1 - \\phi ( z^{(i)})) ] + \\frac{λ}{2} \\sum_{j=1}^m w_j^2\n",
    "$$\n",
    "\n",
    "正規化されたロジスティック回帰のコスト関数\n",
    "\n",
    "$$\n",
    "J(W) = C\\sum_{i=1}^n [-y ^{(i)} \\log( \\phi( z^{(i)} ) ) - ( 1 - y^{(i)}) \\log ( 1 - \\phi ( z^{(i)})) ] + \\frac{1}{2} \\sum_{j=1}^m w_j^2\n",
    "$$\n",
    "\n",
    "C は SVMの慣例により、 $ C = \\frac{1}{λ} $ と定義されている\n"
   ]
  },
  {
   "cell_type": "markdown",
   "metadata": {},
   "source": [
    "## 重み係数と逆正規化パラメータCの関係をプロット"
   ]
  },
  {
   "cell_type": "code",
   "execution_count": 1,
   "metadata": {
    "collapsed": false
   },
   "outputs": [],
   "source": [
    "# データの用意\n",
    "import lib\n",
    "X_train_std, X_test_std, y_train, y_test = lib.load_iris_data()"
   ]
  },
  {
   "cell_type": "code",
   "execution_count": 2,
   "metadata": {
    "collapsed": false
   },
   "outputs": [
    {
     "data": {
      "image/png": "[encoded data removed]",
      "text/plain": [
       "<matplotlib.figure.Figure at 0x102085ac8>"
      ]
     },
     "metadata": {},
     "output_type": "display_data"
    }
   ],
   "source": [
    "import numpy as np\n",
    "from sklearn.linear_model import LogisticRegression\n",
    "import matplotlib.pyplot as plt\n",
    "%matplotlib inline\n",
    "\n",
    "# 重み係数と逆正規化パラメータのリストを生成\n",
    "weights, params = [], []\n",
    "\n",
    "# 10個の逆正規化パラメータに対応するロジスティック回帰モデルをそれぞれ処理\n",
    "for c in np.arange(-5, 5):\n",
    "    lr = LogisticRegression(C=10**c, random_state=0)\n",
    "    lr.fit(X_train_std, y_train)\n",
    "    weights.append(lr.coef_[1]) # 重み係数を格納\n",
    "    params.append(10**c) # 逆正規化パラメータを格納\n",
    "    \n",
    "weights = np.array(weights)\n",
    "\n",
    "# 重み係数と逆正規化パラメータの関係をプロット\n",
    "plt.plot(params, weights[:, 0], label='petal length')\n",
    "plt.plot(params, weights[:, 1], linestyle='--', label='petal width')\n",
    "plt.ylabel('weight coefficient')\n",
    "plt.xlabel('C')\n",
    "plt.legend(loc='upper left')\n",
    "plt.xscale('log') # 横軸を対数スケールに設定\n",
    "plt.show()\n",
    "\n",
    "# パラメータCが減少し、正規化の強さが増すと、重み係数が0に近づいていく。"
   ]
  }
 ],
 "metadata": {
  "kernelspec": {
   "display_name": "Python 3",
   "language": "python",
   "name": "python3"
  },
  "language_info": {
   "codemirror_mode": {
    "name": "ipython",
    "version": 3
   },
   "file_extension": ".py",
   "mimetype": "text/x-python",
   "name": "python",
   "nbconvert_exporter": "python",
   "pygments_lexer": "ipython3",
   "version": "3.4.5"
  }
 },
 "nbformat": 4,
 "nbformat_minor": 1
}
