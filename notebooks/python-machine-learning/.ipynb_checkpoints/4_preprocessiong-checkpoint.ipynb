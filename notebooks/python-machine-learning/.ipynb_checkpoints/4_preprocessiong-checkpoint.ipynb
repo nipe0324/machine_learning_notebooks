{
 "cells": [
  {
   "cell_type": "markdown",
   "metadata": {},
   "source": [
    "# データの前処理\n",
    "\n",
    "データの品質と有益な情報のろ油は、機械学習アルゴリズムの学習の効率を決定する上で重要な要因となります。\n",
    "そのため、データセットを精査し、前処理を行うことが重要です。\n",
    "\n",
    "* [データセットにおける欠測値の削除と補完](4_missing_value.ipynb)\n",
    "* [学習アルゴリズムに合わせたデータの整形](4_shape_data.ipynb)\n",
    "* [特徴のスケーリング](4_feature_scaling.ipynb)\n",
    "* モデル構築に適した特徴量の選択\n",
    "  * 逐次後退選択 (SBS: Sequential Backward Selection)\n",
    "  * ランダムフォレスト\n",
    "  * [scikit-learn のサンプル](http://scikit-learn.org/stable/modules/feature_selection.html)\n",
    "* 次元削減"
   ]
  }
 ],
 "metadata": {
  "kernelspec": {
   "display_name": "Python 3",
   "language": "python",
   "name": "python3"
  },
  "language_info": {
   "codemirror_mode": {
    "name": "ipython",
    "version": 3
   },
   "file_extension": ".py",
   "mimetype": "text/x-python",
   "name": "python",
   "nbconvert_exporter": "python",
   "pygments_lexer": "ipython3",
   "version": "3.4.5"
  }
 },
 "nbformat": 4,
 "nbformat_minor": 1
}
