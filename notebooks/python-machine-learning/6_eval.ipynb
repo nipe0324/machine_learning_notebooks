{
 "cells": [
  {
   "cell_type": "markdown",
   "metadata": {},
   "source": [
    "# モデルの評価とチューニング\n",
    "\n",
    "* モデル性能の偏りのない推定量の算出\n",
    "* アルゴリズムに共通する問題の診断\n",
    "* モデルのチューニング方法\n",
    "* 性能指標に基づく予想モデルの評価"
   ]
  }
 ],
 "metadata": {
  "kernelspec": {
   "display_name": "Python 3",
   "language": "python",
   "name": "python3"
  },
  "language_info": {
   "codemirror_mode": {
    "name": "ipython",
    "version": 3
   },
   "file_extension": ".py",
   "mimetype": "text/x-python",
   "name": "python",
   "nbconvert_exporter": "python",
   "pygments_lexer": "ipython3",
   "version": "3.4.5"
  }
 },
 "nbformat": 4,
 "nbformat_minor": 1
}
