{
 "cells": [
  {
   "cell_type": "markdown",
   "metadata": {},
   "source": [
    "## ADALINE (Adaptive Linear Neuron)\n",
    "\n",
    "単一層ニューラルネットワーク。パーセプトロンアルゴリズムの改良とみなすことができるアルゴリズム\n",
    "主な違いは、重みの更新方法が異なる。\n",
    "\n",
    "### 概要\n",
    "\n",
    "```\n",
    "バイアス\n",
    "入力X = 重みW => 総入力関数 Σ => 活性化関数 ==+=> 量子化器 => 出力\n",
    "                                <= (重みの更新) = 誤差 」\n",
    "```\n",
    "\n",
    "* コスト関数J\n",
    "\n",
    "誤差平方和(Sum of Squared Error)\n",
    "J(w) = 1/2 Σ (y - φ(z))^2\n",
    "1/2は便宜上追加したもので、勾配が得やすくなる。\n",
    "このコスト関数は凸関数なので、勾配降下法(gradient descent)を用いて、コスト関数を最小化する重みを見つけれる。\n",
    "\n",
    "* 勾配硬化法\n",
    "コストが大局的最小値に達するまで坂を下るもの。\n",
    "凸関数となっている場合、「傾き = 0」 になる箇所がコスト（誤差）が0ということで大局的最小値ということ。\n",
    "\n",
    "参考: Python機械学習プログラム第2章\n"
   ]
  },
  {
   "cell_type": "markdown",
   "metadata": {},
   "source": [
    "# ADALINEクラスの定義"
   ]
  },
  {
   "cell_type": "code",
   "execution_count": 8,
   "metadata": {
    "collapsed": true
   },
   "outputs": [],
   "source": [
    "import numpy as np\n",
    "\n",
    "class AdalineGD(object):\n",
    "    \"\"\"Adaptive Liner Neuron\"\"\"\n",
    "    def __init__(self, eta=0.01, n_iter=50):\n",
    "        self.eta = eta\n",
    "        self.n_iter = n_iter\n",
    "        \n",
    "    def fit(self, X, y):\n",
    "        \"\"\"トレーニングデータに適合させる\"\"\"\n",
    "        self.w_ = np.zeros(1 + X.shape[1])\n",
    "        self.cost_ = [] # 各エポックごとのコストを格納する配列\n",
    "        for i in range(self.n_iter):\n",
    "            output = self.net_input(X)\n",
    "            errors = (y - output) # 誤差\n",
    "            self.w_[1:] += self.eta * X.T.dot(errors) # wjの更新\n",
    "            self.w_[0] += self.eta * errors.sum() # w0の更新\n",
    "            cost = (errors**2).sum() / 2.0 # コスト関数 J(W) = 1/2Σ(y-φ(z))^2\n",
    "            self.cost_.append(cost)\n",
    "        return self\n",
    "    \n",
    "    def net_input(self, X):\n",
    "        \"\"\"総入力の計算\"\"\"\n",
    "        return np.dot(X, self.w_[1:]) + self.w_[0] # WX\n",
    "    \n",
    "    def activation(self, X):\n",
    "        \"\"\"活性化関数の計算\n",
    "        　　　　　ADALINEでは φ(W' X) = W' X となるのでnet_inputをそのまま返している\n",
    "        \"\"\"\n",
    "        return self.net_input(X)\n",
    "    \n",
    "    def predict(self, X):\n",
    "        return np.where(self.activation(X) >= 0.0, 1, -1)"
   ]
  },
  {
   "cell_type": "markdown",
   "metadata": {},
   "source": [
    "# 学習曲線を表示する"
   ]
  },
  {
   "cell_type": "markdown",
   "metadata": {},
   "source": [
    "## データの取得"
   ]
  },
  {
   "cell_type": "code",
   "execution_count": 6,
   "metadata": {
    "collapsed": false
   },
   "outputs": [],
   "source": [
    "import pandas as pd\n",
    "import numpy as np\n",
    "\n",
    "# UCI Machine Learning Repository から Irisデータ・セットを読み込む\n",
    "df = pd.read_csv('https://archive.ics.uci.edu/ml/machine-learning-databases/iris/iris.data',\n",
    "                               header=None)\n",
    "\n",
    "y = df.iloc[0:100, 4].values # 1-100行目の目的変数(index 4)を取得\n",
    "y = np.where(y == 'Iris-setosa', -1, 1) # Iris-setosa を -1, Iris-virginica を 1 に変換\n",
    "X = df.iloc[0:100, [0, 2]].values # 1-100行目の1, 3列目(index 0, 2)を取得"
   ]
  },
  {
   "cell_type": "markdown",
   "metadata": {},
   "source": [
    "## 学習率 0.01 vs 0.0001 の学習曲線を表示"
   ]
  },
  {
   "cell_type": "code",
   "execution_count": 9,
   "metadata": {
    "collapsed": false
   },
   "outputs": [
    {
     "data": {
      "image/png": "[encoded data removed]",
      "text/plain": [
       "<matplotlib.figure.Figure at 0x1117bf9b0>"
      ]
     },
     "metadata": {},
     "output_type": "display_data"
    }
   ],
   "source": [
    "%matplotlib inline\n",
    "import matplotlib.pyplot as plt\n",
    "\n",
    "# 描画領域を1行2列に分割\n",
    "fig, ax = plt.subplots(nrows=1, ncols=2, figsize=(8, 4))\n",
    "\n",
    "# 勾配降下法によるADALINEの学習 (eta = 0.01)\n",
    "ada1 = AdalineGD(n_iter=10, eta=0.01).fit(X, y)\n",
    "\n",
    "# ada1のコストの描画\n",
    "ax[0].plot(range(1, len(ada1.cost_)+1), np.log10(ada1.cost_), marker='o')\n",
    "ax[0].set_xlabel('Epochs')\n",
    "ax[0].set_ylabel('log(Sum squared error)')\n",
    "ax[0].set_title('Adaline - Learning Rate 0.01')\n",
    "\n",
    "\n",
    "# 勾配降下法によるADALINEの学習 (eta = 0.0001)\n",
    "ada2 = AdalineGD(n_iter=10, eta=0.0001).fit(X, y)\n",
    "\n",
    "# ada2のコストの描画\n",
    "ax[1].plot(range(1, len(ada2.cost_)+1), np.log10(ada2.cost_), marker='o')\n",
    "ax[1].set_xlabel('Epochs')\n",
    "ax[1].set_ylabel('log(Sum squared error)')\n",
    "ax[1].set_title('Adaline - Learning Rate 0.0001')\n",
    "\n",
    "# 図の表示 \n",
    "plt.show()\n",
    "\n",
    "# 学習率 0.01だとエラーが上昇しているので発散してしまているのでうまく学習できてない\n",
    "# 学習率 0.0001 だとエラーが降下しているので収束しているのでうまく学習できている"
   ]
  },
  {
   "cell_type": "markdown",
   "metadata": {},
   "source": [
    "# アルゴリズムの改善"
   ]
  },
  {
   "cell_type": "markdown",
   "metadata": {},
   "source": [
    "## 標準化(Standardization)\n",
    "学習率 0.0001で収束していてうまく学習できているが、とても小さい値なので、収束し終わるまで時間がかかってしまう。\n",
    "そのため、「標準化」というスケーリング手法を使う。具体的には、データに標準正規分布の特性を与える。各特徴量の平均を0とし、標準偏差を1にする。\n",
    "\n",
    "x'j = (xj - μj) / σj  ※ μ: 平均, σ: 偏差"
   ]
  },
  {
   "cell_type": "code",
   "execution_count": 10,
   "metadata": {
    "collapsed": true
   },
   "outputs": [],
   "source": [
    "X_std = np.copy(X) # コピー\n",
    "\n",
    "# 各列の標準化\n",
    "X_std[:, 0] = (X[:, 0] - X[:, 0].mean()) / X[:, 0].std()\n",
    "X_std[:, 1] = (X[:, 1] - X[:, 1].mean()) / X[:, 1].std()"
   ]
  },
  {
   "cell_type": "markdown",
   "metadata": {},
   "source": [
    "## 再度学習を行う\n",
    "標準化した入力値X_stdで学習率 0.01で再度学習を行う"
   ]
  },
  {
   "cell_type": "code",
   "execution_count": 11,
   "metadata": {
    "collapsed": false
   },
   "outputs": [
    {
     "data": {
      "text/plain": [
       "<__main__.AdalineGD at 0x10fd4f748>"
      ]
     },
     "execution_count": 11,
     "metadata": {},
     "output_type": "execute_result"
    }
   ],
   "source": [
    "ada = AdalineGD(n_iter=15, eta=0.01)\n",
    "ada.fit(X_std, y)"
   ]
  },
  {
   "cell_type": "markdown",
   "metadata": {},
   "source": [
    "## 境界領域のプロット"
   ]
  },
  {
   "cell_type": "code",
   "execution_count": 15,
   "metadata": {
    "collapsed": true
   },
   "outputs": [],
   "source": [
    "# 2次元のデータセットの決定境界 (decision boundary) を可視化するメソッドの定義\n",
    "from matplotlib.colors import ListedColormap\n",
    "def plot_decision_regions(X, y, classifier, resolution=0.02):\n",
    "    # マーカーとカラーマップの準備\n",
    "    markers = ('s', 'x', 'o', '^', 'v')\n",
    "    colors = ('red', 'blue', 'lightgreen', 'gray', 'cyan')\n",
    "    cmap = ListedColormap(colors[:len(np.unique(y))])\n",
    "    \n",
    "    # 決定領域のプロット\n",
    "    x1_min, x1_max = X[:, 0].min() - 1, X[:, 0].max() + 1\n",
    "    x2_min, x2_max = X[:, 1].min() - 1, X[:, 1].max() + 1\n",
    "    \n",
    "    # グリッドポイントの作成\n",
    "    xx1, xx2 = np.meshgrid(np.arange(x1_min, x1_max, resolution),\n",
    "                                              np.arange(x2_min, x2_max, resolution))\n",
    "    \n",
    "    # 各特徴量を1次元配列に変換して予測を実行\n",
    "    Z = classifier.predict(np.array([xx1.ravel(), xx2.ravel()]).T)\n",
    "    \n",
    "    # 予測結果を元のグリッドポイントのデータサイズに変換\n",
    "    Z = Z.reshape(xx1.shape)\n",
    "    \n",
    "    # グリッドポイントの等高線のプロット\n",
    "    plt.contourf(xx1, xx2, Z, alpha=0.4)\n",
    "    \n",
    "    # 軸の範囲の設定\n",
    "    plt.xlim(xx1.min(), xx1.max())\n",
    "    plt.ylim(xx2.min(), xx2.max())\n",
    "    \n",
    "    # クラスごとにサンプルをプロット\n",
    "    for idx, cl in enumerate(np.unique(y)):\n",
    "        plt.scatter(x=X[y == cl, 0], y=X[y == cl, 1], alpha=0.8,\n",
    "                            c=cmap(idx), marker=markers[idx], label=cl)"
   ]
  },
  {
   "cell_type": "code",
   "execution_count": 18,
   "metadata": {
    "collapsed": false
   },
   "outputs": [
    {
     "name": "stderr",
     "output_type": "stream",
     "text": [
      "/Users/nipe/.pyenv/versions/anaconda3-2.3.0/lib/python3.4/site-packages/matplotlib/collections.py:590: FutureWarning: elementwise comparison failed; returning scalar instead, but in the future will perform elementwise comparison\n",
      "  if self._edgecolors == str('face'):\n"
     ]
    },
    {
     "data": {
      "image/png": "[encoded data removed]",
      "text/plain": [
       "<matplotlib.figure.Figure at 0x1117c4518>"
      ]
     },
     "metadata": {},
     "output_type": "display_data"
    },
    {
     "data": {
      "image/png": "[encoded data removed]",
      "text/plain": [
       "<matplotlib.figure.Figure at 0x1120169e8>"
      ]
     },
     "metadata": {},
     "output_type": "display_data"
    }
   ],
   "source": [
    "# 境界曲線を表示\n",
    "plot_decision_regions(X_std, y, classifier=ada)\n",
    "plt.title('Adaline - Gradient Descent')\n",
    "plt.xlabel('sepal length [standardized]')\n",
    "plt.ylabel('petal length [standardized]')\n",
    "plt.legend(loc='upper left')\n",
    "plt.show()\n",
    "\n",
    "# 学習曲線を表示\n",
    "plt.plot(range(1, len(ada.cost_) + 1), ada.cost_, marker='o')\n",
    "plt.xlabel('Epochs')\n",
    "plt.ylabel('Sum squared error')\n",
    "plt.show()"
   ]
  }
 ],
 "metadata": {
  "kernelspec": {
   "display_name": "Python 3",
   "language": "python",
   "name": "python3"
  },
  "language_info": {
   "codemirror_mode": {
    "name": "ipython",
    "version": 3
   },
   "file_extension": ".py",
   "mimetype": "text/x-python",
   "name": "python",
   "nbconvert_exporter": "python",
   "pygments_lexer": "ipython3",
   "version": "3.4.5"
  }
 },
 "nbformat": 4,
 "nbformat_minor": 0
}
