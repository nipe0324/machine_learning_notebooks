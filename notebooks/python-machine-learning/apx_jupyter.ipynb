{
 "cells": [
  {
   "cell_type": "markdown",
   "metadata": {},
   "source": [
    "# 付録: Jupyterの基本的な使い方"
   ]
  },
  {
   "cell_type": "markdown",
   "metadata": {},
   "source": [
    "## グラフの表示\n",
    "\n",
    "`%matplotlib inline` を追加する"
   ]
  },
  {
   "cell_type": "code",
   "execution_count": 1,
   "metadata": {
    "collapsed": false
   },
   "outputs": [
    {
     "data": {
      "image/png": "[encoded data removed]",
      "text/plain": [
       "<matplotlib.figure.Figure at 0x10b14ffd0>"
      ]
     },
     "metadata": {},
     "output_type": "display_data"
    }
   ],
   "source": [
    "%matplotlib inline\n",
    "import numpy as np\n",
    "import matplotlib.pyplot as plt\n",
    "\n",
    "np.random.seed(71)\n",
    "x = np.random.randn(1000)\n",
    "plt.hist(x, bins=20)\n",
    "plt.show()"
   ]
  },
  {
   "cell_type": "markdown",
   "metadata": {},
   "source": [
    "## 数式の表示\n",
    "\n",
    "MathJaxにより、LaTeXと同様の数式を記述できる。\n",
    "テキスト内の場合は、`$...$`で囲んで数式を記述する。\n",
    "数式のブロックは、`$$...$$`で囲んで数式を記述する。\n",
    "\n",
    "$$\n",
    "J \\left( \\phi(z), y; \\boldsymbol{w} \\right) = -y \\log{\\left( \\phi(z) \\right)} - (1-y) \\log{\\left( 1 - \\phi(z) \\right)}\n",
    "$$\n",
    "\n",
    "LaTexの書き方: http://www.latex-cmd.com/"
   ]
  },
  {
   "cell_type": "markdown",
   "metadata": {},
   "source": [
    "## ショートカット(Mac)\n",
    "\n",
    "Exc コマンドモードへ\n",
    "Enter 編集モードへ\n",
    "\n",
    "(コマンドモード時)\n",
    "a    上にセルの追加\n",
    "b  　  下にセルの追加\n",
    "dd  セルの削除\n",
    "c    セルのコピー\n",
    "v    セルの貼り付け\n",
    "\n",
    "Ctrl+Enter セルの実行\n",
    "\n",
    "その他は [Help] => [Keyboard Shortcuts] から参照"
   ]
  }
 ],
 "metadata": {
  "kernelspec": {
   "display_name": "Python 3",
   "language": "python",
   "name": "python3"
  },
  "language_info": {
   "codemirror_mode": {
    "name": "ipython",
    "version": 3
   },
   "file_extension": ".py",
   "mimetype": "text/x-python",
   "name": "python",
   "nbconvert_exporter": "python",
   "pygments_lexer": "ipython3",
   "version": "3.4.5"
  }
 },
 "nbformat": 4,
 "nbformat_minor": 1
}
