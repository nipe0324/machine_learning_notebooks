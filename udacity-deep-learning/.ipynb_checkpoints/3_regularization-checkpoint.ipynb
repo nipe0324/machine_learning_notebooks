{
 "cells": [
  {
   "cell_type": "markdown",
   "metadata": {
    "colab_type": "text",
    "id": "kR-4eNdK6lYS"
   },
   "source": [
    "Deep Learning\n",
    "=============\n",
    "\n",
    "Assignment 3\n",
    "------------\n",
    "\n",
    "Previously in `2_fullyconnected.ipynb`, you trained a logistic regression and a neural network model.\n",
    "\n",
    "The goal of this assignment is to explore regularization techniques.\n",
    "\n",
    "---\n",
    "\n",
    "前回の`2_fullyconnected.ipynb`でロジスティック回帰とニューラルネットワークモデルでトレーニングを行いました。\n",
    "\n",
    "このアサインメントのゴールは、正則化(regularization)のテクニックを深掘りします"
   ]
  },
  {
   "cell_type": "code",
   "execution_count": 1,
   "metadata": {
    "cellView": "both",
    "colab": {
     "autoexec": {
      "startup": false,
      "wait_interval": 0
     }
    },
    "colab_type": "code",
    "collapsed": true,
    "id": "JLpLa8Jt7Vu4"
   },
   "outputs": [],
   "source": [
    "# These are all the modules we'll be using later. Make sure you can import them\n",
    "# before proceeding further.\n",
    "from __future__ import print_function\n",
    "import numpy as np\n",
    "import tensorflow as tf\n",
    "from six.moves import cPickle as pickle"
   ]
  },
  {
   "cell_type": "markdown",
   "metadata": {
    "colab_type": "text",
    "id": "1HrCK6e17WzV"
   },
   "source": [
    "First reload the data we generated in _notmist.ipynb_."
   ]
  },
  {
   "cell_type": "code",
   "execution_count": 2,
   "metadata": {
    "cellView": "both",
    "colab": {
     "autoexec": {
      "startup": false,
      "wait_interval": 0
     },
     "output_extras": [
      {
       "item_id": 1
      }
     ]
    },
    "colab_type": "code",
    "collapsed": false,
    "executionInfo": {
     "elapsed": 11777,
     "status": "ok",
     "timestamp": 1449849322348,
     "user": {
      "color": "",
      "displayName": "",
      "isAnonymous": false,
      "isMe": true,
      "permissionId": "",
      "photoUrl": "",
      "sessionId": "0",
      "userId": ""
     },
     "user_tz": 480
    },
    "id": "y3-cj1bpmuxc",
    "outputId": "e03576f1-ebbe-4838-c388-f1777bcc9873"
   },
   "outputs": [
    {
     "name": "stdout",
     "output_type": "stream",
     "text": [
      "Training set (200000, 28, 28) (200000,)\n",
      "Validation set (10000, 28, 28) (10000,)\n",
      "Test set (10000, 28, 28) (10000,)\n"
     ]
    }
   ],
   "source": [
    "pickle_file = 'notMNIST.pickle'\n",
    "\n",
    "with open(pickle_file, 'rb') as f:\n",
    "    save = pickle.load(f)\n",
    "    train_dataset = save['train_dataset']\n",
    "    train_labels = save['train_labels']\n",
    "    valid_dataset = save['valid_dataset']\n",
    "    valid_labels = save['valid_labels']\n",
    "    test_dataset = save['test_dataset']\n",
    "    test_labels = save['test_labels']\n",
    "    del save  # hint to help gc free up memory\n",
    "    print('Training set', train_dataset.shape, train_labels.shape)\n",
    "    print('Validation set', valid_dataset.shape, valid_labels.shape)\n",
    "    print('Test set', test_dataset.shape, test_labels.shape)"
   ]
  },
  {
   "cell_type": "markdown",
   "metadata": {
    "colab_type": "text",
    "id": "L7aHrm6nGDMB"
   },
   "source": [
    "Reformat into a shape that's more adapted to the models we're going to train:\n",
    "- data as a flat matrix,\n",
    "- labels as float 1-hot encodings."
   ]
  },
  {
   "cell_type": "code",
   "execution_count": 3,
   "metadata": {
    "cellView": "both",
    "colab": {
     "autoexec": {
      "startup": false,
      "wait_interval": 0
     },
     "output_extras": [
      {
       "item_id": 1
      }
     ]
    },
    "colab_type": "code",
    "collapsed": false,
    "executionInfo": {
     "elapsed": 11728,
     "status": "ok",
     "timestamp": 1449849322356,
     "user": {
      "color": "",
      "displayName": "",
      "isAnonymous": false,
      "isMe": true,
      "permissionId": "",
      "photoUrl": "",
      "sessionId": "0",
      "userId": ""
     },
     "user_tz": 480
    },
    "id": "IRSyYiIIGIzS",
    "outputId": "3f8996ee-3574-4f44-c953-5c8a04636582"
   },
   "outputs": [
    {
     "name": "stdout",
     "output_type": "stream",
     "text": [
      "Training set (200000, 784) (200000, 10)\n",
      "Validation set (10000, 784) (10000, 10)\n",
      "Test set (10000, 784) (10000, 10)\n"
     ]
    }
   ],
   "source": [
    "image_size = 28\n",
    "num_labels = 10\n",
    "\n",
    "def reformat(dataset, labels):\n",
    "    dataset = dataset.reshape((-1, image_size * image_size)).astype(np.float32)\n",
    "    # Map 1 to [0.0, 1.0, 0.0 ...], 2 to [0.0, 0.0, 1.0 ...]\n",
    "    labels = (np.arange(num_labels) == labels[:,None]).astype(np.float32)\n",
    "    return dataset, labels\n",
    "\n",
    "train_dataset, train_labels = reformat(train_dataset, train_labels)\n",
    "valid_dataset, valid_labels = reformat(valid_dataset, valid_labels)\n",
    "test_dataset, test_labels = reformat(test_dataset, test_labels)\n",
    "print('Training set', train_dataset.shape, train_labels.shape)\n",
    "print('Validation set', valid_dataset.shape, valid_labels.shape)\n",
    "print('Test set', test_dataset.shape, test_labels.shape)"
   ]
  },
  {
   "cell_type": "code",
   "execution_count": 4,
   "metadata": {
    "cellView": "both",
    "colab": {
     "autoexec": {
      "startup": false,
      "wait_interval": 0
     }
    },
    "colab_type": "code",
    "collapsed": true,
    "id": "RajPLaL_ZW6w"
   },
   "outputs": [],
   "source": [
    "def accuracy(predictions, labels):\n",
    "  return (100.0 * np.sum(np.argmax(predictions, 1) == np.argmax(labels, 1))\n",
    "          / predictions.shape[0])"
   ]
  },
  {
   "cell_type": "markdown",
   "metadata": {
    "colab_type": "text",
    "id": "sgLbUAQ1CW-1"
   },
   "source": [
    "---\n",
    "Problem 1\n",
    "---------\n",
    "\n",
    "Introduce and tune L2 regularization for both logistic and neural network models. Remember that L2 amounts to adding a penalty on the norm of the weights to the loss. In TensorFlow, you can compute the L2 loss for a tensor `t` using `nn.l2_loss(t)`. The right amount of regularization should improve your validation / test accuracy.\n",
    "\n",
    "---\n",
    "\n",
    "ロジスティック回帰とニューラルネットワークでL2正則化を追加してみてください。L2正則化は、ノルム(norm)として、コストにペナルティを追加します。\n",
    "TensorFlowでは、`nn.l2_loss(t)`として計算します。正則化をすることで、バリデーションとテスト精度は向上するでしょう。\n",
    "\n",
    "---"
   ]
  },
  {
   "cell_type": "code",
   "execution_count": 5,
   "metadata": {
    "collapsed": true
   },
   "outputs": [],
   "source": [
    "# ロジスティック回帰の宣言（Optimizer: SGD)\n",
    "batch_size = 128\n",
    "l2_lambda = 5e-4\n",
    "\n",
    "graph = tf.Graph()\n",
    "with graph.as_default():\n",
    "\n",
    "    # 入力データ (Input data)\n",
    "    # トレーニングデータは、placeholderで宣言し、トレーニング実行時に\n",
    "    # ミニバッチとしてデータを渡せるようにします\n",
    "    tf_train_dataset = tf.placeholder(tf.float32, shape=(batch_size, image_size * image_size))\n",
    "    tf_train_labels = tf.placeholder(tf.float32, shape=(batch_size, num_labels))\n",
    "    tf_valid_dataset = tf.constant(valid_dataset)\n",
    "    tf_test_dataset = tf.constant(test_dataset)\n",
    "\n",
    "    # 変数 (Valriables)\n",
    "    weights = tf.Variable(\n",
    "    tf.truncated_normal([image_size * image_size, num_labels]))\n",
    "    biases = tf.Variable(tf.zeros([num_labels]))\n",
    "\n",
    "    # トレーニングの計算 (Training computation)\n",
    "    logits = tf.matmul(tf_train_dataset, weights) + biases\n",
    "    loss = tf.reduce_mean(tf.nn.softmax_cross_entropy_with_logits(logits, tf_train_labels))\n",
    "\n",
    "    # L2正則化　(重み減衰)\n",
    "    l2 = tf.nn.l2_loss(weights) + tf.nn.l2_loss(biases)\n",
    "    loss += l2_lambda * l2\n",
    "    \n",
    "    # 最適化(Optimizer.)\n",
    "    optimizer = tf.train.GradientDescentOptimizer(0.5).minimize(loss)\n",
    "\n",
    "    # トレーニング、バリデーション、テストデータに対しての予測\n",
    "    train_prediction = tf.nn.softmax(logits)\n",
    "    valid_prediction = tf.nn.softmax(\n",
    "    tf.matmul(tf_valid_dataset, weights) + biases)\n",
    "    test_prediction = tf.nn.softmax(tf.matmul(tf_test_dataset, weights) + biases)"
   ]
  },
  {
   "cell_type": "code",
   "execution_count": 6,
   "metadata": {
    "collapsed": false
   },
   "outputs": [
    {
     "name": "stdout",
     "output_type": "stream",
     "text": [
      "変数を初期化しました\n",
      "Minibatch loss at step 0: 16.332008\n",
      "Minibatch accuracy: 12.5%\n",
      "Validation accuracy: 15.0%\n",
      "Minibatch loss at step 500: 2.093124\n",
      "Minibatch accuracy: 79.7%\n",
      "Validation accuracy: 76.2%\n",
      "Minibatch loss at step 1000: 1.827156\n",
      "Minibatch accuracy: 76.6%\n",
      "Validation accuracy: 77.4%\n",
      "Minibatch loss at step 1500: 1.120288\n",
      "Minibatch accuracy: 80.5%\n",
      "Validation accuracy: 78.5%\n",
      "Minibatch loss at step 2000: 1.006567\n",
      "Minibatch accuracy: 85.9%\n",
      "Validation accuracy: 79.6%\n",
      "Minibatch loss at step 2500: 1.029499\n",
      "Minibatch accuracy: 81.2%\n",
      "Validation accuracy: 80.6%\n",
      "Minibatch loss at step 3000: 0.824576\n",
      "Minibatch accuracy: 83.6%\n",
      "Validation accuracy: 80.9%\n",
      "Test accuracy: 88.4%\n"
     ]
    }
   ],
   "source": [
    "# ロジスティック回帰の実行\n",
    "# 正則化前: Last Minibatch accuracy: 78.9%, Validation accuracy: 78.7%, Test accuracy: 86.4%\n",
    "# 正則化後: Last Minibatch accuracy: 83.6%, Validation accuracy: 80.9%, Test accuracy: 88.4%\n",
    "num_steps = 3001\n",
    "\n",
    "with tf.Session(graph=graph) as session:\n",
    "    tf.initialize_all_variables().run()\n",
    "    print(\"変数を初期化しました\")\n",
    "\n",
    "    for step in range(num_steps):\n",
    "        # Pick an offset within the training data, which has been randomized.\n",
    "        # Note: we could use better randomization across epochs.\n",
    "        offset = (step * batch_size) % (train_labels.shape[0] - batch_size)\n",
    "\n",
    "        # ミニバッチの作成\n",
    "        batch_data = train_dataset[offset:(offset + batch_size), :]\n",
    "        batch_labels = train_labels[offset:(offset + batch_size), :]\n",
    "\n",
    "        # Prepare a dictionary telling the session where to feed the minibatch.\n",
    "        # The key of the dictionary is the placeholder node of the graph to be fed,\n",
    "        # and the value is the numpy array to feed to it.\n",
    "        feed_dict = {tf_train_dataset : batch_data, tf_train_labels : batch_labels}\n",
    "        _, l, predictions = session.run(\n",
    "          [optimizer, loss, train_prediction], feed_dict=feed_dict)\n",
    "\n",
    "        if (step % 500 == 0):\n",
    "            print(\"Minibatch loss at step %d: %f\" % (step, l))\n",
    "            print(\"Minibatch accuracy: %.1f%%\" % accuracy(predictions, batch_labels))\n",
    "            print(\"Validation accuracy: %.1f%%\" % accuracy(valid_prediction.eval(), valid_labels))\n",
    "\n",
    "    print(\"Test accuracy: %.1f%%\" % accuracy(test_prediction.eval(), test_labels))"
   ]
  },
  {
   "cell_type": "code",
   "execution_count": 7,
   "metadata": {
    "collapsed": true
   },
   "outputs": [],
   "source": [
    "# ニューラルネットワークの定義(L2正則化)\n",
    "# input:      [batch_size, 784(28x28)]\n",
    "# hidden1: weights(784x1024) + bias(1024) => relu\n",
    "# output:   weights(1024x10) + bias(10) => softmax, cross_entropy\n",
    "batch_size = 128\n",
    "hidden_size = 1024\n",
    "\n",
    "graph = tf.Graph()\n",
    "with graph.as_default():\n",
    "\n",
    "    # 入力データ (Input data)\n",
    "    tf_train_dataset = tf.placeholder(tf.float32, shape=(batch_size, image_size * image_size))\n",
    "    tf_train_labels = tf.placeholder(tf.float32, shape=(batch_size, num_labels))\n",
    "    tf_valid_dataset = tf.constant(valid_dataset)\n",
    "    tf_test_dataset = tf.constant(test_dataset)\n",
    "\n",
    "    # 変数 (Valriables)\n",
    "    hidden1_weights = tf.Variable(tf.truncated_normal([image_size * image_size, hidden_size]))\n",
    "    hidden1_biases = tf.Variable(tf.zeros([hidden_size]))\n",
    "    output_weights = tf.Variable(tf.truncated_normal([hidden_size, num_labels]))\n",
    "    output_biases = tf.Variable(tf.zeros([num_labels]))\n",
    "\n",
    "    # トレーニングの計算 (Training computation)\n",
    "    # 隠れ層の計算\n",
    "    hidden1_Wx_plus_b = tf.matmul(tf_train_dataset, hidden1_weights) + hidden1_biases\n",
    "    hidden1_activation = tf.nn.relu(hidden1_Wx_plus_b)\n",
    "    \n",
    "    # 出力層の計算\n",
    "    logits = tf.matmul(hidden1_activation, output_weights) + output_biases\n",
    "    loss = tf.reduce_mean(tf.nn.softmax_cross_entropy_with_logits(logits, tf_train_labels))\n",
    "\n",
    "    # L2正則化　(重み減衰)\n",
    "    l2 = (tf.nn.l2_loss(hidden1_weights) + tf.nn.l2_loss(hidden1_biases)\n",
    "                 + tf.nn.l2_loss(output_weights) + tf.nn.l2_loss(output_biases))\n",
    "    loss += l2_lambda * l2\n",
    "    \n",
    "    # 最適化(Optimizer.)\n",
    "    optimizer = tf.train.GradientDescentOptimizer(0.5).minimize(loss)\n",
    "\n",
    "    # トレーニング、バリデーション、テストデータに対しての予測\n",
    "    train_prediction = tf.nn.softmax(logits)\n",
    "    valid_prediction = tf.nn.softmax(\n",
    "        tf.matmul(tf.nn.relu(tf.matmul(tf_valid_dataset, hidden1_weights) + hidden1_biases), output_weights) + output_biases)\n",
    "    test_prediction = tf.nn.softmax(\n",
    "        tf.matmul(tf.nn.relu(tf.matmul(tf_test_dataset, hidden1_weights) + hidden1_biases), output_weights) + output_biases)"
   ]
  },
  {
   "cell_type": "code",
   "execution_count": 8,
   "metadata": {
    "collapsed": false
   },
   "outputs": [
    {
     "name": "stdout",
     "output_type": "stream",
     "text": [
      "変数を初期化しました\n",
      "Minibatch loss at step 0: 490.232727\n",
      "Minibatch accuracy: 13.3%\n",
      "Validation accuracy: 26.7%\n",
      "Minibatch loss at step 500: 136.496704\n",
      "Minibatch accuracy: 82.0%\n",
      "Validation accuracy: 78.3%\n",
      "Minibatch loss at step 1000: 97.725990\n",
      "Minibatch accuracy: 80.5%\n",
      "Validation accuracy: 82.0%\n",
      "Minibatch loss at step 1500: 75.690216\n",
      "Minibatch accuracy: 89.8%\n",
      "Validation accuracy: 80.9%\n",
      "Minibatch loss at step 2000: 56.470036\n",
      "Minibatch accuracy: 89.8%\n",
      "Validation accuracy: 82.6%\n",
      "Minibatch loss at step 2500: 44.764988\n",
      "Minibatch accuracy: 81.2%\n",
      "Validation accuracy: 83.4%\n",
      "Minibatch loss at step 3000: 34.366486\n",
      "Minibatch accuracy: 85.2%\n",
      "Validation accuracy: 84.2%\n",
      "Test accuracy: 91.0%\n"
     ]
    }
   ],
   "source": [
    "# ニューラルネットワークの実行(L2正則化)\n",
    "# L2正則化前: Last Minibatch accuracy: 83.6%, Validation accuracy: 82.8%, Test accuracy: 89.8%\n",
    "# L2正則化後: Last Minibatch accuracy: 85.2%, Validation accuracy: 84.2%, Test accuracy: 91.0%\n",
    "num_steps = 3001\n",
    "\n",
    "with tf.Session(graph=graph) as session:\n",
    "    tf.initialize_all_variables().run()\n",
    "    print(\"変数を初期化しました\")\n",
    "\n",
    "    for step in range(num_steps):\n",
    "        # Pick an offset within the training data, which has been randomized.\n",
    "        # Note: we could use better randomization across epochs.\n",
    "        offset = (step * batch_size) % (train_labels.shape[0] - batch_size)\n",
    "\n",
    "        # ミニバッチの作成\n",
    "        batch_data = train_dataset[offset:(offset + batch_size), :]\n",
    "        batch_labels = train_labels[offset:(offset + batch_size), :]\n",
    "\n",
    "        # Prepare a dictionary telling the session where to feed the minibatch.\n",
    "        # The key of the dictionary is the placeholder node of the graph to be fed,\n",
    "        # and the value is the numpy array to feed to it.\n",
    "        feed_dict = {tf_train_dataset : batch_data, tf_train_labels : batch_labels}\n",
    "        _, l, predictions = session.run(\n",
    "          [optimizer, loss, train_prediction], feed_dict=feed_dict)\n",
    "\n",
    "        if (step % 500 == 0):\n",
    "            print(\"Minibatch loss at step %d: %f\" % (step, l))\n",
    "            print(\"Minibatch accuracy: %.1f%%\" % accuracy(predictions, batch_labels))\n",
    "            print(\"Validation accuracy: %.1f%%\" % accuracy(valid_prediction.eval(), valid_labels))\n",
    "\n",
    "    print(\"Test accuracy: %.1f%%\" % accuracy(test_prediction.eval(), test_labels))"
   ]
  },
  {
   "cell_type": "markdown",
   "metadata": {
    "colab_type": "text",
    "id": "na8xX2yHZzNF"
   },
   "source": [
    "---\n",
    "Problem 2\n",
    "---------\n",
    "Let's demonstrate an extreme case of overfitting. Restrict your training data to just a few batches. What happens?\n",
    "\n",
    "---\n",
    "\n",
    "オーバーフィッティングの極端な例をデモンストレートしてみましょう。トレーニングデータを少数のバッチで制限するとどうなるでしょうか？\n",
    "\n",
    "---"
   ]
  },
  {
   "cell_type": "code",
   "execution_count": 10,
   "metadata": {
    "collapsed": false
   },
   "outputs": [],
   "source": [
    "# ニューラルネットワーク (オーバーフィッティング)\n",
    "# input:      [batch_size, 784(28x28)]\n",
    "# hidden1: weights(784x1024) + bias(1024) => relu\n",
    "# output:   weights(1024x10) + bias(10) => softmax, cross_entropy\n",
    "batch_size = 128\n",
    "hidden_size = 1024\n",
    "\n",
    "graph = tf.Graph()\n",
    "with graph.as_default():\n",
    "\n",
    "    # 入力データ (Input data)\n",
    "    tf_train_dataset = tf.placeholder(tf.float32, shape=(batch_size, image_size * image_size))\n",
    "    tf_train_labels = tf.placeholder(tf.float32, shape=(batch_size, num_labels))\n",
    "    tf_valid_dataset = tf.constant(valid_dataset)\n",
    "    tf_test_dataset = tf.constant(test_dataset)\n",
    "\n",
    "    # 変数 (Valriables)\n",
    "    hidden1_weights = tf.Variable(tf.truncated_normal([image_size * image_size, hidden_size]))\n",
    "    hidden1_biases = tf.Variable(tf.zeros([hidden_size]))\n",
    "    output_weights = tf.Variable(tf.truncated_normal([hidden_size, num_labels]))\n",
    "    output_biases = tf.Variable(tf.zeros([num_labels]))\n",
    "\n",
    "    # トレーニングの計算 (Training computation)\n",
    "    # 隠れ層の計算\n",
    "    hidden1_Wx_plus_b = tf.matmul(tf_train_dataset, hidden1_weights) + hidden1_biases\n",
    "    hidden1_activation = tf.nn.relu(hidden1_Wx_plus_b)\n",
    "    \n",
    "    # 出力層の計算\n",
    "    logits = tf.matmul(hidden1_activation, output_weights) + output_biases\n",
    "    loss = tf.reduce_mean(tf.nn.softmax_cross_entropy_with_logits(logits, tf_train_labels))\n",
    "    \n",
    "    # 最適化(Optimizer.)\n",
    "    optimizer = tf.train.GradientDescentOptimizer(0.5).minimize(loss)\n",
    "\n",
    "    # トレーニング、バリデーション、テストデータに対しての予測\n",
    "    train_prediction = tf.nn.softmax(logits)\n",
    "    valid_prediction = tf.nn.softmax(\n",
    "        tf.matmul(tf.nn.relu(tf.matmul(tf_valid_dataset, hidden1_weights) + hidden1_biases), output_weights) + output_biases)\n",
    "    test_prediction = tf.nn.softmax(\n",
    "        tf.matmul(tf.nn.relu(tf.matmul(tf_test_dataset, hidden1_weights) + hidden1_biases), output_weights) + output_biases)"
   ]
  },
  {
   "cell_type": "code",
   "execution_count": 13,
   "metadata": {
    "collapsed": false
   },
   "outputs": [
    {
     "name": "stdout",
     "output_type": "stream",
     "text": [
      "変数を初期化しました\n",
      "Minibatch loss at step 0: 308.531799\n",
      "Minibatch accuracy: 13.3%\n",
      "Validation accuracy: 27.7%\n",
      "Minibatch loss at step 500: 0.003661\n",
      "Minibatch accuracy: 100.0%\n",
      "Validation accuracy: 79.8%\n",
      "Minibatch loss at step 1000: 0.000000\n",
      "Minibatch accuracy: 100.0%\n",
      "Validation accuracy: 79.5%\n",
      "Minibatch loss at step 1500: 0.000000\n",
      "Minibatch accuracy: 100.0%\n",
      "Validation accuracy: 79.7%\n",
      "Minibatch loss at step 2000: 0.000000\n",
      "Minibatch accuracy: 100.0%\n",
      "Validation accuracy: 79.6%\n",
      "Minibatch loss at step 2500: 0.000000\n",
      "Minibatch accuracy: 100.0%\n",
      "Validation accuracy: 79.7%\n",
      "Minibatch loss at step 3000: 0.000000\n",
      "Minibatch accuracy: 100.0%\n",
      "Validation accuracy: 79.7%\n",
      "Test accuracy: 86.7%\n"
     ]
    }
   ],
   "source": [
    "# ニューラルネットワークの実行（オーバーフィッティング)\n",
    "# L2正則化前: Last Minibatch accuracy: 83.6%, Validation accuracy: 82.8%, Test accuracy: 89.8%\n",
    "# L2正則化後: Last Minibatch accuracy: 85.2%, Validation accuracy: 84.2%, Test accuracy: 91.0%\n",
    "# Overfitting: Last Minibatch accuracy: 100.0%, Validation accuracy: 79.7%, Test accuracy: 86.7%\n",
    "num_steps = 3001\n",
    "n_samples = 3000 # トレーニングを3000件に制限する\n",
    "\n",
    "with tf.Session(graph=graph) as session:\n",
    "    tf.initialize_all_variables().run()\n",
    "    print(\"変数を初期化しました\")\n",
    "\n",
    "    for step in range(num_steps):\n",
    "        # Pick an offset within the training data, which has been randomized.\n",
    "        # Note: we could use better randomization across epochs.\n",
    "        offset = (step * batch_size) % (n_samples - batch_size)\n",
    "\n",
    "        # ミニバッチの作成\n",
    "        batch_data = train_dataset[offset:(offset + batch_size), :]\n",
    "        batch_labels = train_labels[offset:(offset + batch_size), :]\n",
    "\n",
    "        # Prepare a dictionary telling the session where to feed the minibatch.\n",
    "        # The key of the dictionary is the placeholder node of the graph to be fed,\n",
    "        # and the value is the numpy array to feed to it.\n",
    "        feed_dict = {tf_train_dataset : batch_data, tf_train_labels : batch_labels}\n",
    "        _, l, predictions = session.run(\n",
    "          [optimizer, loss, train_prediction], feed_dict=feed_dict)\n",
    "\n",
    "        if (step % 500 == 0):\n",
    "            print(\"Minibatch loss at step %d: %f\" % (step, l))\n",
    "            print(\"Minibatch accuracy: %.1f%%\" % accuracy(predictions, batch_labels))\n",
    "            print(\"Validation accuracy: %.1f%%\" % accuracy(valid_prediction.eval(), valid_labels))\n",
    "\n",
    "    print(\"Test accuracy: %.1f%%\" % accuracy(test_prediction.eval(), test_labels))"
   ]
  },
  {
   "cell_type": "markdown",
   "metadata": {
    "colab_type": "text",
    "id": "ww3SCBUdlkRc"
   },
   "source": [
    "---\n",
    "Problem 3\n",
    "---------\n",
    "Introduce Dropout on the hidden layer of the neural network. Remember: Dropout should only be introduced during training, not evaluation, otherwise your evaluation results would be stochastic as well. TensorFlow provides `nn.dropout()` for that, but you have to make sure it's only inserted during training.\n",
    "\n",
    "What happens to our extreme overfitting case?\n",
    "\n",
    "---\n",
    "\n",
    "ニューラルネットワークの隠れ層にドロップアウトを追加してください。ドロップアウトはトレーニング時のみだけ実行してください。精度の評価のときにもドロップアウトをすると確率的な予測になってしまいます。\n",
    "TensorFlowでは、`nn.dropout()`によりドロップアウトをします。\n",
    "\n",
    "オーバーフィッティングの状態がどのようになるでしょうか？\n",
    "\n",
    "---"
   ]
  },
  {
   "cell_type": "code",
   "execution_count": 14,
   "metadata": {
    "collapsed": true
   },
   "outputs": [],
   "source": [
    "# ニューラルネットワーク (ドロップアウト)\n",
    "# input:      [batch_size, 784(28x28)]\n",
    "# hidden1: weights(784x1024) + bias(1024) => relu\n",
    "# output:   weights(1024x10) + bias(10) => softmax, cross_entropy\n",
    "batch_size = 128\n",
    "hidden_size = 1024\n",
    "\n",
    "graph = tf.Graph()\n",
    "with graph.as_default():\n",
    "\n",
    "    # 入力データ (Input data)\n",
    "    tf_train_dataset = tf.placeholder(tf.float32, shape=(batch_size, image_size * image_size))\n",
    "    tf_train_labels = tf.placeholder(tf.float32, shape=(batch_size, num_labels))\n",
    "    tf_valid_dataset = tf.constant(valid_dataset)\n",
    "    tf_test_dataset = tf.constant(test_dataset)\n",
    "    keep_prob = tf.placeholder(tf.float32) # ドロップアウトしない率\n",
    "\n",
    "    # 変数 (Valriables)\n",
    "    hidden1_weights = tf.Variable(tf.truncated_normal([image_size * image_size, hidden_size]))\n",
    "    hidden1_biases = tf.Variable(tf.zeros([hidden_size]))\n",
    "    output_weights = tf.Variable(tf.truncated_normal([hidden_size, num_labels]))\n",
    "    output_biases = tf.Variable(tf.zeros([num_labels]))\n",
    "    \n",
    "    # トレーニングの計算 (Training computation)\n",
    "    # 隠れ層の計算\n",
    "    hidden1_Wx_plus_b = tf.matmul(tf_train_dataset, hidden1_weights) + hidden1_biases\n",
    "    hidden1_activation = tf.nn.relu(hidden1_Wx_plus_b)\n",
    "    # ドロップアウト\n",
    "    hidden1_activation_drop = tf.nn.dropout(hidden1_activation, keep_prob)\n",
    "    # 出力層の計算\n",
    "    logits = tf.matmul(hidden1_activation_drop, output_weights) + output_biases\n",
    "    loss = tf.reduce_mean(tf.nn.softmax_cross_entropy_with_logits(logits, tf_train_labels))\n",
    "    \n",
    "    # 最適化(Optimizer.)\n",
    "    optimizer = tf.train.GradientDescentOptimizer(0.5).minimize(loss)\n",
    "\n",
    "    # トレーニング、バリデーション、テストデータに対しての予測\n",
    "    train_prediction = tf.nn.softmax(logits)\n",
    "    valid_prediction = tf.nn.softmax(\n",
    "        tf.matmul(tf.nn.relu(tf.matmul(tf_valid_dataset, hidden1_weights) + hidden1_biases), output_weights) + output_biases)\n",
    "    test_prediction = tf.nn.softmax(\n",
    "        tf.matmul(tf.nn.relu(tf.matmul(tf_test_dataset, hidden1_weights) + hidden1_biases), output_weights) + output_biases)"
   ]
  },
  {
   "cell_type": "code",
   "execution_count": 15,
   "metadata": {
    "collapsed": false
   },
   "outputs": [
    {
     "name": "stdout",
     "output_type": "stream",
     "text": [
      "変数を初期化しました\n",
      "Minibatch loss at step 0: 484.648895\n",
      "Minibatch accuracy: 10.2%\n",
      "Validation accuracy: 36.9%\n",
      "Minibatch loss at step 500: 1.123817\n",
      "Minibatch accuracy: 96.1%\n",
      "Validation accuracy: 80.9%\n",
      "Minibatch loss at step 1000: 0.385467\n",
      "Minibatch accuracy: 97.7%\n",
      "Validation accuracy: 81.7%\n",
      "Minibatch loss at step 1500: 0.011169\n",
      "Minibatch accuracy: 99.2%\n",
      "Validation accuracy: 81.5%\n",
      "Minibatch loss at step 2000: 0.096332\n",
      "Minibatch accuracy: 99.2%\n",
      "Validation accuracy: 81.8%\n",
      "Minibatch loss at step 2500: 0.186111\n",
      "Minibatch accuracy: 99.2%\n",
      "Validation accuracy: 82.1%\n",
      "Minibatch loss at step 3000: 0.047981\n",
      "Minibatch accuracy: 99.2%\n",
      "Validation accuracy: 82.1%\n",
      "Test accuracy: 89.3%\n"
     ]
    }
   ],
   "source": [
    "# ニューラルネットワークの実行（オーバーフィッティング + Dropout)\n",
    "# L2正則化前: Last Minibatch accuracy: 83.6%, Validation accuracy: 82.8%, Test accuracy: 89.8%\n",
    "# L2正則化後: Last Minibatch accuracy: 85.2%, Validation accuracy: 84.2%, Test accuracy: 91.0%\n",
    "# Overfitting: Last Minibatch accuracy: 100.0%, Validation accuracy: 79.7%, Test accuracy: 86.7%\n",
    "# ドロップアウト: Last Minibatch accuracy: 99.2%, Validation accuracy: 82.1%, Test accuracy: 89.3%\n",
    "num_steps = 3001\n",
    "n_samples = 3000 # トレーニングを3000件に制限する\n",
    "\n",
    "with tf.Session(graph=graph) as session:\n",
    "    tf.initialize_all_variables().run()\n",
    "    print(\"変数を初期化しました\")\n",
    "\n",
    "    for step in range(num_steps):\n",
    "        # Pick an offset within the training data, which has been randomized.\n",
    "        # Note: we could use better randomization across epochs.\n",
    "        offset = (step * batch_size) % (n_samples - batch_size)\n",
    "\n",
    "        # ミニバッチの作成\n",
    "        batch_data = train_dataset[offset:(offset + batch_size), :]\n",
    "        batch_labels = train_labels[offset:(offset + batch_size), :]\n",
    "\n",
    "        # Prepare a dictionary telling the session where to feed the minibatch.\n",
    "        # The key of the dictionary is the placeholder node of the graph to be fed,\n",
    "        # and the value is the numpy array to feed to it.\n",
    "        feed_dict = {tf_train_dataset : batch_data, tf_train_labels : batch_labels, keep_prob: 0.5 }\n",
    "        _, l, predictions = session.run(\n",
    "          [optimizer, loss, train_prediction], feed_dict=feed_dict)\n",
    "\n",
    "        if (step % 500 == 0):\n",
    "            print(\"Minibatch loss at step %d: %f\" % (step, l))\n",
    "            print(\"Minibatch accuracy: %.1f%%\" % accuracy(predictions, batch_labels))\n",
    "            print(\"Validation accuracy: %.1f%%\" % accuracy(valid_prediction.eval(), valid_labels))\n",
    "\n",
    "    print(\"Test accuracy: %.1f%%\" % accuracy(test_prediction.eval(), test_labels))"
   ]
  },
  {
   "cell_type": "markdown",
   "metadata": {
    "colab_type": "text",
    "id": "-b1hTz3VWZjw"
   },
   "source": [
    "---\n",
    "Problem 4\n",
    "---------\n",
    "\n",
    "Try to get the best performance you can using a multi-layer model! The best reported test accuracy using a deep network is [97.1%](http://yaroslavvb.blogspot.com/2011/09/notmnist-dataset.html?showComment=1391023266211#c8758720086795711595).\n",
    "\n",
    "One avenue you can explore is to add multiple layers.\n",
    "\n",
    "Another one is to use learning rate decay:\n",
    "\n",
    "    global_step = tf.Variable(0)  # count the number of steps taken.\n",
    "    learning_rate = tf.train.exponential_decay(0.5, global_step, ...)\n",
    "    optimizer = tf.train.GradientDescentOptimizer(learning_rate).minimize(loss, global_step=global_step)\n",
    " \n",
    "---\n",
    "\n",
    "実行結果 (Last Minibatch Accuracy, Validation Accuracy, Test Accuracy)\n",
    "\n",
    "* NN (784-1024-10): 83.6%, 82.8%, 89.8%\n",
    "* NN (784-1024-10 with L2): 85.2%, 84.2%, 91.0%\n",
    "---"
   ]
  }
 ],
 "metadata": {
  "colab": {
   "default_view": {},
   "name": "3_regularization.ipynb",
   "provenance": [],
   "version": "0.3.2",
   "views": {}
  },
  "kernelspec": {
   "display_name": "Python 3",
   "language": "python",
   "name": "python3"
  },
  "language_info": {
   "codemirror_mode": {
    "name": "ipython",
    "version": 3
   },
   "file_extension": ".py",
   "mimetype": "text/x-python",
   "name": "python",
   "nbconvert_exporter": "python",
   "pygments_lexer": "ipython3",
   "version": "3.5.2"
  }
 },
 "nbformat": 4,
 "nbformat_minor": 0
}
