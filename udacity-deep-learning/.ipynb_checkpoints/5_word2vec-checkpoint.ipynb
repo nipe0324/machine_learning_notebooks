{
 "cells": [
  {
   "cell_type": "markdown",
   "metadata": {
    "colab_type": "text",
    "id": "D7tqLMoKF6uq"
   },
   "source": [
    "Deep Learning\n",
    "=============\n",
    "\n",
    "Assignment 5\n",
    "------------\n",
    "\n",
    "The goal of this assignment is to train a Word2Vec skip-gram model over [Text8](http://mattmahoney.net/dc/textdata) data.\n",
    "\n",
    "このアサインメントのゴールは、Text8データで、Word2Vec スキップグラムモデルをトレーニングすることです。"
   ]
  },
  {
   "cell_type": "code",
   "execution_count": 1,
   "metadata": {
    "cellView": "both",
    "colab": {
     "autoexec": {
      "startup": false,
      "wait_interval": 0
     }
    },
    "colab_type": "code",
    "collapsed": true,
    "id": "0K1ZyLn04QZf"
   },
   "outputs": [],
   "source": [
    "# These are all the modules we'll be using later. Make sure you can import them\n",
    "# before proceeding further.\n",
    "%matplotlib inline\n",
    "from __future__ import print_function\n",
    "import collections\n",
    "import math\n",
    "import numpy as np\n",
    "import os\n",
    "import random\n",
    "import tensorflow as tf\n",
    "import zipfile\n",
    "from matplotlib import pylab\n",
    "from six.moves import range\n",
    "from six.moves.urllib.request import urlretrieve\n",
    "from sklearn.manifold import TSNE"
   ]
  },
  {
   "cell_type": "markdown",
   "metadata": {
    "colab_type": "text",
    "id": "aCjPJE944bkV"
   },
   "source": [
    "Download the data from the source website if necessary.\n",
    "\n",
    "必要な場合、ウェブサイトからデータをダウンロードする"
   ]
  },
  {
   "cell_type": "code",
   "execution_count": 2,
   "metadata": {
    "cellView": "both",
    "colab": {
     "autoexec": {
      "startup": false,
      "wait_interval": 0
     },
     "output_extras": [
      {
       "item_id": 1
      }
     ]
    },
    "colab_type": "code",
    "collapsed": false,
    "executionInfo": {
     "elapsed": 14640,
     "status": "ok",
     "timestamp": 1445964482948,
     "user": {
      "color": "#1FA15D",
      "displayName": "Vincent Vanhoucke",
      "isAnonymous": false,
      "isMe": true,
      "permissionId": "05076109866853157986",
      "photoUrl": "//lh6.googleusercontent.com/-cCJa7dTDcgQ/AAAAAAAAAAI/AAAAAAAACgw/r2EZ_8oYer4/s50-c-k-no/photo.jpg",
      "sessionId": "2f1ffade4c9f20de",
      "userId": "102167687554210253930"
     },
     "user_tz": 420
    },
    "id": "RJ-o3UBUFtCw",
    "outputId": "c4ec222c-80b5-4298-e635-93ca9f79c3b7"
   },
   "outputs": [
    {
     "name": "stdout",
     "output_type": "stream",
     "text": [
      "Found and verified text8.zip\n"
     ]
    }
   ],
   "source": [
    "url = 'http://mattmahoney.net/dc/'\n",
    "\n",
    "def maybe_download(filename, expected_bytes):\n",
    "    \"\"\"Download a file if not present, and make sure it's the right size.\"\"\"\n",
    "    if not os.path.exists(filename):\n",
    "        filename, _ = urlretrieve(url + filename, filename)\n",
    "    statinfo = os.stat(filename)\n",
    "    if statinfo.st_size == expected_bytes:\n",
    "        print('Found and verified %s' % filename)\n",
    "    else:\n",
    "        print(statinfo.st_size)\n",
    "        raise Exception(\n",
    "            'Failed to verify ' + filename + '. Can you get to it with a browser?')\n",
    "    return filename\n",
    "\n",
    "filename = maybe_download('text8.zip', 31344016)"
   ]
  },
  {
   "cell_type": "markdown",
   "metadata": {
    "colab_type": "text",
    "id": "Zqz3XiqI4mZT"
   },
   "source": [
    "Read the data into a string.\n",
    "\n",
    "データから文字列を読み込む"
   ]
  },
  {
   "cell_type": "code",
   "execution_count": 3,
   "metadata": {
    "cellView": "both",
    "colab": {
     "autoexec": {
      "startup": false,
      "wait_interval": 0
     },
     "output_extras": [
      {
       "item_id": 1
      }
     ]
    },
    "colab_type": "code",
    "collapsed": false,
    "executionInfo": {
     "elapsed": 28844,
     "status": "ok",
     "timestamp": 1445964497165,
     "user": {
      "color": "#1FA15D",
      "displayName": "Vincent Vanhoucke",
      "isAnonymous": false,
      "isMe": true,
      "permissionId": "05076109866853157986",
      "photoUrl": "//lh6.googleusercontent.com/-cCJa7dTDcgQ/AAAAAAAAAAI/AAAAAAAACgw/r2EZ_8oYer4/s50-c-k-no/photo.jpg",
      "sessionId": "2f1ffade4c9f20de",
      "userId": "102167687554210253930"
     },
     "user_tz": 420
    },
    "id": "Mvf09fjugFU_",
    "outputId": "e3a928b4-1645-4fe8-be17-fcf47de5716d"
   },
   "outputs": [
    {
     "name": "stdout",
     "output_type": "stream",
     "text": [
      "Data size 17005207\n"
     ]
    }
   ],
   "source": [
    "def read_data(filename):\n",
    "    \"\"\"Extract the first file enclosed in a zip file as a list of words\"\"\"\n",
    "    with zipfile.ZipFile(filename) as f:\n",
    "        data = tf.compat.as_str(f.read(f.namelist()[0])).split()\n",
    "    return data\n",
    "  \n",
    "words = read_data(filename)\n",
    "print('Data size %d' % len(words))"
   ]
  },
  {
   "cell_type": "markdown",
   "metadata": {
    "colab_type": "text",
    "id": "Zdw6i4F8glpp"
   },
   "source": [
    "Build the dictionary and replace rare words with UNK token.\n",
    "\n",
    "ディクショナリを作成し、レアなワードは、UNKトークンで置き換える"
   ]
  },
  {
   "cell_type": "code",
   "execution_count": 4,
   "metadata": {
    "cellView": "both",
    "colab": {
     "autoexec": {
      "startup": false,
      "wait_interval": 0
     },
     "output_extras": [
      {
       "item_id": 1
      }
     ]
    },
    "colab_type": "code",
    "collapsed": false,
    "executionInfo": {
     "elapsed": 28849,
     "status": "ok",
     "timestamp": 1445964497178,
     "user": {
      "color": "#1FA15D",
      "displayName": "Vincent Vanhoucke",
      "isAnonymous": false,
      "isMe": true,
      "permissionId": "05076109866853157986",
      "photoUrl": "//lh6.googleusercontent.com/-cCJa7dTDcgQ/AAAAAAAAAAI/AAAAAAAACgw/r2EZ_8oYer4/s50-c-k-no/photo.jpg",
      "sessionId": "2f1ffade4c9f20de",
      "userId": "102167687554210253930"
     },
     "user_tz": 420
    },
    "id": "gAL1EECXeZsD",
    "outputId": "3fb4ecd1-df67-44b6-a2dc-2291730970b2"
   },
   "outputs": [
    {
     "name": "stdout",
     "output_type": "stream",
     "text": [
      "Most common words (+UNK) [['UNK', 418391], ('the', 1061396), ('of', 593677), ('and', 416629), ('one', 411764)]\n",
      "Sample data [5241, 3083, 12, 6, 195, 2, 3136, 46, 59, 156]\n"
     ]
    }
   ],
   "source": [
    "vocabulary_size = 50000\n",
    "\n",
    "def build_dataset(words):\n",
    "    count = [['UNK', -1]]\n",
    "    count.extend(collections.Counter(words).most_common(vocabulary_size - 1))\n",
    "    dictionary = dict()\n",
    "    for word, _ in count:\n",
    "        dictionary[word] = len(dictionary)\n",
    "    data = list()\n",
    "    unk_count = 0\n",
    "    for word in words:\n",
    "        if word in dictionary:\n",
    "            index = dictionary[word]\n",
    "        else:\n",
    "            index = 0  # dictionary['UNK']\n",
    "            unk_count = unk_count + 1\n",
    "        data.append(index)\n",
    "    count[0][1] = unk_count\n",
    "    reverse_dictionary = dict(zip(dictionary.values(), dictionary.keys())) \n",
    "    return data, count, dictionary, reverse_dictionary\n",
    "\n",
    "data, count, dictionary, reverse_dictionary = build_dataset(words)\n",
    "print('Most common words (+UNK)', count[:5])\n",
    "print('Sample data', data[:10])\n",
    "del words  # Hint to reduce memory."
   ]
  },
  {
   "cell_type": "markdown",
   "metadata": {
    "colab_type": "text",
    "id": "lFwoyygOmWsL"
   },
   "source": [
    "Function to generate a training batch for the skip-gram model.\n",
    "\n",
    "スキップグラムモデルのためのトレーニングデータのバッチを作成する"
   ]
  },
  {
   "cell_type": "code",
   "execution_count": 5,
   "metadata": {
    "cellView": "both",
    "colab": {
     "autoexec": {
      "startup": false,
      "wait_interval": 0
     },
     "output_extras": [
      {
       "item_id": 1
      }
     ]
    },
    "colab_type": "code",
    "collapsed": false,
    "executionInfo": {
     "elapsed": 113,
     "status": "ok",
     "timestamp": 1445964901989,
     "user": {
      "color": "#1FA15D",
      "displayName": "Vincent Vanhoucke",
      "isAnonymous": false,
      "isMe": true,
      "permissionId": "05076109866853157986",
      "photoUrl": "//lh6.googleusercontent.com/-cCJa7dTDcgQ/AAAAAAAAAAI/AAAAAAAACgw/r2EZ_8oYer4/s50-c-k-no/photo.jpg",
      "sessionId": "2f1ffade4c9f20de",
      "userId": "102167687554210253930"
     },
     "user_tz": 420
    },
    "id": "w9APjA-zmfjV",
    "outputId": "67cccb02-cdaf-4e47-d489-43bcc8d57bb8"
   },
   "outputs": [
    {
     "name": "stdout",
     "output_type": "stream",
     "text": [
      "data: ['anarchism', 'originated', 'as', 'a', 'term', 'of', 'abuse', 'first']\n",
      "\n",
      "with num_skips = 2 and skip_window = 1:\n",
      "    batch: ['originated', 'originated', 'as', 'as', 'a', 'a', 'term', 'term']\n",
      "    labels: ['anarchism', 'as', 'originated', 'a', 'as', 'term', 'of', 'a']\n",
      "\n",
      "with num_skips = 4 and skip_window = 2:\n",
      "    batch: ['as', 'as', 'as', 'as', 'a', 'a', 'a', 'a']\n",
      "    labels: ['anarchism', 'originated', 'term', 'a', 'as', 'term', 'of', 'originated']\n"
     ]
    }
   ],
   "source": [
    "data_index = 0\n",
    "\n",
    "def generate_batch(batch_size, num_skips, skip_window):\n",
    "    global data_index\n",
    "    assert batch_size % num_skips == 0\n",
    "    assert num_skips <= 2 * skip_window\n",
    "    batch = np.ndarray(shape=(batch_size), dtype=np.int32)\n",
    "    labels = np.ndarray(shape=(batch_size, 1), dtype=np.int32)\n",
    "    span = 2 * skip_window + 1 # [ skip_window target skip_window ]\n",
    "    buffer = collections.deque(maxlen=span)\n",
    "    for _ in range(span):\n",
    "        buffer.append(data[data_index])\n",
    "        data_index = (data_index + 1) % len(data)\n",
    "    for i in range(batch_size // num_skips):\n",
    "        target = skip_window  # target label at the center of the buffer\n",
    "        targets_to_avoid = [ skip_window ]\n",
    "        for j in range(num_skips):\n",
    "            while target in targets_to_avoid:\n",
    "                target = random.randint(0, span - 1)\n",
    "            targets_to_avoid.append(target)\n",
    "            batch[i * num_skips + j] = buffer[skip_window]\n",
    "            labels[i * num_skips + j, 0] = buffer[target]\n",
    "        buffer.append(data[data_index])\n",
    "        data_index = (data_index + 1) % len(data)\n",
    "    return batch, labels\n",
    "\n",
    "print('data:', [reverse_dictionary[di] for di in data[:8]])\n",
    "\n",
    "for num_skips, skip_window in [(2, 1), (4, 2)]:\n",
    "    data_index = 0\n",
    "    batch, labels = generate_batch(batch_size=8, num_skips=num_skips, skip_window=skip_window)\n",
    "    print('\\nwith num_skips = %d and skip_window = %d:' % (num_skips, skip_window))\n",
    "    print('    batch:', [reverse_dictionary[bi] for bi in batch])\n",
    "    print('    labels:', [reverse_dictionary[li] for li in labels.reshape(8)])"
   ]
  },
  {
   "cell_type": "markdown",
   "metadata": {
    "colab_type": "text",
    "id": "Ofd1MbBuwiva"
   },
   "source": [
    "Train a skip-gram model.\n",
    "\n",
    "スキップグラムモデルをトレーニングする"
   ]
  },
  {
   "cell_type": "code",
   "execution_count": 6,
   "metadata": {
    "cellView": "both",
    "colab": {
     "autoexec": {
      "startup": false,
      "wait_interval": 0
     }
    },
    "colab_type": "code",
    "collapsed": true,
    "id": "8pQKsV4Vwlzy"
   },
   "outputs": [],
   "source": [
    "batch_size = 128\n",
    "embedding_size = 128 # Dimension of the embedding vector.\n",
    "skip_window = 1 # How many words to consider left and right.\n",
    "num_skips = 2 # How many times to reuse an input to generate a label.\n",
    "# We pick a random validation set to sample nearest neighbors. here we limit the\n",
    "# validation samples to the words that have a low numeric ID, which by\n",
    "# construction are also the most frequent. \n",
    "valid_size = 16 # Random set of words to evaluate similarity on.\n",
    "valid_window = 100 # Only pick dev samples in the head of the distribution.\n",
    "valid_examples = np.array(random.sample(range(valid_window), valid_size))\n",
    "num_sampled = 64 # Number of negative examples to sample.\n",
    "\n",
    "graph = tf.Graph()\n",
    "\n",
    "with graph.as_default(), tf.device('/cpu:0'):\n",
    "\n",
    "    # Input data.\n",
    "    train_dataset = tf.placeholder(tf.int32, shape=[batch_size])\n",
    "    train_labels = tf.placeholder(tf.int32, shape=[batch_size, 1])\n",
    "    valid_dataset = tf.constant(valid_examples, dtype=tf.int32)\n",
    "\n",
    "    # Variables.\n",
    "    embeddings = tf.Variable(\n",
    "    tf.random_uniform([vocabulary_size, embedding_size], -1.0, 1.0))\n",
    "    softmax_weights = tf.Variable(\n",
    "    tf.truncated_normal([vocabulary_size, embedding_size],\n",
    "                         stddev=1.0 / math.sqrt(embedding_size)))\n",
    "    softmax_biases = tf.Variable(tf.zeros([vocabulary_size]))\n",
    "\n",
    "    # Model.\n",
    "    # Look up embeddings for inputs.\n",
    "    embed = tf.nn.embedding_lookup(embeddings, train_dataset)\n",
    "    # Compute the softmax loss, using a sample of the negative labels each time.\n",
    "    loss = tf.reduce_mean(\n",
    "    tf.nn.sampled_softmax_loss(softmax_weights, softmax_biases, embed,\n",
    "                               train_labels, num_sampled, vocabulary_size))\n",
    "\n",
    "    # Optimizer.\n",
    "    # Note: The optimizer will optimize the softmax_weights AND the embeddings.\n",
    "    # This is because the embeddings are defined as a variable quantity and the\n",
    "    # optimizer's `minimize` method will by default modify all variable quantities \n",
    "    # that contribute to the tensor it is passed.\n",
    "    # See docs on `tf.train.Optimizer.minimize()` for more details.\n",
    "    optimizer = tf.train.AdagradOptimizer(1.0).minimize(loss)\n",
    "\n",
    "    # Compute the similarity between minibatch examples and all embeddings.\n",
    "    # We use the cosine distance:\n",
    "    norm = tf.sqrt(tf.reduce_sum(tf.square(embeddings), 1, keep_dims=True))\n",
    "    normalized_embeddings = embeddings / norm\n",
    "    valid_embeddings = tf.nn.embedding_lookup(\n",
    "    normalized_embeddings, valid_dataset)\n",
    "    similarity = tf.matmul(valid_embeddings, tf.transpose(normalized_embeddings))"
   ]
  },
  {
   "cell_type": "code",
   "execution_count": null,
   "metadata": {
    "cellView": "both",
    "colab": {
     "autoexec": {
      "startup": false,
      "wait_interval": 0
     },
     "output_extras": [
      {
       "item_id": 23
      },
      {
       "item_id": 48
      },
      {
       "item_id": 61
      }
     ]
    },
    "colab_type": "code",
    "collapsed": false,
    "executionInfo": {
     "elapsed": 436189,
     "status": "ok",
     "timestamp": 1445965429787,
     "user": {
      "color": "#1FA15D",
      "displayName": "Vincent Vanhoucke",
      "isAnonymous": false,
      "isMe": true,
      "permissionId": "05076109866853157986",
      "photoUrl": "//lh6.googleusercontent.com/-cCJa7dTDcgQ/AAAAAAAAAAI/AAAAAAAACgw/r2EZ_8oYer4/s50-c-k-no/photo.jpg",
      "sessionId": "2f1ffade4c9f20de",
      "userId": "102167687554210253930"
     },
     "user_tz": 420
    },
    "id": "1bQFGceBxrWW",
    "outputId": "5ebd6d9a-33c6-4bcd-bf6d-252b0b6055e4"
   },
   "outputs": [
    {
     "name": "stdout",
     "output_type": "stream",
     "text": [
      "Initialized\n",
      "Average loss at step 0: 8.067776\n",
      "Nearest to he: prudent, hplc, deianira, prd, september, holiness, offering, ability,\n",
      "Nearest to on: alfonso, rx, paucity, boaz, jerzy, laurence, vulnerabilities, effector,\n",
      "Nearest to or: bottom, radial, handset, narita, materialistic, turnout, rifts, cylinder,\n",
      "Nearest to two: discontinued, controversies, ministerial, steals, comit, interdependent, mateo, honshu,\n",
      "Nearest to no: apiaceae, erich, php, tall, roundel, oxidizes, sidereal, anthologized,\n",
      "Nearest to will: above, ramifications, wormholes, ky, prejudices, contra, nukem, apologised,\n",
      "Nearest to has: atheist, modernize, tariq, dispersal, module, romney, kato, algonquin,\n",
      "Nearest to in: serfs, greenhouses, fluorescent, keegan, confident, refering, kirov, moscow,\n",
      "Nearest to one: unita, diversify, pidgin, spassky, veil, imparting, flogging, aphids,\n",
      "Nearest to during: smells, directive, ponce, vip, uttering, japanese, diploma, wasted,\n",
      "Nearest to for: inflow, tatar, thorn, posit, danforth, caliphate, kenneth, gaon,\n",
      "Nearest to would: haines, grasping, destinations, dissected, accredited, randolph, morrissey, ncipe,\n",
      "Nearest to UNK: baptizing, hearse, process, vikernes, jour, canter, neurologist, meherabad,\n",
      "Nearest to they: practicality, scenario, antonia, gulag, brazen, intersputnik, slaughtered, flanks,\n",
      "Nearest to th: moncada, mountbatten, inhibits, transcription, grammarians, haggis, camcorder, policies,\n",
      "Nearest to used: stigma, triplet, theses, stalemate, strongly, circulation, oxides, neuroscientist,\n",
      "Average loss at step 2000: 4.360386\n",
      "Average loss at step 4000: 3.872195\n",
      "Average loss at step 6000: 3.786181\n",
      "Average loss at step 8000: 3.686962\n",
      "Average loss at step 10000: 3.617513\n",
      "Nearest to he: it, they, who, she, we, there, saucers, also,\n",
      "Nearest to on: in, by, from, jerzy, truck, theists, at, off,\n",
      "Nearest to or: and, warship, hipc, denham, joel, endosymbiosis, lascaris, jerzy,\n",
      "Nearest to two: five, three, four, eight, six, one, seven, nine,\n",
      "Nearest to no: it, shirt, who, a, telemann, caveat, portillo, communication,\n",
      "Nearest to will: above, can, would, ramifications, to, ky, epic, heinemann,\n",
      "Nearest to has: had, is, was, have, fulfills, tariq, but, presheaf,\n",
      "Nearest to in: of, on, from, with, biarritz, at, calibers, within,\n",
      "Nearest to one: two, six, three, four, seven, camelot, monophosphate, invaders,\n",
      "Nearest to during: directive, schultz, liberation, diploma, protests, evacuation, dueling, landmine,\n",
      "Nearest to for: of, big, nrsv, sever, incentive, inflow, strident, ronstadt,\n",
      "Nearest to would: can, will, haines, did, was, grasping, lowers, randolph,\n",
      "Nearest to UNK: ecclesiasticus, pipelined, angers, straddles, resume, sour, haden, bounced,\n",
      "Nearest to they: he, there, not, it, we, she, spurs, who,\n",
      "Nearest to th: inhibits, moncada, seven, camcorder, mountbatten, policies, transcription, four,\n",
      "Nearest to used: stigma, dwindling, referred, topography, triplet, receive, theses, found,\n",
      "Average loss at step 12000: 3.605307\n",
      "Average loss at step 14000: 3.571357\n",
      "Average loss at step 16000: 3.408573\n",
      "Average loss at step 18000: 3.463527\n",
      "Average loss at step 20000: 3.541918\n",
      "Nearest to he: it, they, who, she, there, we, reich, donaldson,\n",
      "Nearest to on: in, at, off, fricative, upon, gains, theists, kulak,\n",
      "Nearest to or: and, than, warship, sore, francophone, ten, jerzy, while,\n",
      "Nearest to two: three, five, four, six, seven, eight, one, zero,\n",
      "Nearest to no: it, typically, who, caveat, portillo, disquiet, cygwin, shirt,\n",
      "Nearest to will: would, can, may, should, could, to, must, might,\n",
      "Nearest to has: had, is, have, was, presheaf, alienate, fulfills, discounts,\n",
      "Nearest to in: at, on, from, around, calibers, with, for, and,\n",
      "Nearest to one: two, four, eight, three, six, seven, five, nine,\n",
      "Nearest to during: diploma, directive, after, liberation, opting, madrid, slade, vitality,\n",
      "Nearest to for: of, in, from, by, with, to, at, including,\n",
      "Nearest to would: will, can, may, should, could, cannot, must, did,\n",
      "Nearest to UNK: organizations, gained, streamlined, hundreds, com, etc, penultimate, landesverband,\n",
      "Nearest to they: we, he, there, it, not, who, she, spurs,\n",
      "Nearest to th: moncada, inhibits, four, camcorder, nairobi, rss, recourse, exam,\n",
      "Nearest to used: stigma, found, referred, dwindling, pds, published, triplet, known,\n",
      "Average loss at step 22000: 3.502400\n",
      "Average loss at step 24000: 3.489552\n",
      "Average loss at step 26000: 3.480133\n",
      "Average loss at step 28000: 3.479740\n",
      "Average loss at step 30000: 3.503524\n",
      "Nearest to he: it, she, they, who, there, we, this, never,\n",
      "Nearest to on: in, upon, through, theists, at, from, flasks, between,\n",
      "Nearest to or: and, but, as, trump, while, angilbert, brainchild, untrue,\n",
      "Nearest to two: four, three, one, five, six, seven, eight, zero,\n",
      "Nearest to no: any, nested, it, telemann, typically, this, a, apprentice,\n",
      "Nearest to will: would, can, may, could, should, must, cannot, might,\n",
      "Nearest to has: had, have, is, was, presheaf, discounts, fulfills, inconspicuous,\n",
      "Nearest to in: at, on, and, from, of, by, during, with,\n",
      "Nearest to one: two, four, seven, three, eight, six, five, nine,\n",
      "Nearest to during: after, in, when, slade, diploma, at, until, frankish,\n",
      "Nearest to for: of, nrsv, when, by, from, declares, during, reintegrated,\n",
      "Nearest to would: will, can, could, may, should, must, might, cannot,\n",
      "Nearest to UNK: angers, erupted, linger, hyi, grows, reciprocated, alternatively, nachrichten,\n",
      "Nearest to they: we, there, he, it, who, identifications, she, not,\n",
      "Nearest to th: six, eight, moncada, inhibits, seven, nairobi, four, telemetry,\n",
      "Nearest to used: known, found, published, stigma, pds, performed, dwindling, referred,\n",
      "Average loss at step 32000: 3.505244\n",
      "Average loss at step 34000: 3.493778\n",
      "Average loss at step 36000: 3.454051\n",
      "Average loss at step 38000: 3.305433\n",
      "Average loss at step 40000: 3.426500\n",
      "Nearest to he: she, it, they, who, there, i, we, then,\n",
      "Nearest to on: upon, theists, through, during, in, fricative, at, sinhalese,\n",
      "Nearest to or: and, than, troubleshooting, sore, tisdall, a, trigonometric, supergirl,\n",
      "Nearest to two: three, four, five, six, seven, one, eight, zero,\n",
      "Nearest to no: any, luther, typically, nested, apprentice, generally, sticking, islamabad,\n",
      "Nearest to will: can, would, could, may, should, must, cannot, might,\n",
      "Nearest to has: had, have, was, is, presheaf, fulfills, having, contains,\n",
      "Nearest to in: of, with, and, on, from, for, saar, at,\n",
      "Nearest to one: six, seven, two, four, five, eight, three, nine,\n",
      "Nearest to during: after, before, when, next, throughout, frankish, on, until,\n",
      "Nearest to for: in, original, strident, octagon, earliest, aau, big, when,\n",
      "Nearest to would: will, could, can, may, should, must, might, cannot,\n",
      "Nearest to UNK: b, d, jennifer, kevin, inuit, deutsches, r, h,\n",
      "Nearest to they: we, there, he, you, it, not, identifications, these,\n",
      "Nearest to th: moncada, five, nairobi, anthony, seven, inhibits, telemetry, nd,\n",
      "Nearest to used: found, known, referred, published, performed, seen, considered, pds,\n",
      "Average loss at step 42000: 3.432895\n",
      "Average loss at step 44000: 3.454967\n",
      "Average loss at step 46000: 3.451645\n",
      "Average loss at step 48000: 3.345168\n",
      "Average loss at step 50000: 3.383639\n",
      "Nearest to he: she, it, they, who, there, we, then, this,\n",
      "Nearest to on: upon, through, over, in, at, shrinking, importation, theists,\n",
      "Nearest to or: and, untrue, than, hosni, dialling, countdown, troubleshooting, jerzy,\n",
      "Nearest to two: three, one, four, six, seven, eight, five, zero,\n",
      "Nearest to no: any, nested, luther, typically, albertus, obtainable, he, generally,\n",
      "Nearest to will: would, can, could, may, should, must, might, cannot,\n",
      "Nearest to has: had, have, is, was, presheaf, contains, having, inconspicuous,\n",
      "Nearest to in: within, during, since, from, gst, of, on, and,\n",
      "Nearest to one: two, six, eight, four, three, seven, five, nine,\n",
      "Nearest to during: after, when, at, throughout, in, before, under, however,\n",
      "Nearest to for: while, nrsv, sever, slovakian, initial, among, including, calibers,\n",
      "Nearest to would: will, could, can, may, should, must, might, cannot,\n",
      "Nearest to UNK: makeover, ieung, touchdowns, freyr, heinrich, ap, grows, la,\n",
      "Nearest to they: he, we, there, she, it, you, identifications, these,\n",
      "Nearest to th: six, five, three, telemetry, nairobi, bce, moncada, ad,\n",
      "Nearest to used: known, referred, described, found, able, performed, written, seen,\n",
      "Average loss at step 52000: 3.436858\n"
     ]
    }
   ],
   "source": [
    "num_steps = 100001\n",
    "\n",
    "with tf.Session(graph=graph) as session:\n",
    "    tf.initialize_all_variables().run()\n",
    "    print('Initialized')\n",
    "    average_loss = 0\n",
    "    for step in range(num_steps):\n",
    "        batch_data, batch_labels = generate_batch(\n",
    "            batch_size, num_skips, skip_window)\n",
    "        feed_dict = {train_dataset : batch_data, train_labels : batch_labels}\n",
    "        _, l = session.run([optimizer, loss], feed_dict=feed_dict)\n",
    "        average_loss += l\n",
    "        if step % 2000 == 0:\n",
    "            if step > 0:\n",
    "                average_loss = average_loss / 2000\n",
    "            # The average loss is an estimate of the loss over the last 2000 batches.\n",
    "            print('Average loss at step %d: %f' % (step, average_loss))\n",
    "            average_loss = 0\n",
    "\n",
    "        # note that this is expensive (~20% slowdown if computed every 500 steps)\n",
    "        if step % 10000 == 0:\n",
    "            sim = similarity.eval()\n",
    "            for i in range(valid_size):\n",
    "                valid_word = reverse_dictionary[valid_examples[i]]\n",
    "                top_k = 8 # number of nearest neighbors\n",
    "                nearest = (-sim[i, :]).argsort()[1:top_k+1]\n",
    "                log = 'Nearest to %s:' % valid_word\n",
    "                for k in range(top_k):\n",
    "                    close_word = reverse_dictionary[nearest[k]]\n",
    "                    log = '%s %s,' % (log, close_word)\n",
    "                print(log)\n",
    "    final_embeddings = normalized_embeddings.eval()"
   ]
  },
  {
   "cell_type": "code",
   "execution_count": null,
   "metadata": {
    "cellView": "both",
    "colab": {
     "autoexec": {
      "startup": false,
      "wait_interval": 0
     }
    },
    "colab_type": "code",
    "collapsed": true,
    "id": "jjJXYA_XzV79"
   },
   "outputs": [],
   "source": [
    "num_points = 400\n",
    "\n",
    "tsne = TSNE(perplexity=30, n_components=2, init='pca', n_iter=5000)\n",
    "two_d_embeddings = tsne.fit_transform(final_embeddings[1:num_points+1, :])"
   ]
  },
  {
   "cell_type": "code",
   "execution_count": null,
   "metadata": {
    "cellView": "both",
    "colab": {
     "autoexec": {
      "startup": false,
      "wait_interval": 0
     },
     "output_extras": [
      {
       "item_id": 1
      }
     ]
    },
    "colab_type": "code",
    "collapsed": false,
    "executionInfo": {
     "elapsed": 4763,
     "status": "ok",
     "timestamp": 1445965465525,
     "user": {
      "color": "#1FA15D",
      "displayName": "Vincent Vanhoucke",
      "isAnonymous": false,
      "isMe": true,
      "permissionId": "05076109866853157986",
      "photoUrl": "//lh6.googleusercontent.com/-cCJa7dTDcgQ/AAAAAAAAAAI/AAAAAAAACgw/r2EZ_8oYer4/s50-c-k-no/photo.jpg",
      "sessionId": "2f1ffade4c9f20de",
      "userId": "102167687554210253930"
     },
     "user_tz": 420
    },
    "id": "o_e0D_UezcDe",
    "outputId": "df22e4a5-e8ec-4e5e-d384-c6cf37c68c34"
   },
   "outputs": [],
   "source": [
    "def plot(embeddings, labels):\n",
    "    assert embeddings.shape[0] >= len(labels), 'More labels than embeddings'\n",
    "    pylab.figure(figsize=(15,15))  # in inches\n",
    "    for i, label in enumerate(labels):\n",
    "        x, y = embeddings[i,:]\n",
    "        pylab.scatter(x, y)\n",
    "        pylab.annotate(label, xy=(x, y), xytext=(5, 2), textcoords='offset points',\n",
    "                       ha='right', va='bottom')\n",
    "    pylab.show()\n",
    "\n",
    "words = [reverse_dictionary[i] for i in range(1, num_points+1)]\n",
    "plot(two_d_embeddings, words)"
   ]
  },
  {
   "cell_type": "markdown",
   "metadata": {
    "colab_type": "text",
    "id": "QB5EFrBnpNnc"
   },
   "source": [
    "---\n",
    "\n",
    "Problem\n",
    "-------\n",
    "\n",
    "An alternative to skip-gram is another Word2Vec model called [CBOW](http://arxiv.org/abs/1301.3781) (Continuous Bag of Words). In the CBOW model, instead of predicting a context word from a word vector, you predict a word from the sum of all the word vectors in its context. Implement and evaluate a CBOW model trained on the text8 dataset.\n",
    "\n",
    "---"
   ]
  }
 ],
 "metadata": {
  "colab": {
   "default_view": {},
   "name": "5_word2vec.ipynb",
   "provenance": [],
   "version": "0.3.2",
   "views": {}
  },
  "kernelspec": {
   "display_name": "Python 3",
   "language": "python",
   "name": "python3"
  },
  "language_info": {
   "codemirror_mode": {
    "name": "ipython",
    "version": 3
   },
   "file_extension": ".py",
   "mimetype": "text/x-python",
   "name": "python",
   "nbconvert_exporter": "python",
   "pygments_lexer": "ipython3",
   "version": "3.5.2"
  }
 },
 "nbformat": 4,
 "nbformat_minor": 0
}
