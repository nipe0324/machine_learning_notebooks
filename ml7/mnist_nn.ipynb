{
 "cells": [
  {
   "cell_type": "markdown",
   "metadata": {},
   "source": [
    "# NNでMNIST \n",
    "\n",
    "認識精度: 91.7%\n",
    "\n",
    "\n",
    "モデル: Input (N x 784) (784 x10) => N x 10 Softmax"
   ]
  },
  {
   "cell_type": "code",
   "execution_count": 1,
   "metadata": {
    "collapsed": true
   },
   "outputs": [],
   "source": [
    "# ライブラリ読み込み\n",
    "from __future__ import absolute_import\n",
    "from __future__ import division\n",
    "from __future__ import print_function\n",
    "\n",
    "import tensorflow as tf"
   ]
  },
  {
   "cell_type": "code",
   "execution_count": 2,
   "metadata": {
    "collapsed": false
   },
   "outputs": [
    {
     "name": "stdout",
     "output_type": "stream",
     "text": [
      "Successfully downloaded train-images-idx3-ubyte.gz 9912422 bytes.\n",
      "Extracting /tmp/mnist/train-images-idx3-ubyte.gz\n",
      "Successfully downloaded train-labels-idx1-ubyte.gz 28881 bytes.\n",
      "Extracting /tmp/mnist/train-labels-idx1-ubyte.gz\n",
      "Successfully downloaded t10k-images-idx3-ubyte.gz 1648877 bytes.\n",
      "Extracting /tmp/mnist/t10k-images-idx3-ubyte.gz\n",
      "Successfully downloaded t10k-labels-idx1-ubyte.gz 4542 bytes.\n",
      "Extracting /tmp/mnist/t10k-labels-idx1-ubyte.gz\n"
     ]
    }
   ],
   "source": [
    "# データ読み込み\n",
    "from tensorflow.examples.tutorials.mnist import input_data\n",
    "mnist = input_data.read_data_sets('/tmp/mnist', one_hot=True)"
   ]
  },
  {
   "cell_type": "code",
   "execution_count": 7,
   "metadata": {
    "collapsed": false
   },
   "outputs": [
    {
     "name": "stdout",
     "output_type": "stream",
     "text": [
      "(55000, 784)\n",
      "(55000, 10)\n",
      "[ 0.  0.  0.  0.  0.  0.  0.  1.  0.  0.]\n"
     ]
    }
   ],
   "source": [
    "print(mnist.train.images.shape)\n",
    "print(mnist.train.labels.shape)\n",
    "print(mnist.train.labels[0])\n",
    "# mnist.validation.images\n",
    "# mnist.validation.labels\n",
    "# mnist.test.images\n",
    "# mnist.test.labels\n"
   ]
  },
  {
   "cell_type": "code",
   "execution_count": 3,
   "metadata": {
    "collapsed": true
   },
   "outputs": [],
   "source": [
    "# モデルの作成\n",
    "x = tf.placeholder(tf.float32, [None, 784]) # 入力値 Noneはバッチサイズによって実行時に指定\n",
    "W = tf.Variable(tf.zeros([784, 10])) # 重み \n",
    "b = tf.Variable(tf.zeros([10])) # バイアス\n",
    "y = tf.matmul(x, W) + b # 予測結果の算出 XW + b\n",
    "\n",
    "y_ = tf.placeholder(tf.float32, [None, 10]) # 正解ラベル"
   ]
  },
  {
   "cell_type": "code",
   "execution_count": 4,
   "metadata": {
    "collapsed": true
   },
   "outputs": [],
   "source": [
    "# 損失関数\n",
    "cross_entropy = tf.reduce_mean(tf.nn.softmax_cross_entropy_with_logits(y, y_))"
   ]
  },
  {
   "cell_type": "code",
   "execution_count": 5,
   "metadata": {
    "collapsed": true
   },
   "outputs": [],
   "source": [
    "# 最適化関数 Gradient Descent、Learning Rate 0.5、損失関数 cross_entropy\n",
    "train_step = tf.train.GradientDescentOptimizer(0.5).minimize(cross_entropy)"
   ]
  },
  {
   "cell_type": "code",
   "execution_count": 6,
   "metadata": {
    "collapsed": true
   },
   "outputs": [],
   "source": [
    "# 精度の計算式\n",
    "correct_prediction = tf.equal(tf.argmax(y, 1), tf.argmax(y_, 1))\n",
    "accuracy = tf.reduce_mean(tf.cast(correct_prediction, tf.float32))"
   ]
  },
  {
   "cell_type": "code",
   "execution_count": 7,
   "metadata": {
    "collapsed": false
   },
   "outputs": [
    {
     "name": "stdout",
     "output_type": "stream",
     "text": [
      "step    0, loss = 2.30, train acc = 0.120 , cv acc = 0.414\n",
      "step  100, loss = 0.27, train acc = 0.950 , cv acc = 0.898\n",
      "step  200, loss = 0.29, train acc = 0.930 , cv acc = 0.903\n",
      "step  300, loss = 0.23, train acc = 0.950 , cv acc = 0.912\n",
      "step  400, loss = 0.54, train acc = 0.880 , cv acc = 0.910\n",
      "step  500, loss = 0.27, train acc = 0.920 , cv acc = 0.916\n",
      "step  600, loss = 0.23, train acc = 0.950 , cv acc = 0.914\n",
      "step  700, loss = 0.27, train acc = 0.920 , cv acc = 0.912\n",
      "step  800, loss = 0.37, train acc = 0.900 , cv acc = 0.920\n",
      "step  900, loss = 0.24, train acc = 0.930 , cv acc = 0.917\n",
      "test acc 0.9192\n"
     ]
    }
   ],
   "source": [
    "# トレーニングの実施\n",
    "with tf.Session() as sess:\n",
    "    sess.run(tf.initialize_all_variables()) # 変数の初期化（おまじない）\n",
    "\n",
    "    for step in range(1000): # トレーニング回数 10,00回\n",
    "        batch_xs, batch_ys = mnist.train.next_batch(100) # バッチサイズ 100\n",
    "        _, loss_value, train_acc = sess.run([train_step, cross_entropy, accuracy],\n",
    "            feed_dict={x: batch_xs, y_: batch_ys }) # placeholderに値セット\n",
    "\n",
    "        # 進捗の表示\n",
    "        if step % 100 == 0:\n",
    "            cv_acc = sess.run(accuracy, feed_dict={x: mnist.validation.images, y_: mnist.validation.labels})\n",
    "            print('step %4d, loss = %.2f, train acc = %.3f , cv acc = %.3f' % (\n",
    "                    step, loss_value, train_acc, cv_acc))\n",
    "\n",
    "    # トレーニング後にテストセットで精度の表示\n",
    "    print(\"test acc %g\" % accuracy.eval(feed_dict={\n",
    "                x: mnist.test.images, y_: mnist.test.labels}))"
   ]
  }
 ],
 "metadata": {
  "kernelspec": {
   "display_name": "Python 3",
   "language": "python",
   "name": "python3"
  },
  "language_info": {
   "codemirror_mode": {
    "name": "ipython",
    "version": 3
   },
   "file_extension": ".py",
   "mimetype": "text/x-python",
   "name": "python",
   "nbconvert_exporter": "python",
   "pygments_lexer": "ipython3",
   "version": "3.5.1"
  }
 },
 "nbformat": 4,
 "nbformat_minor": 1
}
