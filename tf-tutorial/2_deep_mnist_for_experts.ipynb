{
 "cells": [
  {
   "cell_type": "markdown",
   "metadata": {},
   "source": [
    "# CNNでMNISTを分類"
   ]
  },
  {
   "cell_type": "code",
   "execution_count": 1,
   "metadata": {
    "collapsed": true
   },
   "outputs": [],
   "source": [
    "# ライブラリをインポート\n",
    "import tensorflow as tf"
   ]
  },
  {
   "cell_type": "code",
   "execution_count": 2,
   "metadata": {
    "collapsed": false
   },
   "outputs": [
    {
     "name": "stdout",
     "output_type": "stream",
     "text": [
      "Extracting /tmp/data/train-images-idx3-ubyte.gz\n",
      "Extracting /tmp/data/train-labels-idx1-ubyte.gz\n",
      "Extracting /tmp/data/t10k-images-idx3-ubyte.gz\n",
      "Extracting /tmp/data/t10k-labels-idx1-ubyte.gz\n"
     ]
    }
   ],
   "source": [
    "# MNISTデータをロード\n",
    "from tensorflow.examples.tutorials.mnist import input_data\n",
    "mnist = input_data.read_data_sets('/tmp/data', one_hot=True)"
   ]
  },
  {
   "cell_type": "code",
   "execution_count": 3,
   "metadata": {
    "collapsed": true
   },
   "outputs": [],
   "source": [
    "# 入力値の宣言\n",
    "x = tf.placeholder(tf.float32, shape=[None, 784])\n",
    "y_ = tf.placeholder(tf.float32, shape=[None, 10])"
   ]
  },
  {
   "cell_type": "code",
   "execution_count": 4,
   "metadata": {
    "collapsed": false
   },
   "outputs": [],
   "source": [
    "# 重みとバイアスを宣言\n",
    "W = tf.Variable(tf.zeros([784, 10]))\n",
    "b = tf.Variable(tf.zeros([10]))"
   ]
  },
  {
   "cell_type": "code",
   "execution_count": 5,
   "metadata": {
    "collapsed": false
   },
   "outputs": [],
   "source": [
    "# 予測の計算式を定義\n",
    "y = tf.matmul(x, W) + b"
   ]
  },
  {
   "cell_type": "code",
   "execution_count": 6,
   "metadata": {
    "collapsed": true
   },
   "outputs": [],
   "source": [
    "# 損失関数の定義\n",
    "cross_entropy = tf.reduce_mean(tf.nn.softmax_cross_entropy_with_logits(y, y_))"
   ]
  },
  {
   "cell_type": "code",
   "execution_count": 7,
   "metadata": {
    "collapsed": true
   },
   "outputs": [],
   "source": [
    "# Optimizerの定義\n",
    "train_step = tf.train.GradientDescentOptimizer(0.5).minimize(cross_entropy)"
   ]
  },
  {
   "cell_type": "code",
   "execution_count": 8,
   "metadata": {
    "collapsed": true
   },
   "outputs": [],
   "source": [
    "# 精度を測る計算式を定義\n",
    "correct_prediction = tf.equal(tf.argmax(y, 1), tf.argmax(y_, 1))\n",
    "accuracy = tf.reduce_mean(tf.cast(correct_prediction, tf.float32))"
   ]
  },
  {
   "cell_type": "code",
   "execution_count": 9,
   "metadata": {
    "collapsed": false
   },
   "outputs": [
    {
     "name": "stdout",
     "output_type": "stream",
     "text": [
      "Accuracy: 0.9159\n"
     ]
    }
   ],
   "source": [
    "# トレーニングの実施\n",
    "sess = tf.Session()\n",
    "sess.run(tf.initialize_all_variables())\n",
    "\n",
    "for i in range(1000):\n",
    "    batch_xs, batch_ys = mnist.train.next_batch(100)\n",
    "    sess.run(train_step, feed_dict={ x: batch_xs, y_: batch_ys })\n",
    "    \n",
    "acc = sess.run(accuracy, feed_dict={ x: mnist.test.images, y_: mnist.test.labels })\n",
    "print('Accuracy:', acc)"
   ]
  },
  {
   "cell_type": "markdown",
   "metadata": {},
   "source": [
    "### CNNを実装"
   ]
  },
  {
   "cell_type": "code",
   "execution_count": 10,
   "metadata": {
    "collapsed": true
   },
   "outputs": [],
   "source": [
    "# 重みの初期化\n",
    "def weight_variable(shape):\n",
    "    initial = tf.truncated_normal(shape, stddev=0.1)\n",
    "    return tf.Variable(initial)\n",
    "\n",
    "def bias_variable(shape):\n",
    "    initial = tf.constant(0.1, shape=shape)\n",
    "    return tf.Variable(initial)"
   ]
  },
  {
   "cell_type": "code",
   "execution_count": 11,
   "metadata": {
    "collapsed": true
   },
   "outputs": [],
   "source": [
    "# conv2dとmax_poolのラッパーを定義\n",
    "def conv2d(x, W):\n",
    "    return tf.nn.conv2d(x, W, strides=[1, 1, 1, 1], padding='SAME')\n",
    "\n",
    "def max_pool_2x2(x):\n",
    "    return tf.nn.max_pool(x, ksize=[1, 2, 2, 1], strides=[1, 2, 2, 1], padding='SAME')"
   ]
  },
  {
   "cell_type": "code",
   "execution_count": 12,
   "metadata": {
    "collapsed": true
   },
   "outputs": [],
   "source": [
    "# 1層目\n",
    "W_conv1 = weight_variable([5, 5, 1, 32])\n",
    "b_conv1 = bias_variable([32])\n",
    "\n",
    "x_image = tf.reshape(x, [-1, 28, 28, 1])\n",
    "\n",
    "h_conv1 = tf.nn.relu(conv2d(x_image, W_conv1) + b_conv1)\n",
    "h_pool1 = max_pool_2x2(h_conv1)"
   ]
  },
  {
   "cell_type": "code",
   "execution_count": 13,
   "metadata": {
    "collapsed": true
   },
   "outputs": [],
   "source": [
    "# 2層目\n",
    "W_conv2 = weight_variable([5, 5, 32, 64])\n",
    "b_conv2 = bias_variable([64])\n",
    "\n",
    "h_conv2 = tf.nn.relu(conv2d(h_pool1, W_conv2) + b_conv2)\n",
    "h_pool2 = max_pool_2x2(h_conv2)"
   ]
  },
  {
   "cell_type": "code",
   "execution_count": 14,
   "metadata": {
    "collapsed": true
   },
   "outputs": [],
   "source": [
    "# 全結合層\n",
    "W_fc1 = weight_variable([7 * 7 * 64, 1024])\n",
    "b_fc1 = bias_variable([1024])\n",
    "\n",
    "h_pool2_flat = tf.reshape(h_pool2, [-1, 7 * 7 * 64])\n",
    "h_fc1 = tf.nn.relu(tf.matmul(h_pool2_flat, W_fc1) + b_fc1)"
   ]
  },
  {
   "cell_type": "code",
   "execution_count": 15,
   "metadata": {
    "collapsed": false
   },
   "outputs": [],
   "source": [
    "# dropout\n",
    "keep_prob = tf.placeholder(tf.float32)\n",
    "h_fc1_drop = tf.nn.dropout(h_fc1, keep_prob)"
   ]
  },
  {
   "cell_type": "code",
   "execution_count": 16,
   "metadata": {
    "collapsed": true
   },
   "outputs": [],
   "source": [
    "# Softmax層\n",
    "W_fc2 = weight_variable([1024, 10])\n",
    "b_fc2 = bias_variable([10])\n",
    "\n",
    "y_conv = tf.nn.softmax(tf.matmul(h_fc1_drop, W_fc2) + b_fc2)"
   ]
  },
  {
   "cell_type": "code",
   "execution_count": 17,
   "metadata": {
    "collapsed": true
   },
   "outputs": [],
   "source": [
    "# 損失関数、最適化、精度測定\n",
    "cross_entropy = tf.reduce_mean(-tf.reduce_sum(y_ * tf.log(y_conv), reduction_indices=[1]))\n",
    "\n",
    "train_step = tf.train.AdamOptimizer(1e-4).minimize(cross_entropy)\n",
    "\n",
    "correct_prediction = tf.equal(tf.argmax(y_conv,1), tf.argmax(y_,1))\n",
    "accuracy = tf.reduce_mean(tf.cast(correct_prediction, tf.float32))"
   ]
  },
  {
   "cell_type": "code",
   "execution_count": 18,
   "metadata": {
    "collapsed": false
   },
   "outputs": [
    {
     "name": "stdout",
     "output_type": "stream",
     "text": [
      "2016-11-05 15:05:14.643434: step 0, train acc 0.06, loss 5.67051 (0.258 sec/batch)\n",
      "2016-11-05 15:05:34.682507: step 100, train acc 0.92, loss 0.28518 (0.189 sec/batch)\n",
      "2016-11-05 15:05:54.168639: step 200, train acc 0.96, loss 0.29663 (0.348 sec/batch)\n",
      "2016-11-05 15:06:13.482923: step 300, train acc 1, loss 0.08760 (0.197 sec/batch)\n",
      "2016-11-05 15:06:32.833418: step 400, train acc 0.88, loss 0.26436 (0.193 sec/batch)\n",
      "2016-11-05 15:06:52.129254: step 500, train acc 0.96, loss 0.13850 (0.193 sec/batch)\n",
      "2016-11-05 15:07:12.089013: step 600, train acc 0.9, loss 0.30483 (0.199 sec/batch)\n",
      "2016-11-05 15:07:32.666849: step 700, train acc 0.94, loss 0.21164 (0.199 sec/batch)\n",
      "2016-11-05 15:07:54.720464: step 800, train acc 0.9, loss 0.38133 (0.215 sec/batch)\n",
      "2016-11-05 15:08:15.176484: step 900, train acc 0.98, loss 0.11423 (0.192 sec/batch)\n",
      "2016-11-05 15:08:36.772496: step 1000, train acc 0.96, loss 0.10210 (0.195 sec/batch)\n",
      "2016-11-05 15:08:57.395058: step 1100, train acc 0.94, loss 0.16225 (0.228 sec/batch)\n",
      "2016-11-05 15:09:18.292883: step 1200, train acc 0.98, loss 0.08428 (0.216 sec/batch)\n",
      "2016-11-05 15:09:41.803576: step 1300, train acc 0.88, loss 0.26530 (0.375 sec/batch)\n",
      "2016-11-05 15:10:05.580594: step 1400, train acc 1, loss 0.06696 (0.197 sec/batch)\n",
      "2016-11-05 15:10:28.008813: step 1500, train acc 0.94, loss 0.11947 (0.199 sec/batch)\n",
      "2016-11-05 15:10:50.097418: step 1600, train acc 0.98, loss 0.03407 (0.225 sec/batch)\n",
      "2016-11-05 15:11:11.507866: step 1700, train acc 0.98, loss 0.05076 (0.192 sec/batch)\n",
      "2016-11-05 15:11:34.867350: step 1800, train acc 1, loss 0.02060 (0.194 sec/batch)\n",
      "2016-11-05 15:11:57.214522: step 1900, train acc 0.98, loss 0.07123 (0.200 sec/batch)\n"
     ]
    }
   ],
   "source": [
    "# トレーニング\n",
    "import time\n",
    "from datetime import datetime\n",
    "\n",
    "batch_size = 50\n",
    "\n",
    "sess = tf.Session()\n",
    "sess.run(tf.initialize_all_variables())\n",
    "\n",
    "for i in range(2000):\n",
    "    start_time = time.time()\n",
    "    batch_xs, batch_ys = mnist.train.next_batch(batch_size)\n",
    "    sess.run(train_step, feed_dict={x: batch_xs, y_: batch_ys, keep_prob: 0.5})\n",
    "    duration = time.time() - start_time\n",
    "\n",
    "    # print progression\n",
    "    if i %100 == 0:\n",
    "        loss_value, train_acc = sess.run([cross_entropy, accuracy], feed_dict={\n",
    "                x:batch_xs, y_: batch_ys, keep_prob: 1.0})\n",
    "        print(\"%s: step %d, train acc %g, loss %.5f (%.3f sec/batch)\" % (datetime.now(), i, train_acc, loss_value, float(duration) ))"
   ]
  },
  {
   "cell_type": "code",
   "execution_count": 26,
   "metadata": {
    "collapsed": false
   },
   "outputs": [
    {
     "name": "stdout",
     "output_type": "stream",
     "text": [
      "Validation accurary: 0.9758\n"
     ]
    }
   ],
   "source": [
    "# accuracy\n",
    "val_acc = sess.run(accuracy, feed_dict={ x: mnist.validation.images, y_: mnist.validation.labels, keep_prob: 1.0 })\n",
    "print('Validation accurary:', val_acc)"
   ]
  }
 ],
 "metadata": {
  "kernelspec": {
   "display_name": "Python 3",
   "language": "python",
   "name": "python3"
  },
  "language_info": {
   "codemirror_mode": {
    "name": "ipython",
    "version": 3
   },
   "file_extension": ".py",
   "mimetype": "text/x-python",
   "name": "python",
   "nbconvert_exporter": "python",
   "pygments_lexer": "ipython3",
   "version": "3.5.2"
  }
 },
 "nbformat": 4,
 "nbformat_minor": 1
}
